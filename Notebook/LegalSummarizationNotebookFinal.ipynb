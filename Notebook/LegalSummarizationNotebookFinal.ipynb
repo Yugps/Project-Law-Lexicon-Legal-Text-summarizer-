{
  "metadata": {
    "colab": {
      "provenance": [],
      "gpuType": "T4"
    },
    "kernelspec": {
      "name": "python3",
      "display_name": "Python 3"
    },
    "language_info": {
      "name": "python",
      "version": "3.10.13",
      "mimetype": "text/x-python",
      "codemirror_mode": {
        "name": "ipython",
        "version": 3
      },
      "pygments_lexer": "ipython3",
      "nbconvert_exporter": "python",
      "file_extension": ".py"
    },
    "widgets": {
      "application/vnd.jupyter.widget-state+json": {
        "ae5af13620bb489e9bff446e92c1a6ff": {
          "model_module": "@jupyter-widgets/controls",
          "model_name": "HBoxModel",
          "model_module_version": "1.5.0",
          "state": {
            "_dom_classes": [],
            "_model_module": "@jupyter-widgets/controls",
            "_model_module_version": "1.5.0",
            "_model_name": "HBoxModel",
            "_view_count": null,
            "_view_module": "@jupyter-widgets/controls",
            "_view_module_version": "1.5.0",
            "_view_name": "HBoxView",
            "box_style": "",
            "children": [
              "IPY_MODEL_40efa0496ca0489abfe2938f9a2f01b5",
              "IPY_MODEL_8b5facd0cae5456dba621f6cd8a7fbbd",
              "IPY_MODEL_4b95d8a9058748f7aaec59541afb2f21"
            ],
            "layout": "IPY_MODEL_c967f9fee6af4959a0e0b2bdb673a494"
          }
        },
        "40efa0496ca0489abfe2938f9a2f01b5": {
          "model_module": "@jupyter-widgets/controls",
          "model_name": "HTMLModel",
          "model_module_version": "1.5.0",
          "state": {
            "_dom_classes": [],
            "_model_module": "@jupyter-widgets/controls",
            "_model_module_version": "1.5.0",
            "_model_name": "HTMLModel",
            "_view_count": null,
            "_view_module": "@jupyter-widgets/controls",
            "_view_module_version": "1.5.0",
            "_view_name": "HTMLView",
            "description": "",
            "description_tooltip": null,
            "layout": "IPY_MODEL_eaf8dbab02ae47f6aff91af4eeb3624c",
            "placeholder": "​",
            "style": "IPY_MODEL_76362e0cd56f4167987b35eee6fad8f9",
            "value": "tokenizer_config.json: 100%"
          }
        },
        "8b5facd0cae5456dba621f6cd8a7fbbd": {
          "model_module": "@jupyter-widgets/controls",
          "model_name": "FloatProgressModel",
          "model_module_version": "1.5.0",
          "state": {
            "_dom_classes": [],
            "_model_module": "@jupyter-widgets/controls",
            "_model_module_version": "1.5.0",
            "_model_name": "FloatProgressModel",
            "_view_count": null,
            "_view_module": "@jupyter-widgets/controls",
            "_view_module_version": "1.5.0",
            "_view_name": "ProgressView",
            "bar_style": "success",
            "description": "",
            "description_tooltip": null,
            "layout": "IPY_MODEL_ba91b1eca5d94b19bb39466ce54c1501",
            "max": 1320,
            "min": 0,
            "orientation": "horizontal",
            "style": "IPY_MODEL_b798e15f932b4f54a7c4ab28b949093e",
            "value": 1320
          }
        },
        "4b95d8a9058748f7aaec59541afb2f21": {
          "model_module": "@jupyter-widgets/controls",
          "model_name": "HTMLModel",
          "model_module_version": "1.5.0",
          "state": {
            "_dom_classes": [],
            "_model_module": "@jupyter-widgets/controls",
            "_model_module_version": "1.5.0",
            "_model_name": "HTMLModel",
            "_view_count": null,
            "_view_module": "@jupyter-widgets/controls",
            "_view_module_version": "1.5.0",
            "_view_name": "HTMLView",
            "description": "",
            "description_tooltip": null,
            "layout": "IPY_MODEL_39cf9937c5f446c0904b23e16c5c634c",
            "placeholder": "​",
            "style": "IPY_MODEL_fd3a6e067ab44ab388c2a2eb1def9156",
            "value": " 1.32k/1.32k [00:00&lt;00:00, 54.7kB/s]"
          }
        },
        "c967f9fee6af4959a0e0b2bdb673a494": {
          "model_module": "@jupyter-widgets/base",
          "model_name": "LayoutModel",
          "model_module_version": "1.2.0",
          "state": {
            "_model_module": "@jupyter-widgets/base",
            "_model_module_version": "1.2.0",
            "_model_name": "LayoutModel",
            "_view_count": null,
            "_view_module": "@jupyter-widgets/base",
            "_view_module_version": "1.2.0",
            "_view_name": "LayoutView",
            "align_content": null,
            "align_items": null,
            "align_self": null,
            "border": null,
            "bottom": null,
            "display": null,
            "flex": null,
            "flex_flow": null,
            "grid_area": null,
            "grid_auto_columns": null,
            "grid_auto_flow": null,
            "grid_auto_rows": null,
            "grid_column": null,
            "grid_gap": null,
            "grid_row": null,
            "grid_template_areas": null,
            "grid_template_columns": null,
            "grid_template_rows": null,
            "height": null,
            "justify_content": null,
            "justify_items": null,
            "left": null,
            "margin": null,
            "max_height": null,
            "max_width": null,
            "min_height": null,
            "min_width": null,
            "object_fit": null,
            "object_position": null,
            "order": null,
            "overflow": null,
            "overflow_x": null,
            "overflow_y": null,
            "padding": null,
            "right": null,
            "top": null,
            "visibility": null,
            "width": null
          }
        },
        "eaf8dbab02ae47f6aff91af4eeb3624c": {
          "model_module": "@jupyter-widgets/base",
          "model_name": "LayoutModel",
          "model_module_version": "1.2.0",
          "state": {
            "_model_module": "@jupyter-widgets/base",
            "_model_module_version": "1.2.0",
            "_model_name": "LayoutModel",
            "_view_count": null,
            "_view_module": "@jupyter-widgets/base",
            "_view_module_version": "1.2.0",
            "_view_name": "LayoutView",
            "align_content": null,
            "align_items": null,
            "align_self": null,
            "border": null,
            "bottom": null,
            "display": null,
            "flex": null,
            "flex_flow": null,
            "grid_area": null,
            "grid_auto_columns": null,
            "grid_auto_flow": null,
            "grid_auto_rows": null,
            "grid_column": null,
            "grid_gap": null,
            "grid_row": null,
            "grid_template_areas": null,
            "grid_template_columns": null,
            "grid_template_rows": null,
            "height": null,
            "justify_content": null,
            "justify_items": null,
            "left": null,
            "margin": null,
            "max_height": null,
            "max_width": null,
            "min_height": null,
            "min_width": null,
            "object_fit": null,
            "object_position": null,
            "order": null,
            "overflow": null,
            "overflow_x": null,
            "overflow_y": null,
            "padding": null,
            "right": null,
            "top": null,
            "visibility": null,
            "width": null
          }
        },
        "76362e0cd56f4167987b35eee6fad8f9": {
          "model_module": "@jupyter-widgets/controls",
          "model_name": "DescriptionStyleModel",
          "model_module_version": "1.5.0",
          "state": {
            "_model_module": "@jupyter-widgets/controls",
            "_model_module_version": "1.5.0",
            "_model_name": "DescriptionStyleModel",
            "_view_count": null,
            "_view_module": "@jupyter-widgets/base",
            "_view_module_version": "1.2.0",
            "_view_name": "StyleView",
            "description_width": ""
          }
        },
        "ba91b1eca5d94b19bb39466ce54c1501": {
          "model_module": "@jupyter-widgets/base",
          "model_name": "LayoutModel",
          "model_module_version": "1.2.0",
          "state": {
            "_model_module": "@jupyter-widgets/base",
            "_model_module_version": "1.2.0",
            "_model_name": "LayoutModel",
            "_view_count": null,
            "_view_module": "@jupyter-widgets/base",
            "_view_module_version": "1.2.0",
            "_view_name": "LayoutView",
            "align_content": null,
            "align_items": null,
            "align_self": null,
            "border": null,
            "bottom": null,
            "display": null,
            "flex": null,
            "flex_flow": null,
            "grid_area": null,
            "grid_auto_columns": null,
            "grid_auto_flow": null,
            "grid_auto_rows": null,
            "grid_column": null,
            "grid_gap": null,
            "grid_row": null,
            "grid_template_areas": null,
            "grid_template_columns": null,
            "grid_template_rows": null,
            "height": null,
            "justify_content": null,
            "justify_items": null,
            "left": null,
            "margin": null,
            "max_height": null,
            "max_width": null,
            "min_height": null,
            "min_width": null,
            "object_fit": null,
            "object_position": null,
            "order": null,
            "overflow": null,
            "overflow_x": null,
            "overflow_y": null,
            "padding": null,
            "right": null,
            "top": null,
            "visibility": null,
            "width": null
          }
        },
        "b798e15f932b4f54a7c4ab28b949093e": {
          "model_module": "@jupyter-widgets/controls",
          "model_name": "ProgressStyleModel",
          "model_module_version": "1.5.0",
          "state": {
            "_model_module": "@jupyter-widgets/controls",
            "_model_module_version": "1.5.0",
            "_model_name": "ProgressStyleModel",
            "_view_count": null,
            "_view_module": "@jupyter-widgets/base",
            "_view_module_version": "1.2.0",
            "_view_name": "StyleView",
            "bar_color": null,
            "description_width": ""
          }
        },
        "39cf9937c5f446c0904b23e16c5c634c": {
          "model_module": "@jupyter-widgets/base",
          "model_name": "LayoutModel",
          "model_module_version": "1.2.0",
          "state": {
            "_model_module": "@jupyter-widgets/base",
            "_model_module_version": "1.2.0",
            "_model_name": "LayoutModel",
            "_view_count": null,
            "_view_module": "@jupyter-widgets/base",
            "_view_module_version": "1.2.0",
            "_view_name": "LayoutView",
            "align_content": null,
            "align_items": null,
            "align_self": null,
            "border": null,
            "bottom": null,
            "display": null,
            "flex": null,
            "flex_flow": null,
            "grid_area": null,
            "grid_auto_columns": null,
            "grid_auto_flow": null,
            "grid_auto_rows": null,
            "grid_column": null,
            "grid_gap": null,
            "grid_row": null,
            "grid_template_areas": null,
            "grid_template_columns": null,
            "grid_template_rows": null,
            "height": null,
            "justify_content": null,
            "justify_items": null,
            "left": null,
            "margin": null,
            "max_height": null,
            "max_width": null,
            "min_height": null,
            "min_width": null,
            "object_fit": null,
            "object_position": null,
            "order": null,
            "overflow": null,
            "overflow_x": null,
            "overflow_y": null,
            "padding": null,
            "right": null,
            "top": null,
            "visibility": null,
            "width": null
          }
        },
        "fd3a6e067ab44ab388c2a2eb1def9156": {
          "model_module": "@jupyter-widgets/controls",
          "model_name": "DescriptionStyleModel",
          "model_module_version": "1.5.0",
          "state": {
            "_model_module": "@jupyter-widgets/controls",
            "_model_module_version": "1.5.0",
            "_model_name": "DescriptionStyleModel",
            "_view_count": null,
            "_view_module": "@jupyter-widgets/base",
            "_view_module_version": "1.2.0",
            "_view_name": "StyleView",
            "description_width": ""
          }
        },
        "019ac9e80f2e44c0a529b661df0f0d1f": {
          "model_module": "@jupyter-widgets/controls",
          "model_name": "HBoxModel",
          "model_module_version": "1.5.0",
          "state": {
            "_dom_classes": [],
            "_model_module": "@jupyter-widgets/controls",
            "_model_module_version": "1.5.0",
            "_model_name": "HBoxModel",
            "_view_count": null,
            "_view_module": "@jupyter-widgets/controls",
            "_view_module_version": "1.5.0",
            "_view_name": "HBoxView",
            "box_style": "",
            "children": [
              "IPY_MODEL_7516a0893cd64461a9ef46377c97994d",
              "IPY_MODEL_aaf03720df3f4ddc8daec6ae0d8fbb60",
              "IPY_MODEL_82f3a32900cc4cfb864a0e12eadc261f"
            ],
            "layout": "IPY_MODEL_b978efcd52614fea8199fa6e6ec824b1"
          }
        },
        "7516a0893cd64461a9ef46377c97994d": {
          "model_module": "@jupyter-widgets/controls",
          "model_name": "HTMLModel",
          "model_module_version": "1.5.0",
          "state": {
            "_dom_classes": [],
            "_model_module": "@jupyter-widgets/controls",
            "_model_module_version": "1.5.0",
            "_model_name": "HTMLModel",
            "_view_count": null,
            "_view_module": "@jupyter-widgets/controls",
            "_view_module_version": "1.5.0",
            "_view_name": "HTMLView",
            "description": "",
            "description_tooltip": null,
            "layout": "IPY_MODEL_ee86791e485b47b7a860c38a55145f02",
            "placeholder": "​",
            "style": "IPY_MODEL_2473c37e2b5240fcb1296ebb1b87477c",
            "value": "vocab.json: 100%"
          }
        },
        "aaf03720df3f4ddc8daec6ae0d8fbb60": {
          "model_module": "@jupyter-widgets/controls",
          "model_name": "FloatProgressModel",
          "model_module_version": "1.5.0",
          "state": {
            "_dom_classes": [],
            "_model_module": "@jupyter-widgets/controls",
            "_model_module_version": "1.5.0",
            "_model_name": "FloatProgressModel",
            "_view_count": null,
            "_view_module": "@jupyter-widgets/controls",
            "_view_module_version": "1.5.0",
            "_view_name": "ProgressView",
            "bar_style": "success",
            "description": "",
            "description_tooltip": null,
            "layout": "IPY_MODEL_5ce37e7f42534458980ae39994c1c869",
            "max": 798293,
            "min": 0,
            "orientation": "horizontal",
            "style": "IPY_MODEL_42e0b1c3e98e434b99f5d2ccacb26ba2",
            "value": 798293
          }
        },
        "82f3a32900cc4cfb864a0e12eadc261f": {
          "model_module": "@jupyter-widgets/controls",
          "model_name": "HTMLModel",
          "model_module_version": "1.5.0",
          "state": {
            "_dom_classes": [],
            "_model_module": "@jupyter-widgets/controls",
            "_model_module_version": "1.5.0",
            "_model_name": "HTMLModel",
            "_view_count": null,
            "_view_module": "@jupyter-widgets/controls",
            "_view_module_version": "1.5.0",
            "_view_name": "HTMLView",
            "description": "",
            "description_tooltip": null,
            "layout": "IPY_MODEL_3f1422cf418a446b99bb3c050ae052df",
            "placeholder": "​",
            "style": "IPY_MODEL_c6ecdc55e2de423baac90ed4b585f8b6",
            "value": " 798k/798k [00:00&lt;00:00, 7.20MB/s]"
          }
        },
        "b978efcd52614fea8199fa6e6ec824b1": {
          "model_module": "@jupyter-widgets/base",
          "model_name": "LayoutModel",
          "model_module_version": "1.2.0",
          "state": {
            "_model_module": "@jupyter-widgets/base",
            "_model_module_version": "1.2.0",
            "_model_name": "LayoutModel",
            "_view_count": null,
            "_view_module": "@jupyter-widgets/base",
            "_view_module_version": "1.2.0",
            "_view_name": "LayoutView",
            "align_content": null,
            "align_items": null,
            "align_self": null,
            "border": null,
            "bottom": null,
            "display": null,
            "flex": null,
            "flex_flow": null,
            "grid_area": null,
            "grid_auto_columns": null,
            "grid_auto_flow": null,
            "grid_auto_rows": null,
            "grid_column": null,
            "grid_gap": null,
            "grid_row": null,
            "grid_template_areas": null,
            "grid_template_columns": null,
            "grid_template_rows": null,
            "height": null,
            "justify_content": null,
            "justify_items": null,
            "left": null,
            "margin": null,
            "max_height": null,
            "max_width": null,
            "min_height": null,
            "min_width": null,
            "object_fit": null,
            "object_position": null,
            "order": null,
            "overflow": null,
            "overflow_x": null,
            "overflow_y": null,
            "padding": null,
            "right": null,
            "top": null,
            "visibility": null,
            "width": null
          }
        },
        "ee86791e485b47b7a860c38a55145f02": {
          "model_module": "@jupyter-widgets/base",
          "model_name": "LayoutModel",
          "model_module_version": "1.2.0",
          "state": {
            "_model_module": "@jupyter-widgets/base",
            "_model_module_version": "1.2.0",
            "_model_name": "LayoutModel",
            "_view_count": null,
            "_view_module": "@jupyter-widgets/base",
            "_view_module_version": "1.2.0",
            "_view_name": "LayoutView",
            "align_content": null,
            "align_items": null,
            "align_self": null,
            "border": null,
            "bottom": null,
            "display": null,
            "flex": null,
            "flex_flow": null,
            "grid_area": null,
            "grid_auto_columns": null,
            "grid_auto_flow": null,
            "grid_auto_rows": null,
            "grid_column": null,
            "grid_gap": null,
            "grid_row": null,
            "grid_template_areas": null,
            "grid_template_columns": null,
            "grid_template_rows": null,
            "height": null,
            "justify_content": null,
            "justify_items": null,
            "left": null,
            "margin": null,
            "max_height": null,
            "max_width": null,
            "min_height": null,
            "min_width": null,
            "object_fit": null,
            "object_position": null,
            "order": null,
            "overflow": null,
            "overflow_x": null,
            "overflow_y": null,
            "padding": null,
            "right": null,
            "top": null,
            "visibility": null,
            "width": null
          }
        },
        "2473c37e2b5240fcb1296ebb1b87477c": {
          "model_module": "@jupyter-widgets/controls",
          "model_name": "DescriptionStyleModel",
          "model_module_version": "1.5.0",
          "state": {
            "_model_module": "@jupyter-widgets/controls",
            "_model_module_version": "1.5.0",
            "_model_name": "DescriptionStyleModel",
            "_view_count": null,
            "_view_module": "@jupyter-widgets/base",
            "_view_module_version": "1.2.0",
            "_view_name": "StyleView",
            "description_width": ""
          }
        },
        "5ce37e7f42534458980ae39994c1c869": {
          "model_module": "@jupyter-widgets/base",
          "model_name": "LayoutModel",
          "model_module_version": "1.2.0",
          "state": {
            "_model_module": "@jupyter-widgets/base",
            "_model_module_version": "1.2.0",
            "_model_name": "LayoutModel",
            "_view_count": null,
            "_view_module": "@jupyter-widgets/base",
            "_view_module_version": "1.2.0",
            "_view_name": "LayoutView",
            "align_content": null,
            "align_items": null,
            "align_self": null,
            "border": null,
            "bottom": null,
            "display": null,
            "flex": null,
            "flex_flow": null,
            "grid_area": null,
            "grid_auto_columns": null,
            "grid_auto_flow": null,
            "grid_auto_rows": null,
            "grid_column": null,
            "grid_gap": null,
            "grid_row": null,
            "grid_template_areas": null,
            "grid_template_columns": null,
            "grid_template_rows": null,
            "height": null,
            "justify_content": null,
            "justify_items": null,
            "left": null,
            "margin": null,
            "max_height": null,
            "max_width": null,
            "min_height": null,
            "min_width": null,
            "object_fit": null,
            "object_position": null,
            "order": null,
            "overflow": null,
            "overflow_x": null,
            "overflow_y": null,
            "padding": null,
            "right": null,
            "top": null,
            "visibility": null,
            "width": null
          }
        },
        "42e0b1c3e98e434b99f5d2ccacb26ba2": {
          "model_module": "@jupyter-widgets/controls",
          "model_name": "ProgressStyleModel",
          "model_module_version": "1.5.0",
          "state": {
            "_model_module": "@jupyter-widgets/controls",
            "_model_module_version": "1.5.0",
            "_model_name": "ProgressStyleModel",
            "_view_count": null,
            "_view_module": "@jupyter-widgets/base",
            "_view_module_version": "1.2.0",
            "_view_name": "StyleView",
            "bar_color": null,
            "description_width": ""
          }
        },
        "3f1422cf418a446b99bb3c050ae052df": {
          "model_module": "@jupyter-widgets/base",
          "model_name": "LayoutModel",
          "model_module_version": "1.2.0",
          "state": {
            "_model_module": "@jupyter-widgets/base",
            "_model_module_version": "1.2.0",
            "_model_name": "LayoutModel",
            "_view_count": null,
            "_view_module": "@jupyter-widgets/base",
            "_view_module_version": "1.2.0",
            "_view_name": "LayoutView",
            "align_content": null,
            "align_items": null,
            "align_self": null,
            "border": null,
            "bottom": null,
            "display": null,
            "flex": null,
            "flex_flow": null,
            "grid_area": null,
            "grid_auto_columns": null,
            "grid_auto_flow": null,
            "grid_auto_rows": null,
            "grid_column": null,
            "grid_gap": null,
            "grid_row": null,
            "grid_template_areas": null,
            "grid_template_columns": null,
            "grid_template_rows": null,
            "height": null,
            "justify_content": null,
            "justify_items": null,
            "left": null,
            "margin": null,
            "max_height": null,
            "max_width": null,
            "min_height": null,
            "min_width": null,
            "object_fit": null,
            "object_position": null,
            "order": null,
            "overflow": null,
            "overflow_x": null,
            "overflow_y": null,
            "padding": null,
            "right": null,
            "top": null,
            "visibility": null,
            "width": null
          }
        },
        "c6ecdc55e2de423baac90ed4b585f8b6": {
          "model_module": "@jupyter-widgets/controls",
          "model_name": "DescriptionStyleModel",
          "model_module_version": "1.5.0",
          "state": {
            "_model_module": "@jupyter-widgets/controls",
            "_model_module_version": "1.5.0",
            "_model_name": "DescriptionStyleModel",
            "_view_count": null,
            "_view_module": "@jupyter-widgets/base",
            "_view_module_version": "1.2.0",
            "_view_name": "StyleView",
            "description_width": ""
          }
        },
        "9617f9967e124b9c9da30630f5b190f7": {
          "model_module": "@jupyter-widgets/controls",
          "model_name": "HBoxModel",
          "model_module_version": "1.5.0",
          "state": {
            "_dom_classes": [],
            "_model_module": "@jupyter-widgets/controls",
            "_model_module_version": "1.5.0",
            "_model_name": "HBoxModel",
            "_view_count": null,
            "_view_module": "@jupyter-widgets/controls",
            "_view_module_version": "1.5.0",
            "_view_name": "HBoxView",
            "box_style": "",
            "children": [
              "IPY_MODEL_70bba1a176f340fca7f1049505cad62c",
              "IPY_MODEL_2375c855780a461a8e4c7120fc1fff62",
              "IPY_MODEL_c87b14f852d04ffe87d32fd5c7b42a83"
            ],
            "layout": "IPY_MODEL_3c6d43b7549b49018e884bc568593c9b"
          }
        },
        "70bba1a176f340fca7f1049505cad62c": {
          "model_module": "@jupyter-widgets/controls",
          "model_name": "HTMLModel",
          "model_module_version": "1.5.0",
          "state": {
            "_dom_classes": [],
            "_model_module": "@jupyter-widgets/controls",
            "_model_module_version": "1.5.0",
            "_model_name": "HTMLModel",
            "_view_count": null,
            "_view_module": "@jupyter-widgets/controls",
            "_view_module_version": "1.5.0",
            "_view_name": "HTMLView",
            "description": "",
            "description_tooltip": null,
            "layout": "IPY_MODEL_73799ddc4133428abb763b7f29cc7933",
            "placeholder": "​",
            "style": "IPY_MODEL_8b21184522e944638cf18780263f8fdf",
            "value": "merges.txt: 100%"
          }
        },
        "2375c855780a461a8e4c7120fc1fff62": {
          "model_module": "@jupyter-widgets/controls",
          "model_name": "FloatProgressModel",
          "model_module_version": "1.5.0",
          "state": {
            "_dom_classes": [],
            "_model_module": "@jupyter-widgets/controls",
            "_model_module_version": "1.5.0",
            "_model_name": "FloatProgressModel",
            "_view_count": null,
            "_view_module": "@jupyter-widgets/controls",
            "_view_module_version": "1.5.0",
            "_view_name": "ProgressView",
            "bar_style": "success",
            "description": "",
            "description_tooltip": null,
            "layout": "IPY_MODEL_49a54208a1934fff8c6c99124799c254",
            "max": 456356,
            "min": 0,
            "orientation": "horizontal",
            "style": "IPY_MODEL_c281ffb8f4474ecebb8d2e5ecfb78f6b",
            "value": 456356
          }
        },
        "c87b14f852d04ffe87d32fd5c7b42a83": {
          "model_module": "@jupyter-widgets/controls",
          "model_name": "HTMLModel",
          "model_module_version": "1.5.0",
          "state": {
            "_dom_classes": [],
            "_model_module": "@jupyter-widgets/controls",
            "_model_module_version": "1.5.0",
            "_model_name": "HTMLModel",
            "_view_count": null,
            "_view_module": "@jupyter-widgets/controls",
            "_view_module_version": "1.5.0",
            "_view_name": "HTMLView",
            "description": "",
            "description_tooltip": null,
            "layout": "IPY_MODEL_5305fbc3e7ed426482d6cd9c82e7577e",
            "placeholder": "​",
            "style": "IPY_MODEL_55e9ed5181f942c0a77715277983f68a",
            "value": " 456k/456k [00:00&lt;00:00, 15.1MB/s]"
          }
        },
        "3c6d43b7549b49018e884bc568593c9b": {
          "model_module": "@jupyter-widgets/base",
          "model_name": "LayoutModel",
          "model_module_version": "1.2.0",
          "state": {
            "_model_module": "@jupyter-widgets/base",
            "_model_module_version": "1.2.0",
            "_model_name": "LayoutModel",
            "_view_count": null,
            "_view_module": "@jupyter-widgets/base",
            "_view_module_version": "1.2.0",
            "_view_name": "LayoutView",
            "align_content": null,
            "align_items": null,
            "align_self": null,
            "border": null,
            "bottom": null,
            "display": null,
            "flex": null,
            "flex_flow": null,
            "grid_area": null,
            "grid_auto_columns": null,
            "grid_auto_flow": null,
            "grid_auto_rows": null,
            "grid_column": null,
            "grid_gap": null,
            "grid_row": null,
            "grid_template_areas": null,
            "grid_template_columns": null,
            "grid_template_rows": null,
            "height": null,
            "justify_content": null,
            "justify_items": null,
            "left": null,
            "margin": null,
            "max_height": null,
            "max_width": null,
            "min_height": null,
            "min_width": null,
            "object_fit": null,
            "object_position": null,
            "order": null,
            "overflow": null,
            "overflow_x": null,
            "overflow_y": null,
            "padding": null,
            "right": null,
            "top": null,
            "visibility": null,
            "width": null
          }
        },
        "73799ddc4133428abb763b7f29cc7933": {
          "model_module": "@jupyter-widgets/base",
          "model_name": "LayoutModel",
          "model_module_version": "1.2.0",
          "state": {
            "_model_module": "@jupyter-widgets/base",
            "_model_module_version": "1.2.0",
            "_model_name": "LayoutModel",
            "_view_count": null,
            "_view_module": "@jupyter-widgets/base",
            "_view_module_version": "1.2.0",
            "_view_name": "LayoutView",
            "align_content": null,
            "align_items": null,
            "align_self": null,
            "border": null,
            "bottom": null,
            "display": null,
            "flex": null,
            "flex_flow": null,
            "grid_area": null,
            "grid_auto_columns": null,
            "grid_auto_flow": null,
            "grid_auto_rows": null,
            "grid_column": null,
            "grid_gap": null,
            "grid_row": null,
            "grid_template_areas": null,
            "grid_template_columns": null,
            "grid_template_rows": null,
            "height": null,
            "justify_content": null,
            "justify_items": null,
            "left": null,
            "margin": null,
            "max_height": null,
            "max_width": null,
            "min_height": null,
            "min_width": null,
            "object_fit": null,
            "object_position": null,
            "order": null,
            "overflow": null,
            "overflow_x": null,
            "overflow_y": null,
            "padding": null,
            "right": null,
            "top": null,
            "visibility": null,
            "width": null
          }
        },
        "8b21184522e944638cf18780263f8fdf": {
          "model_module": "@jupyter-widgets/controls",
          "model_name": "DescriptionStyleModel",
          "model_module_version": "1.5.0",
          "state": {
            "_model_module": "@jupyter-widgets/controls",
            "_model_module_version": "1.5.0",
            "_model_name": "DescriptionStyleModel",
            "_view_count": null,
            "_view_module": "@jupyter-widgets/base",
            "_view_module_version": "1.2.0",
            "_view_name": "StyleView",
            "description_width": ""
          }
        },
        "49a54208a1934fff8c6c99124799c254": {
          "model_module": "@jupyter-widgets/base",
          "model_name": "LayoutModel",
          "model_module_version": "1.2.0",
          "state": {
            "_model_module": "@jupyter-widgets/base",
            "_model_module_version": "1.2.0",
            "_model_name": "LayoutModel",
            "_view_count": null,
            "_view_module": "@jupyter-widgets/base",
            "_view_module_version": "1.2.0",
            "_view_name": "LayoutView",
            "align_content": null,
            "align_items": null,
            "align_self": null,
            "border": null,
            "bottom": null,
            "display": null,
            "flex": null,
            "flex_flow": null,
            "grid_area": null,
            "grid_auto_columns": null,
            "grid_auto_flow": null,
            "grid_auto_rows": null,
            "grid_column": null,
            "grid_gap": null,
            "grid_row": null,
            "grid_template_areas": null,
            "grid_template_columns": null,
            "grid_template_rows": null,
            "height": null,
            "justify_content": null,
            "justify_items": null,
            "left": null,
            "margin": null,
            "max_height": null,
            "max_width": null,
            "min_height": null,
            "min_width": null,
            "object_fit": null,
            "object_position": null,
            "order": null,
            "overflow": null,
            "overflow_x": null,
            "overflow_y": null,
            "padding": null,
            "right": null,
            "top": null,
            "visibility": null,
            "width": null
          }
        },
        "c281ffb8f4474ecebb8d2e5ecfb78f6b": {
          "model_module": "@jupyter-widgets/controls",
          "model_name": "ProgressStyleModel",
          "model_module_version": "1.5.0",
          "state": {
            "_model_module": "@jupyter-widgets/controls",
            "_model_module_version": "1.5.0",
            "_model_name": "ProgressStyleModel",
            "_view_count": null,
            "_view_module": "@jupyter-widgets/base",
            "_view_module_version": "1.2.0",
            "_view_name": "StyleView",
            "bar_color": null,
            "description_width": ""
          }
        },
        "5305fbc3e7ed426482d6cd9c82e7577e": {
          "model_module": "@jupyter-widgets/base",
          "model_name": "LayoutModel",
          "model_module_version": "1.2.0",
          "state": {
            "_model_module": "@jupyter-widgets/base",
            "_model_module_version": "1.2.0",
            "_model_name": "LayoutModel",
            "_view_count": null,
            "_view_module": "@jupyter-widgets/base",
            "_view_module_version": "1.2.0",
            "_view_name": "LayoutView",
            "align_content": null,
            "align_items": null,
            "align_self": null,
            "border": null,
            "bottom": null,
            "display": null,
            "flex": null,
            "flex_flow": null,
            "grid_area": null,
            "grid_auto_columns": null,
            "grid_auto_flow": null,
            "grid_auto_rows": null,
            "grid_column": null,
            "grid_gap": null,
            "grid_row": null,
            "grid_template_areas": null,
            "grid_template_columns": null,
            "grid_template_rows": null,
            "height": null,
            "justify_content": null,
            "justify_items": null,
            "left": null,
            "margin": null,
            "max_height": null,
            "max_width": null,
            "min_height": null,
            "min_width": null,
            "object_fit": null,
            "object_position": null,
            "order": null,
            "overflow": null,
            "overflow_x": null,
            "overflow_y": null,
            "padding": null,
            "right": null,
            "top": null,
            "visibility": null,
            "width": null
          }
        },
        "55e9ed5181f942c0a77715277983f68a": {
          "model_module": "@jupyter-widgets/controls",
          "model_name": "DescriptionStyleModel",
          "model_module_version": "1.5.0",
          "state": {
            "_model_module": "@jupyter-widgets/controls",
            "_model_module_version": "1.5.0",
            "_model_name": "DescriptionStyleModel",
            "_view_count": null,
            "_view_module": "@jupyter-widgets/base",
            "_view_module_version": "1.2.0",
            "_view_name": "StyleView",
            "description_width": ""
          }
        },
        "cc69ba3011b74e65b614181d3a303c16": {
          "model_module": "@jupyter-widgets/controls",
          "model_name": "HBoxModel",
          "model_module_version": "1.5.0",
          "state": {
            "_dom_classes": [],
            "_model_module": "@jupyter-widgets/controls",
            "_model_module_version": "1.5.0",
            "_model_name": "HBoxModel",
            "_view_count": null,
            "_view_module": "@jupyter-widgets/controls",
            "_view_module_version": "1.5.0",
            "_view_name": "HBoxView",
            "box_style": "",
            "children": [
              "IPY_MODEL_2b8c65e25ec846208061f0f041378871",
              "IPY_MODEL_1075b1e1de2d495c8de281d927ed8327",
              "IPY_MODEL_060a80336bc44199baeba08fe9c814e1"
            ],
            "layout": "IPY_MODEL_d711891c6f734ad2a98ae15e1961b9ac"
          }
        },
        "2b8c65e25ec846208061f0f041378871": {
          "model_module": "@jupyter-widgets/controls",
          "model_name": "HTMLModel",
          "model_module_version": "1.5.0",
          "state": {
            "_dom_classes": [],
            "_model_module": "@jupyter-widgets/controls",
            "_model_module_version": "1.5.0",
            "_model_name": "HTMLModel",
            "_view_count": null,
            "_view_module": "@jupyter-widgets/controls",
            "_view_module_version": "1.5.0",
            "_view_name": "HTMLView",
            "description": "",
            "description_tooltip": null,
            "layout": "IPY_MODEL_d2f09372b6dd488ebbf35cefd9a7165f",
            "placeholder": "​",
            "style": "IPY_MODEL_22854054cbb54c6fa680069da04a1294",
            "value": "special_tokens_map.json: 100%"
          }
        },
        "1075b1e1de2d495c8de281d927ed8327": {
          "model_module": "@jupyter-widgets/controls",
          "model_name": "FloatProgressModel",
          "model_module_version": "1.5.0",
          "state": {
            "_dom_classes": [],
            "_model_module": "@jupyter-widgets/controls",
            "_model_module_version": "1.5.0",
            "_model_name": "FloatProgressModel",
            "_view_count": null,
            "_view_module": "@jupyter-widgets/controls",
            "_view_module_version": "1.5.0",
            "_view_name": "ProgressView",
            "bar_style": "success",
            "description": "",
            "description_tooltip": null,
            "layout": "IPY_MODEL_4d2b58193b874413a675708613850fcc",
            "max": 772,
            "min": 0,
            "orientation": "horizontal",
            "style": "IPY_MODEL_2b21a914b8ed467ebe527013d7cfcafc",
            "value": 772
          }
        },
        "060a80336bc44199baeba08fe9c814e1": {
          "model_module": "@jupyter-widgets/controls",
          "model_name": "HTMLModel",
          "model_module_version": "1.5.0",
          "state": {
            "_dom_classes": [],
            "_model_module": "@jupyter-widgets/controls",
            "_model_module_version": "1.5.0",
            "_model_name": "HTMLModel",
            "_view_count": null,
            "_view_module": "@jupyter-widgets/controls",
            "_view_module_version": "1.5.0",
            "_view_name": "HTMLView",
            "description": "",
            "description_tooltip": null,
            "layout": "IPY_MODEL_53c58c324b7546f181aaa8f38238810a",
            "placeholder": "​",
            "style": "IPY_MODEL_8521b43925344d18a6ba9a6ae4d727d6",
            "value": " 772/772 [00:00&lt;00:00, 27.3kB/s]"
          }
        },
        "d711891c6f734ad2a98ae15e1961b9ac": {
          "model_module": "@jupyter-widgets/base",
          "model_name": "LayoutModel",
          "model_module_version": "1.2.0",
          "state": {
            "_model_module": "@jupyter-widgets/base",
            "_model_module_version": "1.2.0",
            "_model_name": "LayoutModel",
            "_view_count": null,
            "_view_module": "@jupyter-widgets/base",
            "_view_module_version": "1.2.0",
            "_view_name": "LayoutView",
            "align_content": null,
            "align_items": null,
            "align_self": null,
            "border": null,
            "bottom": null,
            "display": null,
            "flex": null,
            "flex_flow": null,
            "grid_area": null,
            "grid_auto_columns": null,
            "grid_auto_flow": null,
            "grid_auto_rows": null,
            "grid_column": null,
            "grid_gap": null,
            "grid_row": null,
            "grid_template_areas": null,
            "grid_template_columns": null,
            "grid_template_rows": null,
            "height": null,
            "justify_content": null,
            "justify_items": null,
            "left": null,
            "margin": null,
            "max_height": null,
            "max_width": null,
            "min_height": null,
            "min_width": null,
            "object_fit": null,
            "object_position": null,
            "order": null,
            "overflow": null,
            "overflow_x": null,
            "overflow_y": null,
            "padding": null,
            "right": null,
            "top": null,
            "visibility": null,
            "width": null
          }
        },
        "d2f09372b6dd488ebbf35cefd9a7165f": {
          "model_module": "@jupyter-widgets/base",
          "model_name": "LayoutModel",
          "model_module_version": "1.2.0",
          "state": {
            "_model_module": "@jupyter-widgets/base",
            "_model_module_version": "1.2.0",
            "_model_name": "LayoutModel",
            "_view_count": null,
            "_view_module": "@jupyter-widgets/base",
            "_view_module_version": "1.2.0",
            "_view_name": "LayoutView",
            "align_content": null,
            "align_items": null,
            "align_self": null,
            "border": null,
            "bottom": null,
            "display": null,
            "flex": null,
            "flex_flow": null,
            "grid_area": null,
            "grid_auto_columns": null,
            "grid_auto_flow": null,
            "grid_auto_rows": null,
            "grid_column": null,
            "grid_gap": null,
            "grid_row": null,
            "grid_template_areas": null,
            "grid_template_columns": null,
            "grid_template_rows": null,
            "height": null,
            "justify_content": null,
            "justify_items": null,
            "left": null,
            "margin": null,
            "max_height": null,
            "max_width": null,
            "min_height": null,
            "min_width": null,
            "object_fit": null,
            "object_position": null,
            "order": null,
            "overflow": null,
            "overflow_x": null,
            "overflow_y": null,
            "padding": null,
            "right": null,
            "top": null,
            "visibility": null,
            "width": null
          }
        },
        "22854054cbb54c6fa680069da04a1294": {
          "model_module": "@jupyter-widgets/controls",
          "model_name": "DescriptionStyleModel",
          "model_module_version": "1.5.0",
          "state": {
            "_model_module": "@jupyter-widgets/controls",
            "_model_module_version": "1.5.0",
            "_model_name": "DescriptionStyleModel",
            "_view_count": null,
            "_view_module": "@jupyter-widgets/base",
            "_view_module_version": "1.2.0",
            "_view_name": "StyleView",
            "description_width": ""
          }
        },
        "4d2b58193b874413a675708613850fcc": {
          "model_module": "@jupyter-widgets/base",
          "model_name": "LayoutModel",
          "model_module_version": "1.2.0",
          "state": {
            "_model_module": "@jupyter-widgets/base",
            "_model_module_version": "1.2.0",
            "_model_name": "LayoutModel",
            "_view_count": null,
            "_view_module": "@jupyter-widgets/base",
            "_view_module_version": "1.2.0",
            "_view_name": "LayoutView",
            "align_content": null,
            "align_items": null,
            "align_self": null,
            "border": null,
            "bottom": null,
            "display": null,
            "flex": null,
            "flex_flow": null,
            "grid_area": null,
            "grid_auto_columns": null,
            "grid_auto_flow": null,
            "grid_auto_rows": null,
            "grid_column": null,
            "grid_gap": null,
            "grid_row": null,
            "grid_template_areas": null,
            "grid_template_columns": null,
            "grid_template_rows": null,
            "height": null,
            "justify_content": null,
            "justify_items": null,
            "left": null,
            "margin": null,
            "max_height": null,
            "max_width": null,
            "min_height": null,
            "min_width": null,
            "object_fit": null,
            "object_position": null,
            "order": null,
            "overflow": null,
            "overflow_x": null,
            "overflow_y": null,
            "padding": null,
            "right": null,
            "top": null,
            "visibility": null,
            "width": null
          }
        },
        "2b21a914b8ed467ebe527013d7cfcafc": {
          "model_module": "@jupyter-widgets/controls",
          "model_name": "ProgressStyleModel",
          "model_module_version": "1.5.0",
          "state": {
            "_model_module": "@jupyter-widgets/controls",
            "_model_module_version": "1.5.0",
            "_model_name": "ProgressStyleModel",
            "_view_count": null,
            "_view_module": "@jupyter-widgets/base",
            "_view_module_version": "1.2.0",
            "_view_name": "StyleView",
            "bar_color": null,
            "description_width": ""
          }
        },
        "53c58c324b7546f181aaa8f38238810a": {
          "model_module": "@jupyter-widgets/base",
          "model_name": "LayoutModel",
          "model_module_version": "1.2.0",
          "state": {
            "_model_module": "@jupyter-widgets/base",
            "_model_module_version": "1.2.0",
            "_model_name": "LayoutModel",
            "_view_count": null,
            "_view_module": "@jupyter-widgets/base",
            "_view_module_version": "1.2.0",
            "_view_name": "LayoutView",
            "align_content": null,
            "align_items": null,
            "align_self": null,
            "border": null,
            "bottom": null,
            "display": null,
            "flex": null,
            "flex_flow": null,
            "grid_area": null,
            "grid_auto_columns": null,
            "grid_auto_flow": null,
            "grid_auto_rows": null,
            "grid_column": null,
            "grid_gap": null,
            "grid_row": null,
            "grid_template_areas": null,
            "grid_template_columns": null,
            "grid_template_rows": null,
            "height": null,
            "justify_content": null,
            "justify_items": null,
            "left": null,
            "margin": null,
            "max_height": null,
            "max_width": null,
            "min_height": null,
            "min_width": null,
            "object_fit": null,
            "object_position": null,
            "order": null,
            "overflow": null,
            "overflow_x": null,
            "overflow_y": null,
            "padding": null,
            "right": null,
            "top": null,
            "visibility": null,
            "width": null
          }
        },
        "8521b43925344d18a6ba9a6ae4d727d6": {
          "model_module": "@jupyter-widgets/controls",
          "model_name": "DescriptionStyleModel",
          "model_module_version": "1.5.0",
          "state": {
            "_model_module": "@jupyter-widgets/controls",
            "_model_module_version": "1.5.0",
            "_model_name": "DescriptionStyleModel",
            "_view_count": null,
            "_view_module": "@jupyter-widgets/base",
            "_view_module_version": "1.2.0",
            "_view_name": "StyleView",
            "description_width": ""
          }
        },
        "21270f06384441118690df6b83d8597d": {
          "model_module": "@jupyter-widgets/controls",
          "model_name": "HBoxModel",
          "model_module_version": "1.5.0",
          "state": {
            "_dom_classes": [],
            "_model_module": "@jupyter-widgets/controls",
            "_model_module_version": "1.5.0",
            "_model_name": "HBoxModel",
            "_view_count": null,
            "_view_module": "@jupyter-widgets/controls",
            "_view_module_version": "1.5.0",
            "_view_name": "HBoxView",
            "box_style": "",
            "children": [
              "IPY_MODEL_c513ac191a554a178e147eceedc1575c",
              "IPY_MODEL_e01dd05050d341f19eda9f5be6abac1d",
              "IPY_MODEL_3717210b8b3b45539b3525e564ea06f3"
            ],
            "layout": "IPY_MODEL_5971b7886a6c4d31b0cf117c1e6ce0f1"
          }
        },
        "c513ac191a554a178e147eceedc1575c": {
          "model_module": "@jupyter-widgets/controls",
          "model_name": "HTMLModel",
          "model_module_version": "1.5.0",
          "state": {
            "_dom_classes": [],
            "_model_module": "@jupyter-widgets/controls",
            "_model_module_version": "1.5.0",
            "_model_name": "HTMLModel",
            "_view_count": null,
            "_view_module": "@jupyter-widgets/controls",
            "_view_module_version": "1.5.0",
            "_view_name": "HTMLView",
            "description": "",
            "description_tooltip": null,
            "layout": "IPY_MODEL_c618ae23e2424fb0a8dd9abb0bfbeb23",
            "placeholder": "​",
            "style": "IPY_MODEL_24da73e6068140b9984c40a7383f9542",
            "value": "tokenizer.json: 100%"
          }
        },
        "e01dd05050d341f19eda9f5be6abac1d": {
          "model_module": "@jupyter-widgets/controls",
          "model_name": "FloatProgressModel",
          "model_module_version": "1.5.0",
          "state": {
            "_dom_classes": [],
            "_model_module": "@jupyter-widgets/controls",
            "_model_module_version": "1.5.0",
            "_model_name": "FloatProgressModel",
            "_view_count": null,
            "_view_module": "@jupyter-widgets/controls",
            "_view_module_version": "1.5.0",
            "_view_name": "ProgressView",
            "bar_style": "success",
            "description": "",
            "description_tooltip": null,
            "layout": "IPY_MODEL_72f09e98476e455babfba7a198853800",
            "max": 2108853,
            "min": 0,
            "orientation": "horizontal",
            "style": "IPY_MODEL_6601c72ea19d4420811a6cb8a9212acd",
            "value": 2108853
          }
        },
        "3717210b8b3b45539b3525e564ea06f3": {
          "model_module": "@jupyter-widgets/controls",
          "model_name": "HTMLModel",
          "model_module_version": "1.5.0",
          "state": {
            "_dom_classes": [],
            "_model_module": "@jupyter-widgets/controls",
            "_model_module_version": "1.5.0",
            "_model_name": "HTMLModel",
            "_view_count": null,
            "_view_module": "@jupyter-widgets/controls",
            "_view_module_version": "1.5.0",
            "_view_name": "HTMLView",
            "description": "",
            "description_tooltip": null,
            "layout": "IPY_MODEL_39ae69d887c844099c677484677805bd",
            "placeholder": "​",
            "style": "IPY_MODEL_9bb901b34ff04ce295825ff9d2a2f2f8",
            "value": " 2.11M/2.11M [00:00&lt;00:00, 30.4MB/s]"
          }
        },
        "5971b7886a6c4d31b0cf117c1e6ce0f1": {
          "model_module": "@jupyter-widgets/base",
          "model_name": "LayoutModel",
          "model_module_version": "1.2.0",
          "state": {
            "_model_module": "@jupyter-widgets/base",
            "_model_module_version": "1.2.0",
            "_model_name": "LayoutModel",
            "_view_count": null,
            "_view_module": "@jupyter-widgets/base",
            "_view_module_version": "1.2.0",
            "_view_name": "LayoutView",
            "align_content": null,
            "align_items": null,
            "align_self": null,
            "border": null,
            "bottom": null,
            "display": null,
            "flex": null,
            "flex_flow": null,
            "grid_area": null,
            "grid_auto_columns": null,
            "grid_auto_flow": null,
            "grid_auto_rows": null,
            "grid_column": null,
            "grid_gap": null,
            "grid_row": null,
            "grid_template_areas": null,
            "grid_template_columns": null,
            "grid_template_rows": null,
            "height": null,
            "justify_content": null,
            "justify_items": null,
            "left": null,
            "margin": null,
            "max_height": null,
            "max_width": null,
            "min_height": null,
            "min_width": null,
            "object_fit": null,
            "object_position": null,
            "order": null,
            "overflow": null,
            "overflow_x": null,
            "overflow_y": null,
            "padding": null,
            "right": null,
            "top": null,
            "visibility": null,
            "width": null
          }
        },
        "c618ae23e2424fb0a8dd9abb0bfbeb23": {
          "model_module": "@jupyter-widgets/base",
          "model_name": "LayoutModel",
          "model_module_version": "1.2.0",
          "state": {
            "_model_module": "@jupyter-widgets/base",
            "_model_module_version": "1.2.0",
            "_model_name": "LayoutModel",
            "_view_count": null,
            "_view_module": "@jupyter-widgets/base",
            "_view_module_version": "1.2.0",
            "_view_name": "LayoutView",
            "align_content": null,
            "align_items": null,
            "align_self": null,
            "border": null,
            "bottom": null,
            "display": null,
            "flex": null,
            "flex_flow": null,
            "grid_area": null,
            "grid_auto_columns": null,
            "grid_auto_flow": null,
            "grid_auto_rows": null,
            "grid_column": null,
            "grid_gap": null,
            "grid_row": null,
            "grid_template_areas": null,
            "grid_template_columns": null,
            "grid_template_rows": null,
            "height": null,
            "justify_content": null,
            "justify_items": null,
            "left": null,
            "margin": null,
            "max_height": null,
            "max_width": null,
            "min_height": null,
            "min_width": null,
            "object_fit": null,
            "object_position": null,
            "order": null,
            "overflow": null,
            "overflow_x": null,
            "overflow_y": null,
            "padding": null,
            "right": null,
            "top": null,
            "visibility": null,
            "width": null
          }
        },
        "24da73e6068140b9984c40a7383f9542": {
          "model_module": "@jupyter-widgets/controls",
          "model_name": "DescriptionStyleModel",
          "model_module_version": "1.5.0",
          "state": {
            "_model_module": "@jupyter-widgets/controls",
            "_model_module_version": "1.5.0",
            "_model_name": "DescriptionStyleModel",
            "_view_count": null,
            "_view_module": "@jupyter-widgets/base",
            "_view_module_version": "1.2.0",
            "_view_name": "StyleView",
            "description_width": ""
          }
        },
        "72f09e98476e455babfba7a198853800": {
          "model_module": "@jupyter-widgets/base",
          "model_name": "LayoutModel",
          "model_module_version": "1.2.0",
          "state": {
            "_model_module": "@jupyter-widgets/base",
            "_model_module_version": "1.2.0",
            "_model_name": "LayoutModel",
            "_view_count": null,
            "_view_module": "@jupyter-widgets/base",
            "_view_module_version": "1.2.0",
            "_view_name": "LayoutView",
            "align_content": null,
            "align_items": null,
            "align_self": null,
            "border": null,
            "bottom": null,
            "display": null,
            "flex": null,
            "flex_flow": null,
            "grid_area": null,
            "grid_auto_columns": null,
            "grid_auto_flow": null,
            "grid_auto_rows": null,
            "grid_column": null,
            "grid_gap": null,
            "grid_row": null,
            "grid_template_areas": null,
            "grid_template_columns": null,
            "grid_template_rows": null,
            "height": null,
            "justify_content": null,
            "justify_items": null,
            "left": null,
            "margin": null,
            "max_height": null,
            "max_width": null,
            "min_height": null,
            "min_width": null,
            "object_fit": null,
            "object_position": null,
            "order": null,
            "overflow": null,
            "overflow_x": null,
            "overflow_y": null,
            "padding": null,
            "right": null,
            "top": null,
            "visibility": null,
            "width": null
          }
        },
        "6601c72ea19d4420811a6cb8a9212acd": {
          "model_module": "@jupyter-widgets/controls",
          "model_name": "ProgressStyleModel",
          "model_module_version": "1.5.0",
          "state": {
            "_model_module": "@jupyter-widgets/controls",
            "_model_module_version": "1.5.0",
            "_model_name": "ProgressStyleModel",
            "_view_count": null,
            "_view_module": "@jupyter-widgets/base",
            "_view_module_version": "1.2.0",
            "_view_name": "StyleView",
            "bar_color": null,
            "description_width": ""
          }
        },
        "39ae69d887c844099c677484677805bd": {
          "model_module": "@jupyter-widgets/base",
          "model_name": "LayoutModel",
          "model_module_version": "1.2.0",
          "state": {
            "_model_module": "@jupyter-widgets/base",
            "_model_module_version": "1.2.0",
            "_model_name": "LayoutModel",
            "_view_count": null,
            "_view_module": "@jupyter-widgets/base",
            "_view_module_version": "1.2.0",
            "_view_name": "LayoutView",
            "align_content": null,
            "align_items": null,
            "align_self": null,
            "border": null,
            "bottom": null,
            "display": null,
            "flex": null,
            "flex_flow": null,
            "grid_area": null,
            "grid_auto_columns": null,
            "grid_auto_flow": null,
            "grid_auto_rows": null,
            "grid_column": null,
            "grid_gap": null,
            "grid_row": null,
            "grid_template_areas": null,
            "grid_template_columns": null,
            "grid_template_rows": null,
            "height": null,
            "justify_content": null,
            "justify_items": null,
            "left": null,
            "margin": null,
            "max_height": null,
            "max_width": null,
            "min_height": null,
            "min_width": null,
            "object_fit": null,
            "object_position": null,
            "order": null,
            "overflow": null,
            "overflow_x": null,
            "overflow_y": null,
            "padding": null,
            "right": null,
            "top": null,
            "visibility": null,
            "width": null
          }
        },
        "9bb901b34ff04ce295825ff9d2a2f2f8": {
          "model_module": "@jupyter-widgets/controls",
          "model_name": "DescriptionStyleModel",
          "model_module_version": "1.5.0",
          "state": {
            "_model_module": "@jupyter-widgets/controls",
            "_model_module_version": "1.5.0",
            "_model_name": "DescriptionStyleModel",
            "_view_count": null,
            "_view_module": "@jupyter-widgets/base",
            "_view_module_version": "1.2.0",
            "_view_name": "StyleView",
            "description_width": ""
          }
        },
        "a71327cc26c64b9088770bd2d3365ed9": {
          "model_module": "@jupyter-widgets/controls",
          "model_name": "HBoxModel",
          "model_module_version": "1.5.0",
          "state": {
            "_dom_classes": [],
            "_model_module": "@jupyter-widgets/controls",
            "_model_module_version": "1.5.0",
            "_model_name": "HBoxModel",
            "_view_count": null,
            "_view_module": "@jupyter-widgets/controls",
            "_view_module_version": "1.5.0",
            "_view_name": "HBoxView",
            "box_style": "",
            "children": [
              "IPY_MODEL_11c4fd37a45f416fb663444da32a695d",
              "IPY_MODEL_1d4f4ee69d884fa48fd19fa478e61611",
              "IPY_MODEL_497b5969c7434468805b27a858bb1129"
            ],
            "layout": "IPY_MODEL_bf5896d030be4b4fadc965afec032582"
          }
        },
        "11c4fd37a45f416fb663444da32a695d": {
          "model_module": "@jupyter-widgets/controls",
          "model_name": "HTMLModel",
          "model_module_version": "1.5.0",
          "state": {
            "_dom_classes": [],
            "_model_module": "@jupyter-widgets/controls",
            "_model_module_version": "1.5.0",
            "_model_name": "HTMLModel",
            "_view_count": null,
            "_view_module": "@jupyter-widgets/controls",
            "_view_module_version": "1.5.0",
            "_view_name": "HTMLView",
            "description": "",
            "description_tooltip": null,
            "layout": "IPY_MODEL_1d67f5272b344625b9e1c22b8f818c2c",
            "placeholder": "​",
            "style": "IPY_MODEL_8af6128dc26744938ebb6eaa145d2b3a",
            "value": "config.json: 100%"
          }
        },
        "1d4f4ee69d884fa48fd19fa478e61611": {
          "model_module": "@jupyter-widgets/controls",
          "model_name": "FloatProgressModel",
          "model_module_version": "1.5.0",
          "state": {
            "_dom_classes": [],
            "_model_module": "@jupyter-widgets/controls",
            "_model_module_version": "1.5.0",
            "_model_name": "FloatProgressModel",
            "_view_count": null,
            "_view_module": "@jupyter-widgets/controls",
            "_view_module_version": "1.5.0",
            "_view_name": "ProgressView",
            "bar_style": "success",
            "description": "",
            "description_tooltip": null,
            "layout": "IPY_MODEL_5869df010e4c4b38b830469e9b89179d",
            "max": 1317,
            "min": 0,
            "orientation": "horizontal",
            "style": "IPY_MODEL_4084ce25fa334558bfb6eb9d907d613c",
            "value": 1317
          }
        },
        "497b5969c7434468805b27a858bb1129": {
          "model_module": "@jupyter-widgets/controls",
          "model_name": "HTMLModel",
          "model_module_version": "1.5.0",
          "state": {
            "_dom_classes": [],
            "_model_module": "@jupyter-widgets/controls",
            "_model_module_version": "1.5.0",
            "_model_name": "HTMLModel",
            "_view_count": null,
            "_view_module": "@jupyter-widgets/controls",
            "_view_module_version": "1.5.0",
            "_view_name": "HTMLView",
            "description": "",
            "description_tooltip": null,
            "layout": "IPY_MODEL_91eb4e648b194c61b356cead6e063c57",
            "placeholder": "​",
            "style": "IPY_MODEL_fc2bc7a542ac489480460b1c9ff748d4",
            "value": " 1.32k/1.32k [00:00&lt;00:00, 50.4kB/s]"
          }
        },
        "bf5896d030be4b4fadc965afec032582": {
          "model_module": "@jupyter-widgets/base",
          "model_name": "LayoutModel",
          "model_module_version": "1.2.0",
          "state": {
            "_model_module": "@jupyter-widgets/base",
            "_model_module_version": "1.2.0",
            "_model_name": "LayoutModel",
            "_view_count": null,
            "_view_module": "@jupyter-widgets/base",
            "_view_module_version": "1.2.0",
            "_view_name": "LayoutView",
            "align_content": null,
            "align_items": null,
            "align_self": null,
            "border": null,
            "bottom": null,
            "display": null,
            "flex": null,
            "flex_flow": null,
            "grid_area": null,
            "grid_auto_columns": null,
            "grid_auto_flow": null,
            "grid_auto_rows": null,
            "grid_column": null,
            "grid_gap": null,
            "grid_row": null,
            "grid_template_areas": null,
            "grid_template_columns": null,
            "grid_template_rows": null,
            "height": null,
            "justify_content": null,
            "justify_items": null,
            "left": null,
            "margin": null,
            "max_height": null,
            "max_width": null,
            "min_height": null,
            "min_width": null,
            "object_fit": null,
            "object_position": null,
            "order": null,
            "overflow": null,
            "overflow_x": null,
            "overflow_y": null,
            "padding": null,
            "right": null,
            "top": null,
            "visibility": null,
            "width": null
          }
        },
        "1d67f5272b344625b9e1c22b8f818c2c": {
          "model_module": "@jupyter-widgets/base",
          "model_name": "LayoutModel",
          "model_module_version": "1.2.0",
          "state": {
            "_model_module": "@jupyter-widgets/base",
            "_model_module_version": "1.2.0",
            "_model_name": "LayoutModel",
            "_view_count": null,
            "_view_module": "@jupyter-widgets/base",
            "_view_module_version": "1.2.0",
            "_view_name": "LayoutView",
            "align_content": null,
            "align_items": null,
            "align_self": null,
            "border": null,
            "bottom": null,
            "display": null,
            "flex": null,
            "flex_flow": null,
            "grid_area": null,
            "grid_auto_columns": null,
            "grid_auto_flow": null,
            "grid_auto_rows": null,
            "grid_column": null,
            "grid_gap": null,
            "grid_row": null,
            "grid_template_areas": null,
            "grid_template_columns": null,
            "grid_template_rows": null,
            "height": null,
            "justify_content": null,
            "justify_items": null,
            "left": null,
            "margin": null,
            "max_height": null,
            "max_width": null,
            "min_height": null,
            "min_width": null,
            "object_fit": null,
            "object_position": null,
            "order": null,
            "overflow": null,
            "overflow_x": null,
            "overflow_y": null,
            "padding": null,
            "right": null,
            "top": null,
            "visibility": null,
            "width": null
          }
        },
        "8af6128dc26744938ebb6eaa145d2b3a": {
          "model_module": "@jupyter-widgets/controls",
          "model_name": "DescriptionStyleModel",
          "model_module_version": "1.5.0",
          "state": {
            "_model_module": "@jupyter-widgets/controls",
            "_model_module_version": "1.5.0",
            "_model_name": "DescriptionStyleModel",
            "_view_count": null,
            "_view_module": "@jupyter-widgets/base",
            "_view_module_version": "1.2.0",
            "_view_name": "StyleView",
            "description_width": ""
          }
        },
        "5869df010e4c4b38b830469e9b89179d": {
          "model_module": "@jupyter-widgets/base",
          "model_name": "LayoutModel",
          "model_module_version": "1.2.0",
          "state": {
            "_model_module": "@jupyter-widgets/base",
            "_model_module_version": "1.2.0",
            "_model_name": "LayoutModel",
            "_view_count": null,
            "_view_module": "@jupyter-widgets/base",
            "_view_module_version": "1.2.0",
            "_view_name": "LayoutView",
            "align_content": null,
            "align_items": null,
            "align_self": null,
            "border": null,
            "bottom": null,
            "display": null,
            "flex": null,
            "flex_flow": null,
            "grid_area": null,
            "grid_auto_columns": null,
            "grid_auto_flow": null,
            "grid_auto_rows": null,
            "grid_column": null,
            "grid_gap": null,
            "grid_row": null,
            "grid_template_areas": null,
            "grid_template_columns": null,
            "grid_template_rows": null,
            "height": null,
            "justify_content": null,
            "justify_items": null,
            "left": null,
            "margin": null,
            "max_height": null,
            "max_width": null,
            "min_height": null,
            "min_width": null,
            "object_fit": null,
            "object_position": null,
            "order": null,
            "overflow": null,
            "overflow_x": null,
            "overflow_y": null,
            "padding": null,
            "right": null,
            "top": null,
            "visibility": null,
            "width": null
          }
        },
        "4084ce25fa334558bfb6eb9d907d613c": {
          "model_module": "@jupyter-widgets/controls",
          "model_name": "ProgressStyleModel",
          "model_module_version": "1.5.0",
          "state": {
            "_model_module": "@jupyter-widgets/controls",
            "_model_module_version": "1.5.0",
            "_model_name": "ProgressStyleModel",
            "_view_count": null,
            "_view_module": "@jupyter-widgets/base",
            "_view_module_version": "1.2.0",
            "_view_name": "StyleView",
            "bar_color": null,
            "description_width": ""
          }
        },
        "91eb4e648b194c61b356cead6e063c57": {
          "model_module": "@jupyter-widgets/base",
          "model_name": "LayoutModel",
          "model_module_version": "1.2.0",
          "state": {
            "_model_module": "@jupyter-widgets/base",
            "_model_module_version": "1.2.0",
            "_model_name": "LayoutModel",
            "_view_count": null,
            "_view_module": "@jupyter-widgets/base",
            "_view_module_version": "1.2.0",
            "_view_name": "LayoutView",
            "align_content": null,
            "align_items": null,
            "align_self": null,
            "border": null,
            "bottom": null,
            "display": null,
            "flex": null,
            "flex_flow": null,
            "grid_area": null,
            "grid_auto_columns": null,
            "grid_auto_flow": null,
            "grid_auto_rows": null,
            "grid_column": null,
            "grid_gap": null,
            "grid_row": null,
            "grid_template_areas": null,
            "grid_template_columns": null,
            "grid_template_rows": null,
            "height": null,
            "justify_content": null,
            "justify_items": null,
            "left": null,
            "margin": null,
            "max_height": null,
            "max_width": null,
            "min_height": null,
            "min_width": null,
            "object_fit": null,
            "object_position": null,
            "order": null,
            "overflow": null,
            "overflow_x": null,
            "overflow_y": null,
            "padding": null,
            "right": null,
            "top": null,
            "visibility": null,
            "width": null
          }
        },
        "fc2bc7a542ac489480460b1c9ff748d4": {
          "model_module": "@jupyter-widgets/controls",
          "model_name": "DescriptionStyleModel",
          "model_module_version": "1.5.0",
          "state": {
            "_model_module": "@jupyter-widgets/controls",
            "_model_module_version": "1.5.0",
            "_model_name": "DescriptionStyleModel",
            "_view_count": null,
            "_view_module": "@jupyter-widgets/base",
            "_view_module_version": "1.2.0",
            "_view_name": "StyleView",
            "description_width": ""
          }
        },
        "d5ec9ecff028444899bbf57f8c943b39": {
          "model_module": "@jupyter-widgets/controls",
          "model_name": "HBoxModel",
          "model_module_version": "1.5.0",
          "state": {
            "_dom_classes": [],
            "_model_module": "@jupyter-widgets/controls",
            "_model_module_version": "1.5.0",
            "_model_name": "HBoxModel",
            "_view_count": null,
            "_view_module": "@jupyter-widgets/controls",
            "_view_module_version": "1.5.0",
            "_view_name": "HBoxView",
            "box_style": "",
            "children": [
              "IPY_MODEL_e715350ccb6742ebb3451c679ab42012",
              "IPY_MODEL_3b6269e2a3ed4c0bb64fd01fed5d34a1",
              "IPY_MODEL_7784a8e4b39f40439d0e24495afb6c3d"
            ],
            "layout": "IPY_MODEL_53dfb85a33ed40ffb11d004c12b33b3a"
          }
        },
        "e715350ccb6742ebb3451c679ab42012": {
          "model_module": "@jupyter-widgets/controls",
          "model_name": "HTMLModel",
          "model_module_version": "1.5.0",
          "state": {
            "_dom_classes": [],
            "_model_module": "@jupyter-widgets/controls",
            "_model_module_version": "1.5.0",
            "_model_name": "HTMLModel",
            "_view_count": null,
            "_view_module": "@jupyter-widgets/controls",
            "_view_module_version": "1.5.0",
            "_view_name": "HTMLView",
            "description": "",
            "description_tooltip": null,
            "layout": "IPY_MODEL_d86491237d6e43129c47825b8ec71dce",
            "placeholder": "​",
            "style": "IPY_MODEL_531e6778885e41899e1184552f5c6b97",
            "value": "model.safetensors: 100%"
          }
        },
        "3b6269e2a3ed4c0bb64fd01fed5d34a1": {
          "model_module": "@jupyter-widgets/controls",
          "model_name": "FloatProgressModel",
          "model_module_version": "1.5.0",
          "state": {
            "_dom_classes": [],
            "_model_module": "@jupyter-widgets/controls",
            "_model_module_version": "1.5.0",
            "_model_name": "FloatProgressModel",
            "_view_count": null,
            "_view_module": "@jupyter-widgets/controls",
            "_view_module_version": "1.5.0",
            "_view_name": "ProgressView",
            "bar_style": "success",
            "description": "",
            "description_tooltip": null,
            "layout": "IPY_MODEL_dc161e7e855b4f1390a045ba8302a456",
            "max": 647614118,
            "min": 0,
            "orientation": "horizontal",
            "style": "IPY_MODEL_d7f5332b1fd047759fa55bf96696bc7a",
            "value": 647614118
          }
        },
        "7784a8e4b39f40439d0e24495afb6c3d": {
          "model_module": "@jupyter-widgets/controls",
          "model_name": "HTMLModel",
          "model_module_version": "1.5.0",
          "state": {
            "_dom_classes": [],
            "_model_module": "@jupyter-widgets/controls",
            "_model_module_version": "1.5.0",
            "_model_name": "HTMLModel",
            "_view_count": null,
            "_view_module": "@jupyter-widgets/controls",
            "_view_module_version": "1.5.0",
            "_view_name": "HTMLView",
            "description": "",
            "description_tooltip": null,
            "layout": "IPY_MODEL_36b0b816ec67474ca459bb4ed1acc8a8",
            "placeholder": "​",
            "style": "IPY_MODEL_4e4589db2aa442569f86f3983dfa299c",
            "value": " 648M/648M [00:12&lt;00:00, 51.8MB/s]"
          }
        },
        "53dfb85a33ed40ffb11d004c12b33b3a": {
          "model_module": "@jupyter-widgets/base",
          "model_name": "LayoutModel",
          "model_module_version": "1.2.0",
          "state": {
            "_model_module": "@jupyter-widgets/base",
            "_model_module_version": "1.2.0",
            "_model_name": "LayoutModel",
            "_view_count": null,
            "_view_module": "@jupyter-widgets/base",
            "_view_module_version": "1.2.0",
            "_view_name": "LayoutView",
            "align_content": null,
            "align_items": null,
            "align_self": null,
            "border": null,
            "bottom": null,
            "display": null,
            "flex": null,
            "flex_flow": null,
            "grid_area": null,
            "grid_auto_columns": null,
            "grid_auto_flow": null,
            "grid_auto_rows": null,
            "grid_column": null,
            "grid_gap": null,
            "grid_row": null,
            "grid_template_areas": null,
            "grid_template_columns": null,
            "grid_template_rows": null,
            "height": null,
            "justify_content": null,
            "justify_items": null,
            "left": null,
            "margin": null,
            "max_height": null,
            "max_width": null,
            "min_height": null,
            "min_width": null,
            "object_fit": null,
            "object_position": null,
            "order": null,
            "overflow": null,
            "overflow_x": null,
            "overflow_y": null,
            "padding": null,
            "right": null,
            "top": null,
            "visibility": null,
            "width": null
          }
        },
        "d86491237d6e43129c47825b8ec71dce": {
          "model_module": "@jupyter-widgets/base",
          "model_name": "LayoutModel",
          "model_module_version": "1.2.0",
          "state": {
            "_model_module": "@jupyter-widgets/base",
            "_model_module_version": "1.2.0",
            "_model_name": "LayoutModel",
            "_view_count": null,
            "_view_module": "@jupyter-widgets/base",
            "_view_module_version": "1.2.0",
            "_view_name": "LayoutView",
            "align_content": null,
            "align_items": null,
            "align_self": null,
            "border": null,
            "bottom": null,
            "display": null,
            "flex": null,
            "flex_flow": null,
            "grid_area": null,
            "grid_auto_columns": null,
            "grid_auto_flow": null,
            "grid_auto_rows": null,
            "grid_column": null,
            "grid_gap": null,
            "grid_row": null,
            "grid_template_areas": null,
            "grid_template_columns": null,
            "grid_template_rows": null,
            "height": null,
            "justify_content": null,
            "justify_items": null,
            "left": null,
            "margin": null,
            "max_height": null,
            "max_width": null,
            "min_height": null,
            "min_width": null,
            "object_fit": null,
            "object_position": null,
            "order": null,
            "overflow": null,
            "overflow_x": null,
            "overflow_y": null,
            "padding": null,
            "right": null,
            "top": null,
            "visibility": null,
            "width": null
          }
        },
        "531e6778885e41899e1184552f5c6b97": {
          "model_module": "@jupyter-widgets/controls",
          "model_name": "DescriptionStyleModel",
          "model_module_version": "1.5.0",
          "state": {
            "_model_module": "@jupyter-widgets/controls",
            "_model_module_version": "1.5.0",
            "_model_name": "DescriptionStyleModel",
            "_view_count": null,
            "_view_module": "@jupyter-widgets/base",
            "_view_module_version": "1.2.0",
            "_view_name": "StyleView",
            "description_width": ""
          }
        },
        "dc161e7e855b4f1390a045ba8302a456": {
          "model_module": "@jupyter-widgets/base",
          "model_name": "LayoutModel",
          "model_module_version": "1.2.0",
          "state": {
            "_model_module": "@jupyter-widgets/base",
            "_model_module_version": "1.2.0",
            "_model_name": "LayoutModel",
            "_view_count": null,
            "_view_module": "@jupyter-widgets/base",
            "_view_module_version": "1.2.0",
            "_view_name": "LayoutView",
            "align_content": null,
            "align_items": null,
            "align_self": null,
            "border": null,
            "bottom": null,
            "display": null,
            "flex": null,
            "flex_flow": null,
            "grid_area": null,
            "grid_auto_columns": null,
            "grid_auto_flow": null,
            "grid_auto_rows": null,
            "grid_column": null,
            "grid_gap": null,
            "grid_row": null,
            "grid_template_areas": null,
            "grid_template_columns": null,
            "grid_template_rows": null,
            "height": null,
            "justify_content": null,
            "justify_items": null,
            "left": null,
            "margin": null,
            "max_height": null,
            "max_width": null,
            "min_height": null,
            "min_width": null,
            "object_fit": null,
            "object_position": null,
            "order": null,
            "overflow": null,
            "overflow_x": null,
            "overflow_y": null,
            "padding": null,
            "right": null,
            "top": null,
            "visibility": null,
            "width": null
          }
        },
        "d7f5332b1fd047759fa55bf96696bc7a": {
          "model_module": "@jupyter-widgets/controls",
          "model_name": "ProgressStyleModel",
          "model_module_version": "1.5.0",
          "state": {
            "_model_module": "@jupyter-widgets/controls",
            "_model_module_version": "1.5.0",
            "_model_name": "ProgressStyleModel",
            "_view_count": null,
            "_view_module": "@jupyter-widgets/base",
            "_view_module_version": "1.2.0",
            "_view_name": "StyleView",
            "bar_color": null,
            "description_width": ""
          }
        },
        "36b0b816ec67474ca459bb4ed1acc8a8": {
          "model_module": "@jupyter-widgets/base",
          "model_name": "LayoutModel",
          "model_module_version": "1.2.0",
          "state": {
            "_model_module": "@jupyter-widgets/base",
            "_model_module_version": "1.2.0",
            "_model_name": "LayoutModel",
            "_view_count": null,
            "_view_module": "@jupyter-widgets/base",
            "_view_module_version": "1.2.0",
            "_view_name": "LayoutView",
            "align_content": null,
            "align_items": null,
            "align_self": null,
            "border": null,
            "bottom": null,
            "display": null,
            "flex": null,
            "flex_flow": null,
            "grid_area": null,
            "grid_auto_columns": null,
            "grid_auto_flow": null,
            "grid_auto_rows": null,
            "grid_column": null,
            "grid_gap": null,
            "grid_row": null,
            "grid_template_areas": null,
            "grid_template_columns": null,
            "grid_template_rows": null,
            "height": null,
            "justify_content": null,
            "justify_items": null,
            "left": null,
            "margin": null,
            "max_height": null,
            "max_width": null,
            "min_height": null,
            "min_width": null,
            "object_fit": null,
            "object_position": null,
            "order": null,
            "overflow": null,
            "overflow_x": null,
            "overflow_y": null,
            "padding": null,
            "right": null,
            "top": null,
            "visibility": null,
            "width": null
          }
        },
        "4e4589db2aa442569f86f3983dfa299c": {
          "model_module": "@jupyter-widgets/controls",
          "model_name": "DescriptionStyleModel",
          "model_module_version": "1.5.0",
          "state": {
            "_model_module": "@jupyter-widgets/controls",
            "_model_module_version": "1.5.0",
            "_model_name": "DescriptionStyleModel",
            "_view_count": null,
            "_view_module": "@jupyter-widgets/base",
            "_view_module_version": "1.2.0",
            "_view_name": "StyleView",
            "description_width": ""
          }
        },
        "e0dba7c798c346f4816ceb2495df315a": {
          "model_module": "@jupyter-widgets/controls",
          "model_name": "HBoxModel",
          "model_module_version": "1.5.0",
          "state": {
            "_dom_classes": [],
            "_model_module": "@jupyter-widgets/controls",
            "_model_module_version": "1.5.0",
            "_model_name": "HBoxModel",
            "_view_count": null,
            "_view_module": "@jupyter-widgets/controls",
            "_view_module_version": "1.5.0",
            "_view_name": "HBoxView",
            "box_style": "",
            "children": [
              "IPY_MODEL_7f75e2527fbc4056a8682d4dc4a6f7e0",
              "IPY_MODEL_539e7fd2494f4fe084bcaf4311ddc666",
              "IPY_MODEL_fc1ac670dc45435ca4525fa4e0e86e16"
            ],
            "layout": "IPY_MODEL_f54b47cf3b9542de9da19cda1708456f"
          }
        },
        "7f75e2527fbc4056a8682d4dc4a6f7e0": {
          "model_module": "@jupyter-widgets/controls",
          "model_name": "HTMLModel",
          "model_module_version": "1.5.0",
          "state": {
            "_dom_classes": [],
            "_model_module": "@jupyter-widgets/controls",
            "_model_module_version": "1.5.0",
            "_model_name": "HTMLModel",
            "_view_count": null,
            "_view_module": "@jupyter-widgets/controls",
            "_view_module_version": "1.5.0",
            "_view_name": "HTMLView",
            "description": "",
            "description_tooltip": null,
            "layout": "IPY_MODEL_c105b04f9d004d28a9c744cd33a5ac36",
            "placeholder": "​",
            "style": "IPY_MODEL_20089bb9ce11478fa6cc0e574aab942b",
            "value": "Map: 100%"
          }
        },
        "539e7fd2494f4fe084bcaf4311ddc666": {
          "model_module": "@jupyter-widgets/controls",
          "model_name": "FloatProgressModel",
          "model_module_version": "1.5.0",
          "state": {
            "_dom_classes": [],
            "_model_module": "@jupyter-widgets/controls",
            "_model_module_version": "1.5.0",
            "_model_name": "FloatProgressModel",
            "_view_count": null,
            "_view_module": "@jupyter-widgets/controls",
            "_view_module_version": "1.5.0",
            "_view_name": "ProgressView",
            "bar_style": "success",
            "description": "",
            "description_tooltip": null,
            "layout": "IPY_MODEL_6fd65a732cf24573a43e54a79f334dc9",
            "max": 7030,
            "min": 0,
            "orientation": "horizontal",
            "style": "IPY_MODEL_5c466b69e94f4c86943af6c4d7612646",
            "value": 7030
          }
        },
        "fc1ac670dc45435ca4525fa4e0e86e16": {
          "model_module": "@jupyter-widgets/controls",
          "model_name": "HTMLModel",
          "model_module_version": "1.5.0",
          "state": {
            "_dom_classes": [],
            "_model_module": "@jupyter-widgets/controls",
            "_model_module_version": "1.5.0",
            "_model_name": "HTMLModel",
            "_view_count": null,
            "_view_module": "@jupyter-widgets/controls",
            "_view_module_version": "1.5.0",
            "_view_name": "HTMLView",
            "description": "",
            "description_tooltip": null,
            "layout": "IPY_MODEL_cce274d22485411fbc25105381fe38ef",
            "placeholder": "​",
            "style": "IPY_MODEL_c93442f619164e80b306411dbc04fe5c",
            "value": " 7030/7030 [05:12&lt;00:00, 22.28 examples/s]"
          }
        },
        "f54b47cf3b9542de9da19cda1708456f": {
          "model_module": "@jupyter-widgets/base",
          "model_name": "LayoutModel",
          "model_module_version": "1.2.0",
          "state": {
            "_model_module": "@jupyter-widgets/base",
            "_model_module_version": "1.2.0",
            "_model_name": "LayoutModel",
            "_view_count": null,
            "_view_module": "@jupyter-widgets/base",
            "_view_module_version": "1.2.0",
            "_view_name": "LayoutView",
            "align_content": null,
            "align_items": null,
            "align_self": null,
            "border": null,
            "bottom": null,
            "display": null,
            "flex": null,
            "flex_flow": null,
            "grid_area": null,
            "grid_auto_columns": null,
            "grid_auto_flow": null,
            "grid_auto_rows": null,
            "grid_column": null,
            "grid_gap": null,
            "grid_row": null,
            "grid_template_areas": null,
            "grid_template_columns": null,
            "grid_template_rows": null,
            "height": null,
            "justify_content": null,
            "justify_items": null,
            "left": null,
            "margin": null,
            "max_height": null,
            "max_width": null,
            "min_height": null,
            "min_width": null,
            "object_fit": null,
            "object_position": null,
            "order": null,
            "overflow": null,
            "overflow_x": null,
            "overflow_y": null,
            "padding": null,
            "right": null,
            "top": null,
            "visibility": null,
            "width": null
          }
        },
        "c105b04f9d004d28a9c744cd33a5ac36": {
          "model_module": "@jupyter-widgets/base",
          "model_name": "LayoutModel",
          "model_module_version": "1.2.0",
          "state": {
            "_model_module": "@jupyter-widgets/base",
            "_model_module_version": "1.2.0",
            "_model_name": "LayoutModel",
            "_view_count": null,
            "_view_module": "@jupyter-widgets/base",
            "_view_module_version": "1.2.0",
            "_view_name": "LayoutView",
            "align_content": null,
            "align_items": null,
            "align_self": null,
            "border": null,
            "bottom": null,
            "display": null,
            "flex": null,
            "flex_flow": null,
            "grid_area": null,
            "grid_auto_columns": null,
            "grid_auto_flow": null,
            "grid_auto_rows": null,
            "grid_column": null,
            "grid_gap": null,
            "grid_row": null,
            "grid_template_areas": null,
            "grid_template_columns": null,
            "grid_template_rows": null,
            "height": null,
            "justify_content": null,
            "justify_items": null,
            "left": null,
            "margin": null,
            "max_height": null,
            "max_width": null,
            "min_height": null,
            "min_width": null,
            "object_fit": null,
            "object_position": null,
            "order": null,
            "overflow": null,
            "overflow_x": null,
            "overflow_y": null,
            "padding": null,
            "right": null,
            "top": null,
            "visibility": null,
            "width": null
          }
        },
        "20089bb9ce11478fa6cc0e574aab942b": {
          "model_module": "@jupyter-widgets/controls",
          "model_name": "DescriptionStyleModel",
          "model_module_version": "1.5.0",
          "state": {
            "_model_module": "@jupyter-widgets/controls",
            "_model_module_version": "1.5.0",
            "_model_name": "DescriptionStyleModel",
            "_view_count": null,
            "_view_module": "@jupyter-widgets/base",
            "_view_module_version": "1.2.0",
            "_view_name": "StyleView",
            "description_width": ""
          }
        },
        "6fd65a732cf24573a43e54a79f334dc9": {
          "model_module": "@jupyter-widgets/base",
          "model_name": "LayoutModel",
          "model_module_version": "1.2.0",
          "state": {
            "_model_module": "@jupyter-widgets/base",
            "_model_module_version": "1.2.0",
            "_model_name": "LayoutModel",
            "_view_count": null,
            "_view_module": "@jupyter-widgets/base",
            "_view_module_version": "1.2.0",
            "_view_name": "LayoutView",
            "align_content": null,
            "align_items": null,
            "align_self": null,
            "border": null,
            "bottom": null,
            "display": null,
            "flex": null,
            "flex_flow": null,
            "grid_area": null,
            "grid_auto_columns": null,
            "grid_auto_flow": null,
            "grid_auto_rows": null,
            "grid_column": null,
            "grid_gap": null,
            "grid_row": null,
            "grid_template_areas": null,
            "grid_template_columns": null,
            "grid_template_rows": null,
            "height": null,
            "justify_content": null,
            "justify_items": null,
            "left": null,
            "margin": null,
            "max_height": null,
            "max_width": null,
            "min_height": null,
            "min_width": null,
            "object_fit": null,
            "object_position": null,
            "order": null,
            "overflow": null,
            "overflow_x": null,
            "overflow_y": null,
            "padding": null,
            "right": null,
            "top": null,
            "visibility": null,
            "width": null
          }
        },
        "5c466b69e94f4c86943af6c4d7612646": {
          "model_module": "@jupyter-widgets/controls",
          "model_name": "ProgressStyleModel",
          "model_module_version": "1.5.0",
          "state": {
            "_model_module": "@jupyter-widgets/controls",
            "_model_module_version": "1.5.0",
            "_model_name": "ProgressStyleModel",
            "_view_count": null,
            "_view_module": "@jupyter-widgets/base",
            "_view_module_version": "1.2.0",
            "_view_name": "StyleView",
            "bar_color": null,
            "description_width": ""
          }
        },
        "cce274d22485411fbc25105381fe38ef": {
          "model_module": "@jupyter-widgets/base",
          "model_name": "LayoutModel",
          "model_module_version": "1.2.0",
          "state": {
            "_model_module": "@jupyter-widgets/base",
            "_model_module_version": "1.2.0",
            "_model_name": "LayoutModel",
            "_view_count": null,
            "_view_module": "@jupyter-widgets/base",
            "_view_module_version": "1.2.0",
            "_view_name": "LayoutView",
            "align_content": null,
            "align_items": null,
            "align_self": null,
            "border": null,
            "bottom": null,
            "display": null,
            "flex": null,
            "flex_flow": null,
            "grid_area": null,
            "grid_auto_columns": null,
            "grid_auto_flow": null,
            "grid_auto_rows": null,
            "grid_column": null,
            "grid_gap": null,
            "grid_row": null,
            "grid_template_areas": null,
            "grid_template_columns": null,
            "grid_template_rows": null,
            "height": null,
            "justify_content": null,
            "justify_items": null,
            "left": null,
            "margin": null,
            "max_height": null,
            "max_width": null,
            "min_height": null,
            "min_width": null,
            "object_fit": null,
            "object_position": null,
            "order": null,
            "overflow": null,
            "overflow_x": null,
            "overflow_y": null,
            "padding": null,
            "right": null,
            "top": null,
            "visibility": null,
            "width": null
          }
        },
        "c93442f619164e80b306411dbc04fe5c": {
          "model_module": "@jupyter-widgets/controls",
          "model_name": "DescriptionStyleModel",
          "model_module_version": "1.5.0",
          "state": {
            "_model_module": "@jupyter-widgets/controls",
            "_model_module_version": "1.5.0",
            "_model_name": "DescriptionStyleModel",
            "_view_count": null,
            "_view_module": "@jupyter-widgets/base",
            "_view_module_version": "1.2.0",
            "_view_name": "StyleView",
            "description_width": ""
          }
        },
        "f3649627050a4e6baa87997451be3e30": {
          "model_module": "@jupyter-widgets/controls",
          "model_name": "HBoxModel",
          "model_module_version": "1.5.0",
          "state": {
            "_dom_classes": [],
            "_model_module": "@jupyter-widgets/controls",
            "_model_module_version": "1.5.0",
            "_model_name": "HBoxModel",
            "_view_count": null,
            "_view_module": "@jupyter-widgets/controls",
            "_view_module_version": "1.5.0",
            "_view_name": "HBoxView",
            "box_style": "",
            "children": [
              "IPY_MODEL_fd726b0fbd464c68886c265569edae86",
              "IPY_MODEL_3b866f0e9efe4656af5a05a980e98186",
              "IPY_MODEL_195766f6daf6420aac38a0eb0d7c68ab"
            ],
            "layout": "IPY_MODEL_061e3aacc6934ffc855520a91353b005"
          }
        },
        "fd726b0fbd464c68886c265569edae86": {
          "model_module": "@jupyter-widgets/controls",
          "model_name": "HTMLModel",
          "model_module_version": "1.5.0",
          "state": {
            "_dom_classes": [],
            "_model_module": "@jupyter-widgets/controls",
            "_model_module_version": "1.5.0",
            "_model_name": "HTMLModel",
            "_view_count": null,
            "_view_module": "@jupyter-widgets/controls",
            "_view_module_version": "1.5.0",
            "_view_name": "HTMLView",
            "description": "",
            "description_tooltip": null,
            "layout": "IPY_MODEL_a37ade2f104f4a09a5b7696b2cc7e180",
            "placeholder": "​",
            "style": "IPY_MODEL_d678a3bf1da8450d89816b5014bdcb49",
            "value": "Map: 100%"
          }
        },
        "3b866f0e9efe4656af5a05a980e98186": {
          "model_module": "@jupyter-widgets/controls",
          "model_name": "FloatProgressModel",
          "model_module_version": "1.5.0",
          "state": {
            "_dom_classes": [],
            "_model_module": "@jupyter-widgets/controls",
            "_model_module_version": "1.5.0",
            "_model_name": "FloatProgressModel",
            "_view_count": null,
            "_view_module": "@jupyter-widgets/controls",
            "_view_module_version": "1.5.0",
            "_view_name": "ProgressView",
            "bar_style": "success",
            "description": "",
            "description_tooltip": null,
            "layout": "IPY_MODEL_8530f7b7fe7743ec8b3ad37bf6e3d4e3",
            "max": 100,
            "min": 0,
            "orientation": "horizontal",
            "style": "IPY_MODEL_05017a9702fe413ba4c2978ffa14bf20",
            "value": 100
          }
        },
        "195766f6daf6420aac38a0eb0d7c68ab": {
          "model_module": "@jupyter-widgets/controls",
          "model_name": "HTMLModel",
          "model_module_version": "1.5.0",
          "state": {
            "_dom_classes": [],
            "_model_module": "@jupyter-widgets/controls",
            "_model_module_version": "1.5.0",
            "_model_name": "HTMLModel",
            "_view_count": null,
            "_view_module": "@jupyter-widgets/controls",
            "_view_module_version": "1.5.0",
            "_view_name": "HTMLView",
            "description": "",
            "description_tooltip": null,
            "layout": "IPY_MODEL_bac24259ad7a4de497f1cab13937f679",
            "placeholder": "​",
            "style": "IPY_MODEL_2693d77d3b3c4c95b939dcb5ca791006",
            "value": " 100/100 [00:04&lt;00:00, 20.97 examples/s]"
          }
        },
        "061e3aacc6934ffc855520a91353b005": {
          "model_module": "@jupyter-widgets/base",
          "model_name": "LayoutModel",
          "model_module_version": "1.2.0",
          "state": {
            "_model_module": "@jupyter-widgets/base",
            "_model_module_version": "1.2.0",
            "_model_name": "LayoutModel",
            "_view_count": null,
            "_view_module": "@jupyter-widgets/base",
            "_view_module_version": "1.2.0",
            "_view_name": "LayoutView",
            "align_content": null,
            "align_items": null,
            "align_self": null,
            "border": null,
            "bottom": null,
            "display": null,
            "flex": null,
            "flex_flow": null,
            "grid_area": null,
            "grid_auto_columns": null,
            "grid_auto_flow": null,
            "grid_auto_rows": null,
            "grid_column": null,
            "grid_gap": null,
            "grid_row": null,
            "grid_template_areas": null,
            "grid_template_columns": null,
            "grid_template_rows": null,
            "height": null,
            "justify_content": null,
            "justify_items": null,
            "left": null,
            "margin": null,
            "max_height": null,
            "max_width": null,
            "min_height": null,
            "min_width": null,
            "object_fit": null,
            "object_position": null,
            "order": null,
            "overflow": null,
            "overflow_x": null,
            "overflow_y": null,
            "padding": null,
            "right": null,
            "top": null,
            "visibility": null,
            "width": null
          }
        },
        "a37ade2f104f4a09a5b7696b2cc7e180": {
          "model_module": "@jupyter-widgets/base",
          "model_name": "LayoutModel",
          "model_module_version": "1.2.0",
          "state": {
            "_model_module": "@jupyter-widgets/base",
            "_model_module_version": "1.2.0",
            "_model_name": "LayoutModel",
            "_view_count": null,
            "_view_module": "@jupyter-widgets/base",
            "_view_module_version": "1.2.0",
            "_view_name": "LayoutView",
            "align_content": null,
            "align_items": null,
            "align_self": null,
            "border": null,
            "bottom": null,
            "display": null,
            "flex": null,
            "flex_flow": null,
            "grid_area": null,
            "grid_auto_columns": null,
            "grid_auto_flow": null,
            "grid_auto_rows": null,
            "grid_column": null,
            "grid_gap": null,
            "grid_row": null,
            "grid_template_areas": null,
            "grid_template_columns": null,
            "grid_template_rows": null,
            "height": null,
            "justify_content": null,
            "justify_items": null,
            "left": null,
            "margin": null,
            "max_height": null,
            "max_width": null,
            "min_height": null,
            "min_width": null,
            "object_fit": null,
            "object_position": null,
            "order": null,
            "overflow": null,
            "overflow_x": null,
            "overflow_y": null,
            "padding": null,
            "right": null,
            "top": null,
            "visibility": null,
            "width": null
          }
        },
        "d678a3bf1da8450d89816b5014bdcb49": {
          "model_module": "@jupyter-widgets/controls",
          "model_name": "DescriptionStyleModel",
          "model_module_version": "1.5.0",
          "state": {
            "_model_module": "@jupyter-widgets/controls",
            "_model_module_version": "1.5.0",
            "_model_name": "DescriptionStyleModel",
            "_view_count": null,
            "_view_module": "@jupyter-widgets/base",
            "_view_module_version": "1.2.0",
            "_view_name": "StyleView",
            "description_width": ""
          }
        },
        "8530f7b7fe7743ec8b3ad37bf6e3d4e3": {
          "model_module": "@jupyter-widgets/base",
          "model_name": "LayoutModel",
          "model_module_version": "1.2.0",
          "state": {
            "_model_module": "@jupyter-widgets/base",
            "_model_module_version": "1.2.0",
            "_model_name": "LayoutModel",
            "_view_count": null,
            "_view_module": "@jupyter-widgets/base",
            "_view_module_version": "1.2.0",
            "_view_name": "LayoutView",
            "align_content": null,
            "align_items": null,
            "align_self": null,
            "border": null,
            "bottom": null,
            "display": null,
            "flex": null,
            "flex_flow": null,
            "grid_area": null,
            "grid_auto_columns": null,
            "grid_auto_flow": null,
            "grid_auto_rows": null,
            "grid_column": null,
            "grid_gap": null,
            "grid_row": null,
            "grid_template_areas": null,
            "grid_template_columns": null,
            "grid_template_rows": null,
            "height": null,
            "justify_content": null,
            "justify_items": null,
            "left": null,
            "margin": null,
            "max_height": null,
            "max_width": null,
            "min_height": null,
            "min_width": null,
            "object_fit": null,
            "object_position": null,
            "order": null,
            "overflow": null,
            "overflow_x": null,
            "overflow_y": null,
            "padding": null,
            "right": null,
            "top": null,
            "visibility": null,
            "width": null
          }
        },
        "05017a9702fe413ba4c2978ffa14bf20": {
          "model_module": "@jupyter-widgets/controls",
          "model_name": "ProgressStyleModel",
          "model_module_version": "1.5.0",
          "state": {
            "_model_module": "@jupyter-widgets/controls",
            "_model_module_version": "1.5.0",
            "_model_name": "ProgressStyleModel",
            "_view_count": null,
            "_view_module": "@jupyter-widgets/base",
            "_view_module_version": "1.2.0",
            "_view_name": "StyleView",
            "bar_color": null,
            "description_width": ""
          }
        },
        "bac24259ad7a4de497f1cab13937f679": {
          "model_module": "@jupyter-widgets/base",
          "model_name": "LayoutModel",
          "model_module_version": "1.2.0",
          "state": {
            "_model_module": "@jupyter-widgets/base",
            "_model_module_version": "1.2.0",
            "_model_name": "LayoutModel",
            "_view_count": null,
            "_view_module": "@jupyter-widgets/base",
            "_view_module_version": "1.2.0",
            "_view_name": "LayoutView",
            "align_content": null,
            "align_items": null,
            "align_self": null,
            "border": null,
            "bottom": null,
            "display": null,
            "flex": null,
            "flex_flow": null,
            "grid_area": null,
            "grid_auto_columns": null,
            "grid_auto_flow": null,
            "grid_auto_rows": null,
            "grid_column": null,
            "grid_gap": null,
            "grid_row": null,
            "grid_template_areas": null,
            "grid_template_columns": null,
            "grid_template_rows": null,
            "height": null,
            "justify_content": null,
            "justify_items": null,
            "left": null,
            "margin": null,
            "max_height": null,
            "max_width": null,
            "min_height": null,
            "min_width": null,
            "object_fit": null,
            "object_position": null,
            "order": null,
            "overflow": null,
            "overflow_x": null,
            "overflow_y": null,
            "padding": null,
            "right": null,
            "top": null,
            "visibility": null,
            "width": null
          }
        },
        "2693d77d3b3c4c95b939dcb5ca791006": {
          "model_module": "@jupyter-widgets/controls",
          "model_name": "DescriptionStyleModel",
          "model_module_version": "1.5.0",
          "state": {
            "_model_module": "@jupyter-widgets/controls",
            "_model_module_version": "1.5.0",
            "_model_name": "DescriptionStyleModel",
            "_view_count": null,
            "_view_module": "@jupyter-widgets/base",
            "_view_module_version": "1.2.0",
            "_view_name": "StyleView",
            "description_width": ""
          }
        }
      }
    },
    "kaggle": {
      "accelerator": "nvidiaTeslaT4",
      "dataSources": [
        {
          "sourceId": 7774886,
          "sourceType": "datasetVersion",
          "datasetId": 4548988
        }
      ],
      "dockerImageVersionId": 30665,
      "isInternetEnabled": true,
      "language": "python",
      "sourceType": "notebook",
      "isGpuEnabled": true
    },
    "accelerator": "GPU"
  },
  "nbformat_minor": 0,
  "nbformat": 4,
  "cells": [
    {
      "cell_type": "markdown",
      "source": [
        "# unzipping the dataset zip file"
      ],
      "metadata": {
        "id": "3W2QFxzwuaZD"
      }
    },
    {
      "cell_type": "code",
      "source": [
        "!unzip '/content/drive/MyDrive/Legal Summarization/7152317.zip' -d '/content/legal_doc'"
      ],
      "metadata": {
        "id": "jJVSSfi40BhA",
        "colab": {
          "base_uri": "https://localhost:8080/"
        },
        "outputId": "4240395b-e42a-4de3-9f41-d32aadbaf02a"
      },
      "execution_count": null,
      "outputs": [
        {
          "output_type": "stream",
          "name": "stdout",
          "text": [
            "Archive:  /content/drive/MyDrive/Legal Summarization/7152317.zip\n",
            " extracting: /content/legal_doc/dataset.zip  \n",
            " extracting: /content/legal_doc/README.md  \n"
          ]
        }
      ]
    },
    {
      "cell_type": "code",
      "source": [
        "!unzip '/content/legal_doc/dataset.zip' # cleared the output cause it was 5000 rows long"
      ],
      "metadata": {
        "id": "PyOCTN2nxMDj"
      },
      "execution_count": null,
      "outputs": []
    },
    {
      "cell_type": "markdown",
      "source": [
        "### Let's do for Indian abstracts first\n",
        "* First we will get the train judgement\n",
        "* Then the train summaries\n",
        "* Then we will get Test judgement\n",
        "* Then the test summaries"
      ],
      "metadata": {
        "id": "KonvhKma0PGv"
      }
    },
    {
      "cell_type": "markdown",
      "source": [
        "#### Train Judgements"
      ],
      "metadata": {
        "id": "S3kkUeos8MAQ"
      }
    },
    {
      "cell_type": "code",
      "source": [
        "import glob"
      ],
      "metadata": {
        "id": "cE0Quxf11FBI",
        "execution": {
          "iopub.status.busy": "2024-03-06T19:26:51.381904Z",
          "iopub.execute_input": "2024-03-06T19:26:51.382287Z",
          "iopub.status.idle": "2024-03-06T19:26:51.393903Z",
          "shell.execute_reply.started": "2024-03-06T19:26:51.382243Z",
          "shell.execute_reply": "2024-03-06T19:26:51.392796Z"
        },
        "trusted": true
      },
      "execution_count": null,
      "outputs": []
    },
    {
      "cell_type": "code",
      "source": [
        "train_judgements_paths=sorted(glob.glob('/content/dataset/IN-Abs/train-data/judgement**/*.txt',recursive=True))"
      ],
      "metadata": {
        "id": "xS-bhoux35x3",
        "execution": {
          "iopub.status.busy": "2024-03-06T19:26:53.619378Z",
          "iopub.execute_input": "2024-03-06T19:26:53.620039Z",
          "iopub.status.idle": "2024-03-06T19:26:53.989101Z",
          "shell.execute_reply.started": "2024-03-06T19:26:53.620011Z",
          "shell.execute_reply": "2024-03-06T19:26:53.988157Z"
        },
        "trusted": true
      },
      "execution_count": null,
      "outputs": []
    },
    {
      "cell_type": "code",
      "source": [
        "\n",
        "train_judgements_paths[:5]"
      ],
      "metadata": {
        "colab": {
          "base_uri": "https://localhost:8080/"
        },
        "id": "wWMC50EU5CPg",
        "outputId": "152fb30b-16df-49e1-de6c-bc6a6b0e18c1",
        "execution": {
          "iopub.status.busy": "2024-03-06T19:26:53.990833Z",
          "iopub.execute_input": "2024-03-06T19:26:53.991135Z",
          "iopub.status.idle": "2024-03-06T19:26:53.997747Z",
          "shell.execute_reply.started": "2024-03-06T19:26:53.991093Z",
          "shell.execute_reply": "2024-03-06T19:26:53.996835Z"
        },
        "trusted": true
      },
      "execution_count": null,
      "outputs": [
        {
          "output_type": "execute_result",
          "data": {
            "text/plain": [
              "['/content/dataset/IN-Abs/train-data/judgement/1.txt',\n",
              " '/content/dataset/IN-Abs/train-data/judgement/10.txt',\n",
              " '/content/dataset/IN-Abs/train-data/judgement/100.txt',\n",
              " '/content/dataset/IN-Abs/train-data/judgement/1000.txt',\n",
              " '/content/dataset/IN-Abs/train-data/judgement/1001.txt']"
            ]
          },
          "metadata": {},
          "execution_count": 34
        }
      ]
    },
    {
      "cell_type": "code",
      "source": [
        "train_judgements=[]\n",
        "for i in train_judgements_paths:\n",
        "  with open(i,'r') as file:\n",
        "    train_judgements.append(file.read())\n",
        "    file.close()\n"
      ],
      "metadata": {
        "id": "jylwgF4o5EY8",
        "execution": {
          "iopub.status.busy": "2024-03-06T19:26:54.461249Z",
          "iopub.execute_input": "2024-03-06T19:26:54.461851Z",
          "iopub.status.idle": "2024-03-06T19:27:32.339474Z",
          "shell.execute_reply.started": "2024-03-06T19:26:54.461822Z",
          "shell.execute_reply": "2024-03-06T19:27:32.338548Z"
        },
        "trusted": true
      },
      "execution_count": null,
      "outputs": []
    },
    {
      "cell_type": "code",
      "source": [
        "train_judgements[0]"
      ],
      "metadata": {
        "colab": {
          "base_uri": "https://localhost:8080/",
          "height": 140
        },
        "id": "H-FA-MKo7bw0",
        "outputId": "cad07119-0dcc-405d-db76-6280c3bcb64c",
        "execution": {
          "iopub.status.busy": "2024-03-06T19:27:32.341153Z",
          "iopub.execute_input": "2024-03-06T19:27:32.341434Z",
          "iopub.status.idle": "2024-03-06T19:27:32.347387Z",
          "shell.execute_reply.started": "2024-03-06T19:27:32.34141Z",
          "shell.execute_reply": "2024-03-06T19:27:32.346539Z"
        },
        "trusted": true
      },
      "execution_count": null,
      "outputs": [
        {
          "output_type": "execute_result",
          "data": {
            "text/plain": [
              "'Appeal No. LXVI of 1949.\\nAppeal from the High Court of judicature, Bombay, in a reference under section 66 of the Indian Income tax Act, 1022.\\nK.M. Munshi (N. P. Nathvani, with him), for the appel lant. \\' M.C. Setalvad, Attorney General for India (H. J. Umrigar, with him), for the respondent. 1950.\\nMay 26.\\nThe judgment of the Court was delivered by MEHR CHAND MAHAJAN J.\\nThis is an appeal against a judgment of the High Court of Judicature at Bombay in an income tax matter and it raises the question whether munici pal property tax and urban immoveable property tax payable under the relevant Bombay Acts are allowable deductions under section 9 (1) (iv) of the Indian Income tax Act.\\nThe assessee company is an investment company deriving its income from properties in the city of Bombay.\\nFor the assessment year 1940 41 the net income of the assessee under the head \"property\" was computed by the Income tax Officer in the sum of Rs. 6,21,764 after deducting from gross rents certain payments.\\nThe company had paid during the relevant year Rs. 1,22,675 as municipal property tax and Rs. 32,760 as urban property tax.\\nDeduction of these two sums was claimed under the provisions of section 9 the Act.\\nOut of the first item a deduction in the sum of Rs. 48,572 was allowed on the ground that this item represented tenants \\' burdens paid by the assessee, otherwise the claim was disal lowed.\\nThe, appeals of the assessee to the Appellate As sistant Commissioner and to the Income tax Appellate Tribu nal were unsuccessful.\\nThe Tribunal, however, agreed to refer two questions of law to the High Court of Judicature at Bombay, namely, (1) Whether the municipal taxes paid by the applicant company are an allowable deduction under 555 the provisions of section 9 (1) (iv) of the Indian Income tax Act; (2) Whether the urban immoveable property taxes paid by the applicant company are an allowable deduction under section 9 (1) (iv) or under section 9 (1) (v) of the Indian Income tax Act.\\nA supplementary reference was made covering a third question which was not raised before us and it is not there fore necessary to refer to it.\\nThe High Court answered all the three questions in the negative and hence this appeal.\\nThe question for our determination is whether the munic ipal property tax and urban immoveable property tax can be deducted as an allowance under clause (iv) of sub section (1) of section 9 of the Act.\\nThe decision of the point depends firstly on the construction of the language employed in sub clause (iv) of sub section (1) of section 9 of the Act, and secondly, on a finding as to the true nature and character of the liability of the owner under the relevant Bombay Acts for the payment of these taxes.\\nSection 9 along with the relevant clause runs thus: (1) The tax shall be payable by an assessee under the head \\' income from property \\' in respect of the bona fide annual value of property consisting of any buildings or lands appurtenant thereto of Which he is the owner, . . subject to the following allowances, namely : (iv) where the property is subject to a mortgage or other capital charge, the amount of any interest on such mortgage or charge; where the property is subject to an annual charge not being a capital charge, the. amount of such charge; where the property is subject to a ground rent, the amount of such ground rent; and, where the property has been acquired, constructed, repaired, renewed or recon structed with borrowed capital, the amount of any interest payable on such capital; . . . \" It will be seen that clause (iv) consists of four sub clauses corresponding to the four deductions allowed 556 under the clause.\\nBefore the amending Act of 1939, clause (iv) contained only the first, third and fourth sub clauses.\\nUnder the first sub clause interest is deductible whether the amount borrowed on the security of the property was spent on the property or not.\\nThere is no question of any capital or other expenditure on the property.\\nThe expression \"capital charge\" in the sub clause cannot connote a charge on the capital, that is, the property assessed.\\nThat would be a redundancy as the opening words themselves clearly indicate that the charge is on the property.\\nWe are therefore of opinion that capital charge here could only mean a charge created for a capital sum, i.e., a charge to secure the discharge of a liability of a capital nature.\\nIn 1933 the Privy Council decided the case of Bijoy Singh.\\nDudhuria vs Commissioner of Income tax, Calcutta (1 ).\\nIt was not an assessment under section 9 but an assess ment on the general income of an assessee who was liable to pay maintenance for his step mother which had been charged on all his assets by a decree of Court.\\nIt was not a li ability voluntarily incurred by him but one cast on him by law.\\nThe Privy Council held that the amount paid by him in discharge of that liability formed no part of his real income and so should not be included in his assessment.\\nThough the decision proceeded on the principle that the outgoings were not part of the assessee \\'s income at all, the framers of the amending Act of 1939 wanted, apparently, to extend the principle, so far as the assessment of property was concerned, even to cases where obligatory payments had to be made out of the assessee \\'s income from the property charged with such payments, and the second sub clause, namely, \"where the property is subject to an annual charge not being a capital charge, the amount of such charge\" was added.\\nIt is this sub clause which the appellant invokes in support of its claim to deduction of the municipal and urban, property taxes in the present case.\\nIn view of the opening words of the newly added sub clause, the expression \"capital charge\" also used therein cannot have reference to a charge on the property, and we think it must (1) I.L.R. 60 cal.\\n557 be understood in the same sense as in sub clause (1); that is to say, the first sub clause having provided for deduc tion of interest where a capital sum is charged on the property, this sub clause provides for a deduction of annual sums so charged, such sums not being capital sums, the limiting words being intended to exclude cases where capital raised on the security of the property is made repayable in instalments.\\nIn Commissioner of Income tax, Bombay vs Mahomedbhoy Rowji (1), a Bench of the Bombay High Court considered the meaning of these words.\\nAs regards \"annual charge,\" Beau mont C.J. observed as follows : \"The words, I think, would cover a charge to secure an annual liability.\" Kania J., as he then was, said as follows : \"I do not see how a charge can be annual unless it means a charge in respect of a payment to be made annually.\" This construction of the words has been followed in the judgment under appeal.\\nIn Gappumal Kanhaiya Lal vs Commissioner of Income tax (2) (the connected appeal before us), the Bench of the Allahabad High Court agreed with the construction placed on these words in the Bombay case, i.e., the words \"annual charge\" mean a charge to secure an annual liability.\\nIt is therefore clear that there is no conflict of judicial deci sions as to the meaning of the phrase \"annual charge\" occur ring in section 3 (1) (iv) and the meaning given is the natural meaning of these words.\\nAs to the phrase \"capital charge\", Beaumont C.J. in the case above referred to took the view that the words mean a charge on capital.\\nKania J., however, took a different view and observed that he was not prepared to accept the sugges tion that a document which provides for a certain payment to be made monthly or annually and charged on immoveable property or the estate of an individual becomes a capital charge.\\nIn the Allahabad judgment under appeal these (1) I.L.R. (2) I.L.R. 1944 All.\\n558 words were considered as not meaning a charge on capital.\\nIt was said that if an annual charge means a charge to secure the discharge of an annual liability, then, capital charge means a charge to secure the discharge of a liability of a capital nature.\\nWe think this construction is a natu ral construction of the section and is right.\\nThe determination of the point whether the taxes in dispute fall within the ambit of the phrase \"annual charge not being a capital charge\" depends on the provisions of the statutes under which they are levied.\\nSection 143 of the City of Bombay Municipal Act, 1888, authorises the levy of a general tax on all buildings and lands in the city.\\nThe primary responsibility to pay this property tax is on the lessor (vide section 146 of the Act).\\nIn order to assess the tax provision has been made for the determination of the annual rateable value of the building in section 154.\\nSection 156 provides for the maintenance of an assessment book in which entries have to be made every official year of all buildings in the city, their rateable value, the names of persons primarily liable for payment of the property tax on such buildings and of the amount for which each building has been assessed.\\nSection 167 lays down that the assess ment book need not be prepared every official year but public notices shall be given in accordance with sections 160 to 162 every year and the provisions o+ the said sec tions and of sections 163 and 167 shall be applicable each year.\\nThese sections lay down a procedure for hearing objections and complaints against entries in the assessment book.\\nFrom these provisions it is clear \\' that the liabil ity for the tax is determined at the beginning of each official year and the tax is an annual one.\\nIt recurs from year to year.\\nSections 143to 168 concern themselves with the imposition, liability and assessment of the tax for the year.\\nThe amount of the tax for the year and the liability for its payment having been determined, the Act then pre scribes for its collection in the chapter \"The collection of taxes.\\n\" Section 197 provides that each of the property taxes shall be payable in 559 advance in half yearly instalments on each first day of April and each first day of October.\\nThe provision as to half yearly instalment necessarily connotes an annual li ability.\\nIn other words, it means that the annual liability can be discharged by half yearly payments.\\nProcedure has also been prescribed for recovery of the instalments by presentment of a bill, a notice of demand and then distress, and sale.\\nFinally section 212 provides as follows : \"Property taxes due under this Act in respect of any building or land shall, subject to the prior payment of the land revenue, if any, due to the provincial ,Government thereupon, be a first charge . . upon the said build ing or land . \" It creates a statutory charge on the building.\\nUrban immove able property tax is leviable under section 22 of Part VI of the Bombay Finance Act, 1932,on the annual letting value of the property.\\nThe duty to collect the tax is laid on the municipality and it does so in the same manner as in the case of the municipal property tax.\\nSection 24 (2) (b) is in terms similar to section 212 of the Bombay Municipal Act.\\nIt makes the land or the building security for the payment of this tax also.\\nFor the purposes of section 9 of the Indian Income tax Act both these taxes, namely, the munici pal property tax as well as the urban immoveable property tax are of the same character and stand on the same foot ing.\\nMr. Munshi, the learned counsel for the appellant con tended that both the taxes are assessed on the annual value of the land or the building and are annual taxes, although it may be that they are collected at intervals of six months for the sake of convenience, that the income tax itself is assessed on an annual basis, that in allowing deductions all payments made or all liabilities incurred during the previ ous year of assessment should be allowed and that the taxes in question fell clearly within the language of section 9 (1) (iv).\\nThe learned Attorney General, on the other hand, argued that although the taxes are assessed for the year the liability to pay them arises at the beginning 560 of each half year and unless a notice of demand is issued and a bill presented there is no liability to pay them and that till then no charge under section 212 of the Act could possibly arise and that the liability to pay being half yearly in advance, the charge is not an annual charge.\\nIt was also suggested that the taxes were a capital charge in the sense of the property being security for the payment.\\nWe are satisfied that the contentions raised by the learned Attorney General are not sound.\\nIt is apparent from the whole tenor of the two Bombay Acts that the taxes are in the nature of an annual levy on the property \\' and are assessed on the annual value of the property each year.\\nThe annual liability can be discharged by half yearly instalments.\\nThe liability being an annual one and the property having been subjected to it, the provisions of clause (iv) of sub sec tion (1) of section 9 are immediately attracted.\\nGreat emphasis was laid on the word\"due\" used in section 212 of the Municipal Act and it was said that as the taxes do not become due under the Act unless the time for the payment arrives, no charge comes into existence till then and that the charge is not an annual charge.\\nWe do not think that this is a correct construction of section 212.\\nThe words \"property taxes due under this Act\" mean property taxes for which a person is liable under the Act.\\nTaxes payable during the year have been made a charge on the property.\\nThe liability and the charge both co exist and are co exten sive.\\nThe provisions of the Act affording facilities for the discharge of the liability do not in any way affect their true nature and character.\\nIf the annual liability is not discharged in the manner laid down by section 197, can it be said that the property cannot be sold for recovery of the whole amount due for the year ? The answer to this query can only be in the affirmative, i.e., that the proper ty is liable to sale.\\nIn Commissioner of Income tax, Bombay vs Mahomedbhoy Rowji(1) Beaumont C.J., while rejecting the claim for the deduction of the taxes, placed reliance on (1) I.L.R. 561 section 9 (1) (v) which allows a deduction in respect of any sums paid on account of land revenue.\\nIt was observed that land revenue stands on the same footing as municipal taxes and that as the legislature made a special provision for deduction of sums payable in regard to land revenue but not in respect of sums paid on account of municipal taxes that circumstance indicated that the deduction was not allowable.\\nFor the same purpose reference was also made to the provi sions of section 10 which deal with business allowances and wherein deduction of any sum paid on account of land reve nue, local rates or municipal taxes has been allowed.\\nIn the concluding part of his judgment the learned Chief Jus tice said that it was not necessary for him to consider what the exact meaning of the words was and that it was suffi cient for him to say that it did not cover municipal taxes which are made a charge on the property under section 212 of the Bombay Municipal Act.\\nWithout determining the exact meaning of the words used by the statute it seems to us it was not possible to arrive at the conclusion that the taxes were not within the ambit of the clause.\\nIt is elementary that the primary duty of a Court is to give effect to the intention of the legislature as expressed in the words used by it and no outside consideration can be called in aid tO find that intention.\\nAgain reference to clause (v) of the section is not very helpful because land revenue is a charge of a paramount nature on all buildings and lands and that being so, a deduction in respect of the amount was mentioned in express terms.\\nMunicipal taxes, on the other hand, do not stand on the same footing as land revenue.\\nThe law as to them varies from province to province and they may not be necessarily a charge on property in all cases.\\nThe legis lature seems to have thought that so far as municipal taxes on property are concerned, if they fall within the ambit of clause (iv), deduction will be claimable in respect of them but not otherwise.\\nThe deductions allowed in section 10 under the head \"Income from business\" proceed on a different footing and a construction of section 9 with the aid of section 10 is apt to mislead.\\n562 Kania J. in the above case in arriving at his conclusion was influenced by the consideration that these taxes were of a variable character, i.e., liable to be increased or re duced under the various provisions of the Municipal Act and that the charge was in the nature of a contingent charge.\\nWith great respect, it may be pointed out that all charges in a way may be or are of a variable and contingent na ture.\\nIf no default is made, no charge is ever enforceable and whenever there is a charge, it can be increased or reduced during the year either by payment or by additional borrowing.\\nIn Moss Empires Ltd. vs Inland Revenue Commissioners (1) it was held by the House of Lords that the fact that certain payments were contingent and variable in amount did not affect their character of being annual payments and that the word, \"annual\" must be taken to have the quality of being recurrent or being capable of recurrence.\\nIn Cunard \\'s Trustees vs Inland Revenue Commissioners (2) it was held that the payments were capable of being recur rent and were therefore annual payments within the meaning of schedule D, case III, rule 1 (1), even though they were not necessarily recurrent year by year and the fact that they varied in amount was immaterial.\\nThe learned Attorney General in view of these decisions did not support the view expressed by Kania J. Reliance was placed on a decision of the High Court of Madras in Mamad Keyi vs Commissioner of Income tax, Madras(3), in which moneys paid as urban immoveable property tax under the Bombay Finance Act were disallowed as inadmis sible under section 9 (1) (iv) or 9 (1) (v) of the Indian Income tax Act. \\'This decision merely followed the view expressed in Commissioner of income tax, Bombay vs Mahomedb hoy Rowji (4)and was not arrived at on any independent or fresh reasoning and is not of much assistance in the deci sion of the case.\\nThe Allahabad High Court (1) (2) [1948] 1 A.E.R. 150. (3) I.L.R. (4) I.L.R. 563 in Gappumal Kanhaiya Lal vs Commissioner of Incometax (1) (the connected appeal) took a correct view of this matter and the reasoning given therein has our approval.\\nThe result is that this appeal is allowed and the two questions which were referred to the High Court by the Income tax Tribunal and cited above are answered in the affirmative.\\nThe appellants will have their costs in the appeal.\\nAppeal allowed.\\n'"
            ],
            "application/vnd.google.colaboratory.intrinsic+json": {
              "type": "string"
            }
          },
          "metadata": {},
          "execution_count": 36
        }
      ]
    },
    {
      "cell_type": "code",
      "source": [
        "len(train_judgements)"
      ],
      "metadata": {
        "colab": {
          "base_uri": "https://localhost:8080/"
        },
        "id": "07lHEGsz7eSu",
        "outputId": "137577ec-f5f4-494f-8445-ac86b6db193c",
        "execution": {
          "iopub.status.busy": "2024-03-06T19:27:32.348589Z",
          "iopub.execute_input": "2024-03-06T19:27:32.348932Z",
          "iopub.status.idle": "2024-03-06T19:27:32.360576Z",
          "shell.execute_reply.started": "2024-03-06T19:27:32.348903Z",
          "shell.execute_reply": "2024-03-06T19:27:32.359689Z"
        },
        "trusted": true
      },
      "execution_count": null,
      "outputs": [
        {
          "output_type": "execute_result",
          "data": {
            "text/plain": [
              "7030"
            ]
          },
          "metadata": {},
          "execution_count": 37
        }
      ]
    },
    {
      "cell_type": "markdown",
      "source": [
        "### Train summaries"
      ],
      "metadata": {
        "id": "GAo7rCU373rt"
      }
    },
    {
      "cell_type": "code",
      "source": [
        "train_summaries_paths=sorted(glob.glob('/content/dataset/IN-Abs/train-data/summary**/*.txt',recursive=True))"
      ],
      "metadata": {
        "id": "WVyDekhC8TbR",
        "execution": {
          "iopub.status.busy": "2024-03-06T19:27:32.362422Z",
          "iopub.execute_input": "2024-03-06T19:27:32.362716Z",
          "iopub.status.idle": "2024-03-06T19:27:32.667176Z",
          "shell.execute_reply.started": "2024-03-06T19:27:32.362684Z",
          "shell.execute_reply": "2024-03-06T19:27:32.666437Z"
        },
        "trusted": true
      },
      "execution_count": null,
      "outputs": []
    },
    {
      "cell_type": "code",
      "source": [
        "train_summaries_paths[:5]"
      ],
      "metadata": {
        "colab": {
          "base_uri": "https://localhost:8080/"
        },
        "id": "Er2c8Hig9e2Y",
        "outputId": "84e72154-56ae-4991-e8c5-10a9910789d2",
        "execution": {
          "iopub.status.busy": "2024-03-06T19:27:32.668327Z",
          "iopub.execute_input": "2024-03-06T19:27:32.668592Z",
          "iopub.status.idle": "2024-03-06T19:27:32.674245Z",
          "shell.execute_reply.started": "2024-03-06T19:27:32.668569Z",
          "shell.execute_reply": "2024-03-06T19:27:32.67341Z"
        },
        "trusted": true
      },
      "execution_count": null,
      "outputs": [
        {
          "output_type": "execute_result",
          "data": {
            "text/plain": [
              "['/content/dataset/IN-Abs/train-data/summary/1.txt',\n",
              " '/content/dataset/IN-Abs/train-data/summary/10.txt',\n",
              " '/content/dataset/IN-Abs/train-data/summary/100.txt',\n",
              " '/content/dataset/IN-Abs/train-data/summary/1000.txt',\n",
              " '/content/dataset/IN-Abs/train-data/summary/1001.txt']"
            ]
          },
          "metadata": {},
          "execution_count": 39
        }
      ]
    },
    {
      "cell_type": "code",
      "source": [
        "train_summaries=[]\n",
        "for i in train_summaries_paths:\n",
        "  with open(i,'r') as file:\n",
        "    train_summaries.append(file.read())\n",
        "    file.close()"
      ],
      "metadata": {
        "id": "oivlWjhn9iYH",
        "execution": {
          "iopub.status.busy": "2024-03-06T19:27:32.675525Z",
          "iopub.execute_input": "2024-03-06T19:27:32.675795Z",
          "iopub.status.idle": "2024-03-06T19:28:05.83536Z",
          "shell.execute_reply.started": "2024-03-06T19:27:32.675773Z",
          "shell.execute_reply": "2024-03-06T19:28:05.834507Z"
        },
        "trusted": true
      },
      "execution_count": null,
      "outputs": []
    },
    {
      "cell_type": "code",
      "source": [
        "train_summaries[0]"
      ],
      "metadata": {
        "colab": {
          "base_uri": "https://localhost:8080/",
          "height": 122
        },
        "id": "_Tfnp7Sn99KW",
        "outputId": "38087290-d6c9-4fec-93e4-1ed3c920b01d",
        "execution": {
          "iopub.status.busy": "2024-03-06T19:28:05.836448Z",
          "iopub.execute_input": "2024-03-06T19:28:05.836711Z",
          "iopub.status.idle": "2024-03-06T19:28:05.842574Z",
          "shell.execute_reply.started": "2024-03-06T19:28:05.836689Z",
          "shell.execute_reply": "2024-03-06T19:28:05.841624Z"
        },
        "trusted": true
      },
      "execution_count": null,
      "outputs": [
        {
          "output_type": "execute_result",
          "data": {
            "text/plain": [
              "'The charge created in respect of municipal property tax by section 212 of the City of Bombay Municipal Act, 1888, is an \"annual charge not being a capital charge\" within the mean ing of section 9 (1) (iv) of the Indian Income tax Act, 199.2, and the amount of such charge should therefore be deducted in computing the income from such property for the purposes of section 9 of the Indian Income tax Act.\\nThe charge in respect of urban immoveable property tax created by the Bombay Finance Act, 1939 is similar in character and the amount of such charge should also be deducted.\\nThe expression \"capital charge\" in s.9(1) (iv) means a charge created for a capital sum,that is to say, a charge created to. \\' secure the discharge of a liability of a capi tal nature; and an \"annual charge\" means a charge to secure an annual liabili ty. 554\\n'"
            ],
            "application/vnd.google.colaboratory.intrinsic+json": {
              "type": "string"
            }
          },
          "metadata": {},
          "execution_count": 41
        }
      ]
    },
    {
      "cell_type": "code",
      "source": [
        "len(train_summaries)"
      ],
      "metadata": {
        "colab": {
          "base_uri": "https://localhost:8080/"
        },
        "id": "uxIDVQUA9_Xa",
        "outputId": "ea04994a-9d80-418c-ba4a-314d857ee730",
        "execution": {
          "iopub.status.busy": "2024-03-06T19:28:05.84368Z",
          "iopub.execute_input": "2024-03-06T19:28:05.843992Z",
          "iopub.status.idle": "2024-03-06T19:28:05.854421Z",
          "shell.execute_reply.started": "2024-03-06T19:28:05.843964Z",
          "shell.execute_reply": "2024-03-06T19:28:05.853399Z"
        },
        "trusted": true
      },
      "execution_count": null,
      "outputs": [
        {
          "output_type": "execute_result",
          "data": {
            "text/plain": [
              "7030"
            ]
          },
          "metadata": {},
          "execution_count": 42
        }
      ]
    },
    {
      "cell_type": "markdown",
      "source": [
        "#### Test judgements,Test summaries"
      ],
      "metadata": {
        "id": "X2pSpwyV-f0f"
      }
    },
    {
      "cell_type": "code",
      "source": [
        "test_judgements_path=sorted(glob.glob('/content/dataset/IN-Abs/test-data/judgement**/*.txt',recursive=True))\n",
        "test_summaries_path=sorted(glob.glob('/content/dataset/IN-Abs/test-data/summary**/*.txt',recursive=True))"
      ],
      "metadata": {
        "id": "iMatzjdp-m9X",
        "execution": {
          "iopub.status.busy": "2024-03-06T19:28:05.855758Z",
          "iopub.execute_input": "2024-03-06T19:28:05.856074Z",
          "iopub.status.idle": "2024-03-06T19:28:05.918317Z",
          "shell.execute_reply.started": "2024-03-06T19:28:05.856046Z",
          "shell.execute_reply": "2024-03-06T19:28:05.917652Z"
        },
        "trusted": true
      },
      "execution_count": null,
      "outputs": []
    },
    {
      "cell_type": "code",
      "source": [
        "test_judgements_path[:5]"
      ],
      "metadata": {
        "colab": {
          "base_uri": "https://localhost:8080/"
        },
        "id": "6gWz2RHJ_DZe",
        "outputId": "5b0369b2-3df1-482e-afd1-65a09b9a495b",
        "execution": {
          "iopub.status.busy": "2024-03-06T19:28:05.922895Z",
          "iopub.execute_input": "2024-03-06T19:28:05.923184Z",
          "iopub.status.idle": "2024-03-06T19:28:05.929944Z",
          "shell.execute_reply.started": "2024-03-06T19:28:05.923162Z",
          "shell.execute_reply": "2024-03-06T19:28:05.929146Z"
        },
        "trusted": true
      },
      "execution_count": null,
      "outputs": [
        {
          "output_type": "execute_result",
          "data": {
            "text/plain": [
              "['/content/dataset/IN-Abs/test-data/judgement/1181.txt',\n",
              " '/content/dataset/IN-Abs/test-data/judgement/1195.txt',\n",
              " '/content/dataset/IN-Abs/test-data/judgement/1329.txt',\n",
              " '/content/dataset/IN-Abs/test-data/judgement/1378.txt',\n",
              " '/content/dataset/IN-Abs/test-data/judgement/1406.txt']"
            ]
          },
          "metadata": {},
          "execution_count": 44
        }
      ]
    },
    {
      "cell_type": "code",
      "source": [
        "test_summaries_path[:5]"
      ],
      "metadata": {
        "colab": {
          "base_uri": "https://localhost:8080/"
        },
        "id": "jBdvVN34_cK1",
        "outputId": "383cad79-154f-4568-e4ad-2530c1642513",
        "execution": {
          "iopub.status.busy": "2024-03-06T19:28:05.930812Z",
          "iopub.execute_input": "2024-03-06T19:28:05.931033Z",
          "iopub.status.idle": "2024-03-06T19:28:05.940758Z",
          "shell.execute_reply.started": "2024-03-06T19:28:05.931013Z",
          "shell.execute_reply": "2024-03-06T19:28:05.939941Z"
        },
        "trusted": true
      },
      "execution_count": null,
      "outputs": [
        {
          "output_type": "execute_result",
          "data": {
            "text/plain": [
              "['/content/dataset/IN-Abs/test-data/summary/1181.txt',\n",
              " '/content/dataset/IN-Abs/test-data/summary/1195.txt',\n",
              " '/content/dataset/IN-Abs/test-data/summary/1329.txt',\n",
              " '/content/dataset/IN-Abs/test-data/summary/1378.txt',\n",
              " '/content/dataset/IN-Abs/test-data/summary/1406.txt']"
            ]
          },
          "metadata": {},
          "execution_count": 45
        }
      ]
    },
    {
      "cell_type": "code",
      "source": [
        "test_judgements=[]\n",
        "test_summaries=[]\n",
        "for i,j in zip(test_judgements_path,test_summaries_path):\n",
        "  with open(i,'r') as file:\n",
        "    test_judgements.append(file.read())\n",
        "    file.close()\n",
        "  with open(j,'r') as file2:\n",
        "    test_summaries.append(file2.read())\n",
        "    file2.close()\n",
        "\n",
        "len(test_judgements),len(test_summaries)"
      ],
      "metadata": {
        "colab": {
          "base_uri": "https://localhost:8080/"
        },
        "id": "_ND2-G1r_FVD",
        "outputId": "cf8850ce-b477-4a47-a1fd-b847b68fa00e",
        "execution": {
          "iopub.status.busy": "2024-03-06T19:28:05.941751Z",
          "iopub.execute_input": "2024-03-06T19:28:05.941994Z",
          "iopub.status.idle": "2024-03-06T19:28:06.710166Z",
          "shell.execute_reply.started": "2024-03-06T19:28:05.941973Z",
          "shell.execute_reply": "2024-03-06T19:28:06.70928Z"
        },
        "trusted": true
      },
      "execution_count": null,
      "outputs": [
        {
          "output_type": "execute_result",
          "data": {
            "text/plain": [
              "(100, 100)"
            ]
          },
          "metadata": {},
          "execution_count": 46
        }
      ]
    },
    {
      "cell_type": "markdown",
      "source": [
        "### we will start by lowering the data stop words removal is generally not recommended in case of text summarization"
      ],
      "metadata": {
        "id": "ZP-ZCE8cDSGP"
      }
    },
    {
      "cell_type": "code",
      "source": [
        "def lowering(text_list):\n",
        "  lowered_text_list=[]\n",
        "  for i in text_list:\n",
        "    lowered_text_list.append(i.lower())\n",
        "  return lowered_text_list"
      ],
      "metadata": {
        "id": "94RMRLSsDuRr",
        "execution": {
          "iopub.status.busy": "2024-03-06T19:28:06.728375Z",
          "iopub.execute_input": "2024-03-06T19:28:06.728972Z",
          "iopub.status.idle": "2024-03-06T19:28:06.738362Z",
          "shell.execute_reply.started": "2024-03-06T19:28:06.72894Z",
          "shell.execute_reply": "2024-03-06T19:28:06.737465Z"
        },
        "trusted": true
      },
      "execution_count": null,
      "outputs": []
    },
    {
      "cell_type": "code",
      "source": [
        "\n",
        "train_judgements_lowered=lowering(train_judgements)\n",
        "train_summaries_lowered=lowering(train_summaries)\n",
        "test_judgements_lowered=lowering(test_judgements)\n",
        "test_summaries_lowered=lowering(test_summaries)"
      ],
      "metadata": {
        "id": "sbIxWuK_E4yO",
        "execution": {
          "iopub.status.busy": "2024-03-06T19:28:06.739407Z",
          "iopub.execute_input": "2024-03-06T19:28:06.739636Z",
          "iopub.status.idle": "2024-03-06T19:28:06.987777Z",
          "shell.execute_reply.started": "2024-03-06T19:28:06.739611Z",
          "shell.execute_reply": "2024-03-06T19:28:06.986768Z"
        },
        "trusted": true
      },
      "execution_count": null,
      "outputs": []
    },
    {
      "cell_type": "code",
      "source": [
        "lengths=[]\n",
        "for i in train_judgements:\n",
        "  lengths.append(len(i.split(' ')))"
      ],
      "metadata": {
        "id": "tzvo82FTFSGn",
        "execution": {
          "iopub.status.busy": "2024-03-06T19:28:06.988926Z",
          "iopub.execute_input": "2024-03-06T19:28:06.989235Z",
          "iopub.status.idle": "2024-03-06T19:28:08.576873Z",
          "shell.execute_reply.started": "2024-03-06T19:28:06.989212Z",
          "shell.execute_reply": "2024-03-06T19:28:08.575931Z"
        },
        "trusted": true
      },
      "execution_count": null,
      "outputs": []
    },
    {
      "cell_type": "code",
      "source": [
        "summary_lengths=[]\n",
        "for i in train_summaries:\n",
        "  summary_lengths.append(len(i.split(' ')))"
      ],
      "metadata": {
        "id": "4g22kO591gXV",
        "execution": {
          "iopub.status.busy": "2024-03-06T19:28:08.578148Z",
          "iopub.execute_input": "2024-03-06T19:28:08.579462Z",
          "iopub.status.idle": "2024-03-06T19:28:08.896226Z",
          "shell.execute_reply.started": "2024-03-06T19:28:08.579436Z",
          "shell.execute_reply": "2024-03-06T19:28:08.89546Z"
        },
        "trusted": true
      },
      "execution_count": null,
      "outputs": []
    },
    {
      "cell_type": "markdown",
      "source": [
        "### We can safely truncate the sequences to lenths of 5000\n",
        "* preserves memory\n",
        "* Prevents out of memory error for gpu while training"
      ],
      "metadata": {
        "id": "0NCp-h9x1JCw"
      }
    },
    {
      "cell_type": "code",
      "source": [
        "import seaborn as sns"
      ],
      "metadata": {
        "id": "40kyaNBky4_p",
        "execution": {
          "iopub.status.busy": "2024-03-06T19:28:08.902578Z",
          "iopub.execute_input": "2024-03-06T19:28:08.902823Z",
          "iopub.status.idle": "2024-03-06T19:28:09.864091Z",
          "shell.execute_reply.started": "2024-03-06T19:28:08.902802Z",
          "shell.execute_reply": "2024-03-06T19:28:09.863357Z"
        },
        "trusted": true
      },
      "execution_count": null,
      "outputs": []
    },
    {
      "cell_type": "code",
      "source": [
        "hist=sns.histplot(lengths,bins=2000)\n",
        "hist.set_xlim(0,7000)\n",
        "hist.set_title('Judgements Length Distribution')"
      ],
      "metadata": {
        "colab": {
          "base_uri": "https://localhost:8080/",
          "height": 469
        },
        "id": "UU4IAh61y7jp",
        "outputId": "a6261297-b8cd-4892-8d9c-6307fb3134ff",
        "execution": {
          "iopub.status.busy": "2024-03-06T19:28:09.865053Z",
          "iopub.execute_input": "2024-03-06T19:28:09.865426Z",
          "iopub.status.idle": "2024-03-06T19:28:13.517265Z",
          "shell.execute_reply.started": "2024-03-06T19:28:09.865402Z",
          "shell.execute_reply": "2024-03-06T19:28:13.516294Z"
        },
        "trusted": true
      },
      "execution_count": null,
      "outputs": [
        {
          "output_type": "execute_result",
          "data": {
            "text/plain": [
              "Text(0.5, 1.0, 'Judgements Length Distribution')"
            ]
          },
          "metadata": {},
          "execution_count": 25
        },
        {
          "output_type": "display_data",
          "data": {
            "text/plain": [
              "<Figure size 640x480 with 1 Axes>"
            ],
            "image/png": "[encoded data removed]"
          },
          "metadata": {}
        }
      ]
    },
    {
      "cell_type": "markdown",
      "source": [
        "### 1000 will do the justice to the the summary lengths"
      ],
      "metadata": {
        "id": "2vl2yZAm139r"
      }
    },
    {
      "cell_type": "code",
      "source": [
        "hist=sns.histplot(summary_lengths,bins=2000)\n",
        "hist.set_xlim(0,3000)\n",
        "hist.set_title('Summaries Length Distribution')"
      ],
      "metadata": {
        "colab": {
          "base_uri": "https://localhost:8080/",
          "height": 469
        },
        "id": "RoEUoIjh1pq_",
        "outputId": "237a8afc-193a-4098-89fd-e157eeec536d",
        "execution": {
          "iopub.status.busy": "2024-03-06T19:28:13.518412Z",
          "iopub.execute_input": "2024-03-06T19:28:13.518694Z",
          "iopub.status.idle": "2024-03-06T19:28:17.113734Z",
          "shell.execute_reply.started": "2024-03-06T19:28:13.518669Z",
          "shell.execute_reply": "2024-03-06T19:28:17.112805Z"
        },
        "trusted": true
      },
      "execution_count": null,
      "outputs": [
        {
          "output_type": "execute_result",
          "data": {
            "text/plain": [
              "Text(0.5, 1.0, 'Summaries Length Distribution')"
            ]
          },
          "metadata": {},
          "execution_count": 26
        },
        {
          "output_type": "display_data",
          "data": {
            "text/plain": [
              "<Figure size 640x480 with 1 Axes>"
            ],
            "image/png": "[encoded data removed]"
          },
          "metadata": {}
        }
      ]
    },
    {
      "cell_type": "markdown",
      "source": [
        "### Time to convert out data into hugging face datasets format"
      ],
      "metadata": {
        "id": "K2wN33IYFVa2"
      }
    },
    {
      "cell_type": "code",
      "source": [
        "train_data={'judgements':train_judgements_lowered,\n",
        "                     'summaries':train_summaries_lowered}\n",
        "\n",
        "test_data={'judgements':test_judgements_lowered,\n",
        "                     'summaries':test_summaries_lowered}"
      ],
      "metadata": {
        "id": "Zh8wQKPEGaxl",
        "execution": {
          "iopub.status.busy": "2024-03-06T19:28:17.115016Z",
          "iopub.execute_input": "2024-03-06T19:28:17.115378Z",
          "iopub.status.idle": "2024-03-06T19:28:17.119784Z",
          "shell.execute_reply.started": "2024-03-06T19:28:17.115346Z",
          "shell.execute_reply": "2024-03-06T19:28:17.118832Z"
        },
        "trusted": true
      },
      "execution_count": null,
      "outputs": []
    },
    {
      "cell_type": "code",
      "source": [
        "! pip install transformers[setencepiece] sacrebleu rouge_score datasets"
      ],
      "metadata": {
        "colab": {
          "base_uri": "https://localhost:8080/"
        },
        "id": "M0raSLavJpGV",
        "outputId": "664433a7-a09c-4845-f97a-7d9b10e475cf"
      },
      "execution_count": null,
      "outputs": [
        {
          "output_type": "stream",
          "name": "stdout",
          "text": [
            "Requirement already satisfied: transformers[setencepiece] in /usr/local/lib/python3.10/dist-packages (4.38.2)\n",
            "Collecting sacrebleu\n",
            "  Downloading sacrebleu-2.4.0-py3-none-any.whl (106 kB)\n",
            "\u001b[2K     \u001b[90m━━━━━━━━━━━━━━━━━━━━━━━━━━━━━━━━━━━━━━━━\u001b[0m \u001b[32m106.3/106.3 kB\u001b[0m \u001b[31m2.6 MB/s\u001b[0m eta \u001b[36m0:00:00\u001b[0m\n",
            "\u001b[?25hCollecting rouge_score\n",
            "  Downloading rouge_score-0.1.2.tar.gz (17 kB)\n",
            "  Preparing metadata (setup.py) ... \u001b[?25l\u001b[?25hdone\n",
            "Collecting datasets\n",
            "  Downloading datasets-2.18.0-py3-none-any.whl (510 kB)\n",
            "\u001b[2K     \u001b[90m━━━━━━━━━━━━━━━━━━━━━━━━━━━━━━━━━━━━━━━━\u001b[0m \u001b[32m510.5/510.5 kB\u001b[0m \u001b[31m9.6 MB/s\u001b[0m eta \u001b[36m0:00:00\u001b[0m\n",
            "\u001b[?25h\u001b[33mWARNING: transformers 4.38.2 does not provide the extra 'setencepiece'\u001b[0m\u001b[33m\n",
            "\u001b[0mRequirement already satisfied: filelock in /usr/local/lib/python3.10/dist-packages (from transformers[setencepiece]) (3.13.1)\n",
            "Requirement already satisfied: huggingface-hub<1.0,>=0.19.3 in /usr/local/lib/python3.10/dist-packages (from transformers[setencepiece]) (0.20.3)\n",
            "Requirement already satisfied: numpy>=1.17 in /usr/local/lib/python3.10/dist-packages (from transformers[setencepiece]) (1.25.2)\n",
            "Requirement already satisfied: packaging>=20.0 in /usr/local/lib/python3.10/dist-packages (from transformers[setencepiece]) (23.2)\n",
            "Requirement already satisfied: pyyaml>=5.1 in /usr/local/lib/python3.10/dist-packages (from transformers[setencepiece]) (6.0.1)\n",
            "Requirement already satisfied: regex!=2019.12.17 in /usr/local/lib/python3.10/dist-packages (from transformers[setencepiece]) (2023.12.25)\n",
            "Requirement already satisfied: requests in /usr/local/lib/python3.10/dist-packages (from transformers[setencepiece]) (2.31.0)\n",
            "Requirement already satisfied: tokenizers<0.19,>=0.14 in /usr/local/lib/python3.10/dist-packages (from transformers[setencepiece]) (0.15.2)\n",
            "Requirement already satisfied: safetensors>=0.4.1 in /usr/local/lib/python3.10/dist-packages (from transformers[setencepiece]) (0.4.2)\n",
            "Requirement already satisfied: tqdm>=4.27 in /usr/local/lib/python3.10/dist-packages (from transformers[setencepiece]) (4.66.2)\n",
            "Collecting portalocker (from sacrebleu)\n",
            "  Downloading portalocker-2.8.2-py3-none-any.whl (17 kB)\n",
            "Requirement already satisfied: tabulate>=0.8.9 in /usr/local/lib/python3.10/dist-packages (from sacrebleu) (0.9.0)\n",
            "Collecting colorama (from sacrebleu)\n",
            "  Downloading colorama-0.4.6-py2.py3-none-any.whl (25 kB)\n",
            "Requirement already satisfied: lxml in /usr/local/lib/python3.10/dist-packages (from sacrebleu) (4.9.4)\n",
            "Requirement already satisfied: absl-py in /usr/local/lib/python3.10/dist-packages (from rouge_score) (1.4.0)\n",
            "Requirement already satisfied: nltk in /usr/local/lib/python3.10/dist-packages (from rouge_score) (3.8.1)\n",
            "Requirement already satisfied: six>=1.14.0 in /usr/local/lib/python3.10/dist-packages (from rouge_score) (1.16.0)\n",
            "Requirement already satisfied: pyarrow>=12.0.0 in /usr/local/lib/python3.10/dist-packages (from datasets) (14.0.2)\n",
            "Requirement already satisfied: pyarrow-hotfix in /usr/local/lib/python3.10/dist-packages (from datasets) (0.6)\n",
            "Collecting dill<0.3.9,>=0.3.0 (from datasets)\n",
            "  Downloading dill-0.3.8-py3-none-any.whl (116 kB)\n",
            "\u001b[2K     \u001b[90m━━━━━━━━━━━━━━━━━━━━━━━━━━━━━━━━━━━━━━━━\u001b[0m \u001b[32m116.3/116.3 kB\u001b[0m \u001b[31m10.6 MB/s\u001b[0m eta \u001b[36m0:00:00\u001b[0m\n",
            "\u001b[?25hRequirement already satisfied: pandas in /usr/local/lib/python3.10/dist-packages (from datasets) (1.5.3)\n",
            "Requirement already satisfied: xxhash in /usr/local/lib/python3.10/dist-packages (from datasets) (3.4.1)\n",
            "Collecting multiprocess (from datasets)\n",
            "  Downloading multiprocess-0.70.16-py310-none-any.whl (134 kB)\n",
            "\u001b[2K     \u001b[90m━━━━━━━━━━━━━━━━━━━━━━━━━━━━━━━━━━━━━━━━\u001b[0m \u001b[32m134.8/134.8 kB\u001b[0m \u001b[31m5.5 MB/s\u001b[0m eta \u001b[36m0:00:00\u001b[0m\n",
            "\u001b[?25hRequirement already satisfied: fsspec[http]<=2024.2.0,>=2023.1.0 in /usr/local/lib/python3.10/dist-packages (from datasets) (2023.6.0)\n",
            "Requirement already satisfied: aiohttp in /usr/local/lib/python3.10/dist-packages (from datasets) (3.9.3)\n",
            "Requirement already satisfied: aiosignal>=1.1.2 in /usr/local/lib/python3.10/dist-packages (from aiohttp->datasets) (1.3.1)\n",
            "Requirement already satisfied: attrs>=17.3.0 in /usr/local/lib/python3.10/dist-packages (from aiohttp->datasets) (23.2.0)\n",
            "Requirement already satisfied: frozenlist>=1.1.1 in /usr/local/lib/python3.10/dist-packages (from aiohttp->datasets) (1.4.1)\n",
            "Requirement already satisfied: multidict<7.0,>=4.5 in /usr/local/lib/python3.10/dist-packages (from aiohttp->datasets) (6.0.5)\n",
            "Requirement already satisfied: yarl<2.0,>=1.0 in /usr/local/lib/python3.10/dist-packages (from aiohttp->datasets) (1.9.4)\n",
            "Requirement already satisfied: async-timeout<5.0,>=4.0 in /usr/local/lib/python3.10/dist-packages (from aiohttp->datasets) (4.0.3)\n",
            "Requirement already satisfied: typing-extensions>=3.7.4.3 in /usr/local/lib/python3.10/dist-packages (from huggingface-hub<1.0,>=0.19.3->transformers[setencepiece]) (4.10.0)\n",
            "Requirement already satisfied: charset-normalizer<4,>=2 in /usr/local/lib/python3.10/dist-packages (from requests->transformers[setencepiece]) (3.3.2)\n",
            "Requirement already satisfied: idna<4,>=2.5 in /usr/local/lib/python3.10/dist-packages (from requests->transformers[setencepiece]) (3.6)\n",
            "Requirement already satisfied: urllib3<3,>=1.21.1 in /usr/local/lib/python3.10/dist-packages (from requests->transformers[setencepiece]) (2.0.7)\n",
            "Requirement already satisfied: certifi>=2017.4.17 in /usr/local/lib/python3.10/dist-packages (from requests->transformers[setencepiece]) (2024.2.2)\n",
            "Requirement already satisfied: click in /usr/local/lib/python3.10/dist-packages (from nltk->rouge_score) (8.1.7)\n",
            "Requirement already satisfied: joblib in /usr/local/lib/python3.10/dist-packages (from nltk->rouge_score) (1.3.2)\n",
            "Requirement already satisfied: python-dateutil>=2.8.1 in /usr/local/lib/python3.10/dist-packages (from pandas->datasets) (2.8.2)\n",
            "Requirement already satisfied: pytz>=2020.1 in /usr/local/lib/python3.10/dist-packages (from pandas->datasets) (2023.4)\n",
            "Building wheels for collected packages: rouge_score\n",
            "  Building wheel for rouge_score (setup.py) ... \u001b[?25l\u001b[?25hdone\n",
            "  Created wheel for rouge_score: filename=rouge_score-0.1.2-py3-none-any.whl size=24933 sha256=23ee46655b2e51d9aed7e1fe96a76bfc6958350c34fcda5274f94a1377aa3a89\n",
            "  Stored in directory: /root/.cache/pip/wheels/5f/dd/89/461065a73be61a532ff8599a28e9beef17985c9e9c31e541b4\n",
            "Successfully built rouge_score\n",
            "Installing collected packages: portalocker, dill, colorama, sacrebleu, rouge_score, multiprocess, datasets\n",
            "Successfully installed colorama-0.4.6 datasets-2.18.0 dill-0.3.8 multiprocess-0.70.16 portalocker-2.8.2 rouge_score-0.1.2 sacrebleu-2.4.0\n"
          ]
        }
      ]
    },
    {
      "cell_type": "code",
      "source": [
        "! pip install --upgrade accelerate\n",
        "! pip uninstall -y transformers accelerate\n",
        "! pip install transformers accelerate"
      ],
      "metadata": {
        "colab": {
          "base_uri": "https://localhost:8080/",
          "height": 1000
        },
        "id": "8jx2mykgJy4t",
        "outputId": "88443fb5-0bcd-4034-e5ac-6ab4a3be4e09"
      },
      "execution_count": null,
      "outputs": [
        {
          "output_type": "stream",
          "name": "stdout",
          "text": [
            "Collecting accelerate\n",
            "  Downloading accelerate-0.27.2-py3-none-any.whl (279 kB)\n",
            "\u001b[?25l     \u001b[90m━━━━━━━━━━━━━━━━━━━━━━━━━━━━━━━━━━━━━━━━\u001b[0m \u001b[32m0.0/280.0 kB\u001b[0m \u001b[31m?\u001b[0m eta \u001b[36m-:--:--\u001b[0m\r\u001b[2K     \u001b[91m━━━━━━━━━━━━━━━━━━━━━━━━━━━\u001b[0m\u001b[91m╸\u001b[0m\u001b[90m━━━━━━━━━━━━\u001b[0m \u001b[32m194.6/280.0 kB\u001b[0m \u001b[31m5.6 MB/s\u001b[0m eta \u001b[36m0:00:01\u001b[0m\r\u001b[2K     \u001b[90m━━━━━━━━━━━━━━━━━━━━━━━━━━━━━━━━━━━━━━━━\u001b[0m \u001b[32m280.0/280.0 kB\u001b[0m \u001b[31m5.7 MB/s\u001b[0m eta \u001b[36m0:00:00\u001b[0m\n",
            "\u001b[?25hRequirement already satisfied: numpy>=1.17 in /usr/local/lib/python3.10/dist-packages (from accelerate) (1.25.2)\n",
            "Requirement already satisfied: packaging>=20.0 in /usr/local/lib/python3.10/dist-packages (from accelerate) (23.2)\n",
            "Requirement already satisfied: psutil in /usr/local/lib/python3.10/dist-packages (from accelerate) (5.9.5)\n",
            "Requirement already satisfied: pyyaml in /usr/local/lib/python3.10/dist-packages (from accelerate) (6.0.1)\n",
            "Requirement already satisfied: torch>=1.10.0 in /usr/local/lib/python3.10/dist-packages (from accelerate) (2.1.0+cu121)\n",
            "Requirement already satisfied: huggingface-hub in /usr/local/lib/python3.10/dist-packages (from accelerate) (0.20.3)\n",
            "Requirement already satisfied: safetensors>=0.3.1 in /usr/local/lib/python3.10/dist-packages (from accelerate) (0.4.2)\n",
            "Requirement already satisfied: filelock in /usr/local/lib/python3.10/dist-packages (from torch>=1.10.0->accelerate) (3.13.1)\n",
            "Requirement already satisfied: typing-extensions in /usr/local/lib/python3.10/dist-packages (from torch>=1.10.0->accelerate) (4.10.0)\n",
            "Requirement already satisfied: sympy in /usr/local/lib/python3.10/dist-packages (from torch>=1.10.0->accelerate) (1.12)\n",
            "Requirement already satisfied: networkx in /usr/local/lib/python3.10/dist-packages (from torch>=1.10.0->accelerate) (3.2.1)\n",
            "Requirement already satisfied: jinja2 in /usr/local/lib/python3.10/dist-packages (from torch>=1.10.0->accelerate) (3.1.3)\n",
            "Requirement already satisfied: fsspec in /usr/local/lib/python3.10/dist-packages (from torch>=1.10.0->accelerate) (2023.6.0)\n",
            "Requirement already satisfied: triton==2.1.0 in /usr/local/lib/python3.10/dist-packages (from torch>=1.10.0->accelerate) (2.1.0)\n",
            "Requirement already satisfied: requests in /usr/local/lib/python3.10/dist-packages (from huggingface-hub->accelerate) (2.31.0)\n",
            "Requirement already satisfied: tqdm>=4.42.1 in /usr/local/lib/python3.10/dist-packages (from huggingface-hub->accelerate) (4.66.2)\n",
            "Requirement already satisfied: MarkupSafe>=2.0 in /usr/local/lib/python3.10/dist-packages (from jinja2->torch>=1.10.0->accelerate) (2.1.5)\n",
            "Requirement already satisfied: charset-normalizer<4,>=2 in /usr/local/lib/python3.10/dist-packages (from requests->huggingface-hub->accelerate) (3.3.2)\n",
            "Requirement already satisfied: idna<4,>=2.5 in /usr/local/lib/python3.10/dist-packages (from requests->huggingface-hub->accelerate) (3.6)\n",
            "Requirement already satisfied: urllib3<3,>=1.21.1 in /usr/local/lib/python3.10/dist-packages (from requests->huggingface-hub->accelerate) (2.0.7)\n",
            "Requirement already satisfied: certifi>=2017.4.17 in /usr/local/lib/python3.10/dist-packages (from requests->huggingface-hub->accelerate) (2024.2.2)\n",
            "Requirement already satisfied: mpmath>=0.19 in /usr/local/lib/python3.10/dist-packages (from sympy->torch>=1.10.0->accelerate) (1.3.0)\n",
            "Installing collected packages: accelerate\n",
            "Successfully installed accelerate-0.27.2\n",
            "Found existing installation: transformers 4.38.2\n",
            "Uninstalling transformers-4.38.2:\n",
            "  Successfully uninstalled transformers-4.38.2\n",
            "Found existing installation: accelerate 0.27.2\n",
            "Uninstalling accelerate-0.27.2:\n",
            "  Successfully uninstalled accelerate-0.27.2\n",
            "Collecting transformers\n",
            "  Downloading transformers-4.38.2-py3-none-any.whl (8.5 MB)\n",
            "\u001b[2K     \u001b[90m━━━━━━━━━━━━━━━━━━━━━━━━━━━━━━━━━━━━━━━━\u001b[0m \u001b[32m8.5/8.5 MB\u001b[0m \u001b[31m36.2 MB/s\u001b[0m eta \u001b[36m0:00:00\u001b[0m\n",
            "\u001b[?25hCollecting accelerate\n",
            "  Using cached accelerate-0.27.2-py3-none-any.whl (279 kB)\n",
            "Requirement already satisfied: filelock in /usr/local/lib/python3.10/dist-packages (from transformers) (3.13.1)\n",
            "Requirement already satisfied: huggingface-hub<1.0,>=0.19.3 in /usr/local/lib/python3.10/dist-packages (from transformers) (0.20.3)\n",
            "Requirement already satisfied: numpy>=1.17 in /usr/local/lib/python3.10/dist-packages (from transformers) (1.25.2)\n",
            "Requirement already satisfied: packaging>=20.0 in /usr/local/lib/python3.10/dist-packages (from transformers) (23.2)\n",
            "Requirement already satisfied: pyyaml>=5.1 in /usr/local/lib/python3.10/dist-packages (from transformers) (6.0.1)\n",
            "Requirement already satisfied: regex!=2019.12.17 in /usr/local/lib/python3.10/dist-packages (from transformers) (2023.12.25)\n",
            "Requirement already satisfied: requests in /usr/local/lib/python3.10/dist-packages (from transformers) (2.31.0)\n",
            "Requirement already satisfied: tokenizers<0.19,>=0.14 in /usr/local/lib/python3.10/dist-packages (from transformers) (0.15.2)\n",
            "Requirement already satisfied: safetensors>=0.4.1 in /usr/local/lib/python3.10/dist-packages (from transformers) (0.4.2)\n",
            "Requirement already satisfied: tqdm>=4.27 in /usr/local/lib/python3.10/dist-packages (from transformers) (4.66.2)\n",
            "Requirement already satisfied: psutil in /usr/local/lib/python3.10/dist-packages (from accelerate) (5.9.5)\n",
            "Requirement already satisfied: torch>=1.10.0 in /usr/local/lib/python3.10/dist-packages (from accelerate) (2.1.0+cu121)\n",
            "Requirement already satisfied: fsspec>=2023.5.0 in /usr/local/lib/python3.10/dist-packages (from huggingface-hub<1.0,>=0.19.3->transformers) (2023.6.0)\n",
            "Requirement already satisfied: typing-extensions>=3.7.4.3 in /usr/local/lib/python3.10/dist-packages (from huggingface-hub<1.0,>=0.19.3->transformers) (4.10.0)\n",
            "Requirement already satisfied: sympy in /usr/local/lib/python3.10/dist-packages (from torch>=1.10.0->accelerate) (1.12)\n",
            "Requirement already satisfied: networkx in /usr/local/lib/python3.10/dist-packages (from torch>=1.10.0->accelerate) (3.2.1)\n",
            "Requirement already satisfied: jinja2 in /usr/local/lib/python3.10/dist-packages (from torch>=1.10.0->accelerate) (3.1.3)\n",
            "Requirement already satisfied: triton==2.1.0 in /usr/local/lib/python3.10/dist-packages (from torch>=1.10.0->accelerate) (2.1.0)\n",
            "Requirement already satisfied: charset-normalizer<4,>=2 in /usr/local/lib/python3.10/dist-packages (from requests->transformers) (3.3.2)\n",
            "Requirement already satisfied: idna<4,>=2.5 in /usr/local/lib/python3.10/dist-packages (from requests->transformers) (3.6)\n",
            "Requirement already satisfied: urllib3<3,>=1.21.1 in /usr/local/lib/python3.10/dist-packages (from requests->transformers) (2.0.7)\n",
            "Requirement already satisfied: certifi>=2017.4.17 in /usr/local/lib/python3.10/dist-packages (from requests->transformers) (2024.2.2)\n",
            "Requirement already satisfied: MarkupSafe>=2.0 in /usr/local/lib/python3.10/dist-packages (from jinja2->torch>=1.10.0->accelerate) (2.1.5)\n",
            "Requirement already satisfied: mpmath>=0.19 in /usr/local/lib/python3.10/dist-packages (from sympy->torch>=1.10.0->accelerate) (1.3.0)\n",
            "Installing collected packages: accelerate, transformers\n",
            "Successfully installed accelerate-0.27.2 transformers-4.38.2\n"
          ]
        },
        {
          "output_type": "display_data",
          "data": {
            "application/vnd.colab-display-data+json": {
              "pip_warning": {
                "packages": [
                  "transformers"
                ]
              },
              "id": "8919d4786b2a413ba8899f3a78d6c1f5"
            }
          },
          "metadata": {}
        }
      ]
    },
    {
      "cell_type": "code",
      "source": [
        "from datasets import Dataset"
      ],
      "metadata": {
        "id": "0dk7vhJzGSbC",
        "execution": {
          "iopub.status.busy": "2024-03-06T19:28:17.121052Z",
          "iopub.execute_input": "2024-03-06T19:28:17.121344Z",
          "iopub.status.idle": "2024-03-06T19:28:18.480544Z",
          "shell.execute_reply.started": "2024-03-06T19:28:17.121321Z",
          "shell.execute_reply": "2024-03-06T19:28:18.47963Z"
        },
        "trusted": true
      },
      "execution_count": null,
      "outputs": []
    },
    {
      "cell_type": "code",
      "source": [
        "train_legal_dataset=Dataset.from_dict(train_data)"
      ],
      "metadata": {
        "id": "u2TmUOB1Gln_",
        "execution": {
          "iopub.status.busy": "2024-03-06T19:28:18.481802Z",
          "iopub.execute_input": "2024-03-06T19:28:18.482481Z",
          "iopub.status.idle": "2024-03-06T19:28:19.355216Z",
          "shell.execute_reply.started": "2024-03-06T19:28:18.48245Z",
          "shell.execute_reply": "2024-03-06T19:28:19.354457Z"
        },
        "trusted": true
      },
      "execution_count": null,
      "outputs": []
    },
    {
      "cell_type": "code",
      "source": [
        "test_legal_dataset=Dataset.from_dict(test_data)"
      ],
      "metadata": {
        "id": "LzfBRsF0HC_b",
        "execution": {
          "iopub.status.busy": "2024-03-06T19:28:19.356283Z",
          "iopub.execute_input": "2024-03-06T19:28:19.356554Z",
          "iopub.status.idle": "2024-03-06T19:28:19.36661Z",
          "shell.execute_reply.started": "2024-03-06T19:28:19.356531Z",
          "shell.execute_reply": "2024-03-06T19:28:19.365838Z"
        },
        "trusted": true
      },
      "execution_count": null,
      "outputs": []
    },
    {
      "cell_type": "code",
      "source": [
        "train_legal_dataset"
      ],
      "metadata": {
        "colab": {
          "base_uri": "https://localhost:8080/"
        },
        "id": "s41KKtgPHEUs",
        "outputId": "c598c2b5-5b1c-4ecf-afee-3276d85cd18b",
        "execution": {
          "iopub.status.busy": "2024-03-06T19:28:19.367544Z",
          "iopub.execute_input": "2024-03-06T19:28:19.367829Z",
          "iopub.status.idle": "2024-03-06T19:28:19.378322Z",
          "shell.execute_reply.started": "2024-03-06T19:28:19.367797Z",
          "shell.execute_reply": "2024-03-06T19:28:19.377507Z"
        },
        "trusted": true
      },
      "execution_count": null,
      "outputs": [
        {
          "output_type": "execute_result",
          "data": {
            "text/plain": [
              "Dataset({\n",
              "    features: ['judgements', 'summaries'],\n",
              "    num_rows: 7030\n",
              "})"
            ]
          },
          "metadata": {},
          "execution_count": 38
        }
      ]
    },
    {
      "cell_type": "code",
      "source": [
        "test_legal_dataset"
      ],
      "metadata": {
        "colab": {
          "base_uri": "https://localhost:8080/"
        },
        "id": "qWvrMXfiHdsq",
        "outputId": "847c67ff-365b-47cb-ff7d-7231c30910ed",
        "execution": {
          "iopub.status.busy": "2024-03-06T19:28:19.38394Z",
          "iopub.execute_input": "2024-03-06T19:28:19.38423Z",
          "iopub.status.idle": "2024-03-06T19:28:19.390466Z",
          "shell.execute_reply.started": "2024-03-06T19:28:19.384205Z",
          "shell.execute_reply": "2024-03-06T19:28:19.389506Z"
        },
        "trusted": true
      },
      "execution_count": null,
      "outputs": [
        {
          "output_type": "execute_result",
          "data": {
            "text/plain": [
              "Dataset({\n",
              "    features: ['judgements', 'summaries'],\n",
              "    num_rows: 100\n",
              "})"
            ]
          },
          "metadata": {},
          "execution_count": 39
        }
      ]
    },
    {
      "cell_type": "markdown",
      "source": [
        "### Downloading the model and tokenizer\n",
        "* we are using Led `Long Former Encoder Decoder` model cause it supports larger input bandwidth not like capped on 1024 or 2048 like like Bert , Gpt and other models\n",
        "* Google's T5 also support longer sequence lengths for the input but it's Memory hungry"
      ],
      "metadata": {
        "id": "vziDpP4gHebq"
      }
    },
    {
      "cell_type": "code",
      "source": [
        "from transformers import LEDForConditionalGeneration, LEDTokenizer\n",
        "\n",
        "model_name = \"pszemraj/led-base-book-summary\"\n",
        "tokenizer = LEDTokenizer.from_pretrained(model_name)\n",
        "model = LEDForConditionalGeneration.from_pretrained(model_name)"
      ],
      "metadata": {
        "execution": {
          "iopub.status.busy": "2024-03-06T19:28:19.391464Z",
          "iopub.execute_input": "2024-03-06T19:28:19.391704Z",
          "iopub.status.idle": "2024-03-06T19:28:32.425063Z",
          "shell.execute_reply.started": "2024-03-06T19:28:19.391671Z",
          "shell.execute_reply": "2024-03-06T19:28:32.424081Z"
        },
        "trusted": true,
        "id": "FiNIOvqqFmHI",
        "outputId": "4ec07876-8b60-4a3b-868f-14d6dfa85fa1",
        "colab": {
          "referenced_widgets": [
            "ae5af13620bb489e9bff446e92c1a6ff",
            "40efa0496ca0489abfe2938f9a2f01b5",
            "8b5facd0cae5456dba621f6cd8a7fbbd",
            "4b95d8a9058748f7aaec59541afb2f21",
            "c967f9fee6af4959a0e0b2bdb673a494",
            "eaf8dbab02ae47f6aff91af4eeb3624c",
            "76362e0cd56f4167987b35eee6fad8f9",
            "ba91b1eca5d94b19bb39466ce54c1501",
            "b798e15f932b4f54a7c4ab28b949093e",
            "39cf9937c5f446c0904b23e16c5c634c",
            "fd3a6e067ab44ab388c2a2eb1def9156",
            "019ac9e80f2e44c0a529b661df0f0d1f",
            "7516a0893cd64461a9ef46377c97994d",
            "aaf03720df3f4ddc8daec6ae0d8fbb60",
            "82f3a32900cc4cfb864a0e12eadc261f",
            "b978efcd52614fea8199fa6e6ec824b1",
            "ee86791e485b47b7a860c38a55145f02",
            "2473c37e2b5240fcb1296ebb1b87477c",
            "5ce37e7f42534458980ae39994c1c869",
            "42e0b1c3e98e434b99f5d2ccacb26ba2",
            "3f1422cf418a446b99bb3c050ae052df",
            "c6ecdc55e2de423baac90ed4b585f8b6",
            "9617f9967e124b9c9da30630f5b190f7",
            "70bba1a176f340fca7f1049505cad62c",
            "2375c855780a461a8e4c7120fc1fff62",
            "c87b14f852d04ffe87d32fd5c7b42a83",
            "3c6d43b7549b49018e884bc568593c9b",
            "73799ddc4133428abb763b7f29cc7933",
            "8b21184522e944638cf18780263f8fdf",
            "49a54208a1934fff8c6c99124799c254",
            "c281ffb8f4474ecebb8d2e5ecfb78f6b",
            "5305fbc3e7ed426482d6cd9c82e7577e",
            "55e9ed5181f942c0a77715277983f68a",
            "cc69ba3011b74e65b614181d3a303c16",
            "2b8c65e25ec846208061f0f041378871",
            "1075b1e1de2d495c8de281d927ed8327",
            "060a80336bc44199baeba08fe9c814e1",
            "d711891c6f734ad2a98ae15e1961b9ac",
            "d2f09372b6dd488ebbf35cefd9a7165f",
            "22854054cbb54c6fa680069da04a1294",
            "4d2b58193b874413a675708613850fcc",
            "2b21a914b8ed467ebe527013d7cfcafc",
            "53c58c324b7546f181aaa8f38238810a",
            "8521b43925344d18a6ba9a6ae4d727d6",
            "21270f06384441118690df6b83d8597d",
            "c513ac191a554a178e147eceedc1575c",
            "e01dd05050d341f19eda9f5be6abac1d",
            "3717210b8b3b45539b3525e564ea06f3",
            "5971b7886a6c4d31b0cf117c1e6ce0f1",
            "c618ae23e2424fb0a8dd9abb0bfbeb23",
            "24da73e6068140b9984c40a7383f9542",
            "72f09e98476e455babfba7a198853800",
            "6601c72ea19d4420811a6cb8a9212acd",
            "39ae69d887c844099c677484677805bd",
            "9bb901b34ff04ce295825ff9d2a2f2f8",
            "a71327cc26c64b9088770bd2d3365ed9",
            "11c4fd37a45f416fb663444da32a695d",
            "1d4f4ee69d884fa48fd19fa478e61611",
            "497b5969c7434468805b27a858bb1129",
            "bf5896d030be4b4fadc965afec032582",
            "1d67f5272b344625b9e1c22b8f818c2c",
            "8af6128dc26744938ebb6eaa145d2b3a",
            "5869df010e4c4b38b830469e9b89179d",
            "4084ce25fa334558bfb6eb9d907d613c",
            "91eb4e648b194c61b356cead6e063c57",
            "fc2bc7a542ac489480460b1c9ff748d4",
            "d5ec9ecff028444899bbf57f8c943b39",
            "e715350ccb6742ebb3451c679ab42012",
            "3b6269e2a3ed4c0bb64fd01fed5d34a1",
            "7784a8e4b39f40439d0e24495afb6c3d",
            "53dfb85a33ed40ffb11d004c12b33b3a",
            "d86491237d6e43129c47825b8ec71dce",
            "531e6778885e41899e1184552f5c6b97",
            "dc161e7e855b4f1390a045ba8302a456",
            "d7f5332b1fd047759fa55bf96696bc7a",
            "36b0b816ec67474ca459bb4ed1acc8a8",
            "4e4589db2aa442569f86f3983dfa299c"
          ],
          "base_uri": "https://localhost:8080/",
          "height": 365
        }
      },
      "execution_count": null,
      "outputs": [
        {
          "output_type": "stream",
          "name": "stderr",
          "text": [
            "/usr/local/lib/python3.10/dist-packages/huggingface_hub/utils/_token.py:88: UserWarning: \n",
            "The secret `HF_TOKEN` does not exist in your Colab secrets.\n",
            "To authenticate with the Hugging Face Hub, create a token in your settings tab (https://huggingface.co/settings/tokens), set it as secret in your Google Colab and restart your session.\n",
            "You will be able to reuse this secret in all of your notebooks.\n",
            "Please note that authentication is recommended but still optional to access public models or datasets.\n",
            "  warnings.warn(\n"
          ]
        },
        {
          "output_type": "display_data",
          "data": {
            "text/plain": [
              "tokenizer_config.json:   0%|          | 0.00/1.32k [00:00<?, ?B/s]"
            ],
            "application/vnd.jupyter.widget-view+json": {
              "version_major": 2,
              "version_minor": 0,
              "model_id": "ae5af13620bb489e9bff446e92c1a6ff"
            }
          },
          "metadata": {}
        },
        {
          "output_type": "display_data",
          "data": {
            "text/plain": [
              "vocab.json:   0%|          | 0.00/798k [00:00<?, ?B/s]"
            ],
            "application/vnd.jupyter.widget-view+json": {
              "version_major": 2,
              "version_minor": 0,
              "model_id": "019ac9e80f2e44c0a529b661df0f0d1f"
            }
          },
          "metadata": {}
        },
        {
          "output_type": "display_data",
          "data": {
            "text/plain": [
              "merges.txt:   0%|          | 0.00/456k [00:00<?, ?B/s]"
            ],
            "application/vnd.jupyter.widget-view+json": {
              "version_major": 2,
              "version_minor": 0,
              "model_id": "9617f9967e124b9c9da30630f5b190f7"
            }
          },
          "metadata": {}
        },
        {
          "output_type": "display_data",
          "data": {
            "text/plain": [
              "special_tokens_map.json:   0%|          | 0.00/772 [00:00<?, ?B/s]"
            ],
            "application/vnd.jupyter.widget-view+json": {
              "version_major": 2,
              "version_minor": 0,
              "model_id": "cc69ba3011b74e65b614181d3a303c16"
            }
          },
          "metadata": {}
        },
        {
          "output_type": "display_data",
          "data": {
            "text/plain": [
              "tokenizer.json:   0%|          | 0.00/2.11M [00:00<?, ?B/s]"
            ],
            "application/vnd.jupyter.widget-view+json": {
              "version_major": 2,
              "version_minor": 0,
              "model_id": "21270f06384441118690df6b83d8597d"
            }
          },
          "metadata": {}
        },
        {
          "output_type": "display_data",
          "data": {
            "text/plain": [
              "config.json:   0%|          | 0.00/1.32k [00:00<?, ?B/s]"
            ],
            "application/vnd.jupyter.widget-view+json": {
              "version_major": 2,
              "version_minor": 0,
              "model_id": "a71327cc26c64b9088770bd2d3365ed9"
            }
          },
          "metadata": {}
        },
        {
          "output_type": "display_data",
          "data": {
            "text/plain": [
              "model.safetensors:   0%|          | 0.00/648M [00:00<?, ?B/s]"
            ],
            "application/vnd.jupyter.widget-view+json": {
              "version_major": 2,
              "version_minor": 0,
              "model_id": "d5ec9ecff028444899bbf57f8c943b39"
            }
          },
          "metadata": {}
        }
      ]
    },
    {
      "cell_type": "markdown",
      "source": [
        "### Converting the text data into encoded data"
      ],
      "metadata": {
        "id": "yVg5Bu5BvPV-"
      }
    },
    {
      "cell_type": "code",
      "source": [
        "def example_into_features(example_dataset):\n",
        "  input_encodings=tokenizer(example_dataset['judgements'],max_length=5000,truncation=True,padding=True) #Max length of 5000 above that is truncated\n",
        "  output_encodings=tokenizer(example_dataset['summaries'],max_length=1000,truncation=True,padding=True) #Max length of 1000 above that is truncated\n",
        "\n",
        "  return {'input_ids':input_encodings['input_ids'],\n",
        "          'attention_mask':input_encodings['attention_mask'],\n",
        "          'labels':output_encodings['input_ids']}\n",
        "\n",
        "#max_length=1024,truncation=True"
      ],
      "metadata": {
        "id": "P6ks7hDEHq51",
        "execution": {
          "iopub.status.busy": "2024-03-06T19:28:32.426397Z",
          "iopub.execute_input": "2024-03-06T19:28:32.426883Z",
          "iopub.status.idle": "2024-03-06T19:28:32.432152Z",
          "shell.execute_reply.started": "2024-03-06T19:28:32.426857Z",
          "shell.execute_reply": "2024-03-06T19:28:32.431338Z"
        },
        "trusted": true
      },
      "execution_count": null,
      "outputs": []
    },
    {
      "cell_type": "code",
      "source": [
        "train_mapped_data=train_legal_dataset.map(example_into_features,batched=True)"
      ],
      "metadata": {
        "colab": {
          "base_uri": "https://localhost:8080/",
          "height": 49,
          "referenced_widgets": [
            "e0dba7c798c346f4816ceb2495df315a",
            "7f75e2527fbc4056a8682d4dc4a6f7e0",
            "539e7fd2494f4fe084bcaf4311ddc666",
            "fc1ac670dc45435ca4525fa4e0e86e16",
            "f54b47cf3b9542de9da19cda1708456f",
            "c105b04f9d004d28a9c744cd33a5ac36",
            "20089bb9ce11478fa6cc0e574aab942b",
            "6fd65a732cf24573a43e54a79f334dc9",
            "5c466b69e94f4c86943af6c4d7612646",
            "cce274d22485411fbc25105381fe38ef",
            "c93442f619164e80b306411dbc04fe5c"
          ]
        },
        "id": "hGlvtsPKS3px",
        "outputId": "bf0b84e5-8712-4dda-ae5c-90c92b10e5b9",
        "execution": {
          "iopub.status.busy": "2024-03-06T19:28:32.433262Z",
          "iopub.execute_input": "2024-03-06T19:28:32.433514Z",
          "iopub.status.idle": "2024-03-06T19:35:11.553537Z",
          "shell.execute_reply.started": "2024-03-06T19:28:32.433492Z",
          "shell.execute_reply": "2024-03-06T19:35:11.552482Z"
        },
        "trusted": true
      },
      "execution_count": null,
      "outputs": [
        {
          "output_type": "display_data",
          "data": {
            "text/plain": [
              "Map:   0%|          | 0/7030 [00:00<?, ? examples/s]"
            ],
            "application/vnd.jupyter.widget-view+json": {
              "version_major": 2,
              "version_minor": 0,
              "model_id": "e0dba7c798c346f4816ceb2495df315a"
            }
          },
          "metadata": {}
        }
      ]
    },
    {
      "cell_type": "code",
      "source": [
        "test_mapped_data=test_legal_dataset.map(example_into_features,batched=True)"
      ],
      "metadata": {
        "colab": {
          "base_uri": "https://localhost:8080/",
          "height": 49,
          "referenced_widgets": [
            "f3649627050a4e6baa87997451be3e30",
            "fd726b0fbd464c68886c265569edae86",
            "3b866f0e9efe4656af5a05a980e98186",
            "195766f6daf6420aac38a0eb0d7c68ab",
            "061e3aacc6934ffc855520a91353b005",
            "a37ade2f104f4a09a5b7696b2cc7e180",
            "d678a3bf1da8450d89816b5014bdcb49",
            "8530f7b7fe7743ec8b3ad37bf6e3d4e3",
            "05017a9702fe413ba4c2978ffa14bf20",
            "bac24259ad7a4de497f1cab13937f679",
            "2693d77d3b3c4c95b939dcb5ca791006"
          ]
        },
        "id": "UtB123CVbkAd",
        "outputId": "6f505368-e8f4-4655-e2e5-7e0000f787d5",
        "execution": {
          "iopub.status.busy": "2024-03-06T19:35:11.555224Z",
          "iopub.execute_input": "2024-03-06T19:35:11.555627Z",
          "iopub.status.idle": "2024-03-06T19:35:17.654359Z",
          "shell.execute_reply.started": "2024-03-06T19:35:11.555594Z",
          "shell.execute_reply": "2024-03-06T19:35:17.653494Z"
        },
        "trusted": true
      },
      "execution_count": null,
      "outputs": [
        {
          "output_type": "display_data",
          "data": {
            "text/plain": [
              "Map:   0%|          | 0/100 [00:00<?, ? examples/s]"
            ],
            "application/vnd.jupyter.widget-view+json": {
              "version_major": 2,
              "version_minor": 0,
              "model_id": "f3649627050a4e6baa87997451be3e30"
            }
          },
          "metadata": {}
        }
      ]
    },
    {
      "cell_type": "code",
      "source": [
        "train_mapped_data"
      ],
      "metadata": {
        "colab": {
          "base_uri": "https://localhost:8080/"
        },
        "id": "vJkUXgZnbntt",
        "outputId": "0e7e8803-e426-46c0-cce3-92101d5c9cfc",
        "execution": {
          "iopub.status.busy": "2024-03-06T19:35:17.655411Z",
          "iopub.execute_input": "2024-03-06T19:35:17.655682Z",
          "iopub.status.idle": "2024-03-06T19:35:17.661465Z",
          "shell.execute_reply.started": "2024-03-06T19:35:17.65566Z",
          "shell.execute_reply": "2024-03-06T19:35:17.660556Z"
        },
        "trusted": true
      },
      "execution_count": null,
      "outputs": [
        {
          "output_type": "execute_result",
          "data": {
            "text/plain": [
              "Dataset({\n",
              "    features: ['judgements', 'summaries', 'input_ids', 'attention_mask', 'labels'],\n",
              "    num_rows: 7030\n",
              "})"
            ]
          },
          "metadata": {},
          "execution_count": 43
        }
      ]
    },
    {
      "cell_type": "code",
      "source": [
        "test_mapped_data"
      ],
      "metadata": {
        "colab": {
          "base_uri": "https://localhost:8080/"
        },
        "id": "ZTmsfIeGS0hs",
        "outputId": "5fd7c4a4-83ec-4c61-e541-a1c1a212d733",
        "execution": {
          "iopub.status.busy": "2024-03-06T19:35:17.662474Z",
          "iopub.execute_input": "2024-03-06T19:35:17.662716Z",
          "iopub.status.idle": "2024-03-06T19:35:17.673575Z",
          "shell.execute_reply.started": "2024-03-06T19:35:17.662695Z",
          "shell.execute_reply": "2024-03-06T19:35:17.67265Z"
        },
        "trusted": true
      },
      "execution_count": null,
      "outputs": [
        {
          "output_type": "execute_result",
          "data": {
            "text/plain": [
              "Dataset({\n",
              "    features: ['judgements', 'summaries', 'input_ids', 'attention_mask', 'labels'],\n",
              "    num_rows: 100\n",
              "})"
            ]
          },
          "metadata": {},
          "execution_count": 44
        }
      ]
    },
    {
      "cell_type": "code",
      "source": [
        "from transformers import TrainingArguments,DataCollatorForSeq2Seq,Trainer,pipeline"
      ],
      "metadata": {
        "execution": {
          "iopub.status.busy": "2024-03-06T19:35:17.701533Z",
          "iopub.execute_input": "2024-03-06T19:35:17.701818Z",
          "iopub.status.idle": "2024-03-06T19:35:31.078327Z",
          "shell.execute_reply.started": "2024-03-06T19:35:17.701796Z",
          "shell.execute_reply": "2024-03-06T19:35:31.077296Z"
        },
        "trusted": true,
        "id": "nDl3B2OuFmHM",
        "outputId": "127fd1e6-ca76-42f6-e3ba-86d7ba2960f3"
      },
      "execution_count": null,
      "outputs": [
        {
          "name": "stderr",
          "text": "2024-03-06 19:35:20.119292: E external/local_xla/xla/stream_executor/cuda/cuda_dnn.cc:9261] Unable to register cuDNN factory: Attempting to register factory for plugin cuDNN when one has already been registered\n2024-03-06 19:35:20.119389: E external/local_xla/xla/stream_executor/cuda/cuda_fft.cc:607] Unable to register cuFFT factory: Attempting to register factory for plugin cuFFT when one has already been registered\n2024-03-06 19:35:20.293834: E external/local_xla/xla/stream_executor/cuda/cuda_blas.cc:1515] Unable to register cuBLAS factory: Attempting to register factory for plugin cuBLAS when one has already been registered\n",
          "output_type": "stream"
        }
      ]
    },
    {
      "cell_type": "code",
      "source": [
        "data_collator_seq2seq=DataCollatorForSeq2Seq(tokenizer=tokenizer,model=model)"
      ],
      "metadata": {
        "execution": {
          "iopub.status.busy": "2024-03-06T19:35:31.079566Z",
          "iopub.execute_input": "2024-03-06T19:35:31.079867Z",
          "iopub.status.idle": "2024-03-06T19:35:31.08448Z",
          "shell.execute_reply.started": "2024-03-06T19:35:31.079842Z",
          "shell.execute_reply": "2024-03-06T19:35:31.083379Z"
        },
        "trusted": true,
        "id": "zlPfSWEoFmHN"
      },
      "execution_count": null,
      "outputs": []
    },
    {
      "cell_type": "code",
      "source": [
        "from transformers import TrainingArguments\n",
        "\n",
        "training_args = TrainingArguments(\n",
        "    output_dir=\"legal_summarization\",\n",
        "    num_train_epochs=1,\n",
        "    per_device_train_batch_size=1,\n",
        "    per_device_eval_batch_size=1,\n",
        "    logging_dir=\"./logs\",\n",
        "    logging_steps=100,\n",
        "    save_steps=1000,\n",
        "    do_eval=True,evaluation_strategy='steps',eval_steps=100)"
      ],
      "metadata": {
        "execution": {
          "iopub.status.busy": "2024-03-06T19:35:31.085646Z",
          "iopub.execute_input": "2024-03-06T19:35:31.085978Z",
          "iopub.status.idle": "2024-03-06T19:35:31.168515Z",
          "shell.execute_reply.started": "2024-03-06T19:35:31.085947Z",
          "shell.execute_reply": "2024-03-06T19:35:31.167592Z"
        },
        "trusted": true,
        "id": "_A4oVzBQFmHN"
      },
      "execution_count": null,
      "outputs": []
    },
    {
      "cell_type": "code",
      "source": [
        "from transformers import Trainer\n",
        "\n",
        "trainer = Trainer(\n",
        "    model=model,\n",
        "    args=training_args,\n",
        "    train_dataset=train_mapped_data,\n",
        "    eval_dataset=test_mapped_data,\n",
        "    tokenizer=tokenizer,data_collator=data_collator_seq2seq)\n",
        "trainer.train()"
      ],
      "metadata": {
        "execution": {
          "iopub.status.busy": "2024-03-09T20:24:50.619405Z",
          "iopub.execute_input": "2024-03-09T20:24:50.620381Z",
          "iopub.status.idle": "2024-03-09T22:52:49.683713Z",
          "shell.execute_reply.started": "2024-03-09T20:24:50.620355Z",
          "shell.execute_reply": "2024-03-09T22:52:49.682806Z"
        },
        "trusted": true,
        "id": "Ap2c2zcPba4J",
        "outputId": "6e8f069e-412d-41da-aa84-1449d00027d6"
      },
      "execution_count": null,
      "outputs": [
        {
          "name": "stderr",
          "text": "\u001b[34m\u001b[1mwandb\u001b[0m: Currently logged in as: \u001b[33myugpratapsingh8\u001b[0m. Use \u001b[1m`wandb login --relogin`\u001b[0m to force relogin\n",
          "output_type": "stream"
        },
        {
          "output_type": "display_data",
          "data": {
            "text/plain": "<IPython.core.display.HTML object>",
            "text/html": "wandb version 0.16.4 is available!  To upgrade, please run:\n $ pip install wandb --upgrade"
          },
          "metadata": {}
        },
        {
          "output_type": "display_data",
          "data": {
            "text/plain": "<IPython.core.display.HTML object>",
            "text/html": "Tracking run with wandb version 0.16.3"
          },
          "metadata": {}
        },
        {
          "output_type": "display_data",
          "data": {
            "text/plain": "<IPython.core.display.HTML object>",
            "text/html": "Run data is saved locally in <code>/kaggle/working/wandb/run-20240309_202454-eh4sr2nv</code>"
          },
          "metadata": {}
        },
        {
          "output_type": "display_data",
          "data": {
            "text/plain": "<IPython.core.display.HTML object>",
            "text/html": "Syncing run <strong><a href='https://wandb.ai/yugpratapsingh8/huggingface/runs/eh4sr2nv' target=\"_blank\">radiant-yogurt-30</a></strong> to <a href='https://wandb.ai/yugpratapsingh8/huggingface' target=\"_blank\">Weights & Biases</a> (<a href='https://wandb.me/run' target=\"_blank\">docs</a>)<br/>"
          },
          "metadata": {}
        },
        {
          "output_type": "display_data",
          "data": {
            "text/plain": "<IPython.core.display.HTML object>",
            "text/html": " View project at <a href='https://wandb.ai/yugpratapsingh8/huggingface' target=\"_blank\">https://wandb.ai/yugpratapsingh8/huggingface</a>"
          },
          "metadata": {}
        },
        {
          "output_type": "display_data",
          "data": {
            "text/plain": "<IPython.core.display.HTML object>",
            "text/html": " View run at <a href='https://wandb.ai/yugpratapsingh8/huggingface/runs/eh4sr2nv' target=\"_blank\">https://wandb.ai/yugpratapsingh8/huggingface/runs/eh4sr2nv</a>"
          },
          "metadata": {}
        },
        {
          "name": "stderr",
          "text": "/opt/conda/lib/python3.10/site-packages/torch/nn/parallel/_functions.py:68: UserWarning: Was asked to gather along dimension 0, but all input tensors were scalars; will instead unsqueeze and return a vector.\n  warnings.warn('Was asked to gather along dimension 0, but all '\n",
          "output_type": "stream"
        },
        {
          "output_type": "display_data",
          "data": {
            "text/plain": "<IPython.core.display.HTML object>",
            "text/html": "\n    <div>\n      \n      <progress value='3515' max='3515' style='width:300px; height:20px; vertical-align: middle;'></progress>\n      [3515/3515 2:27:18, Epoch 1/1]\n    </div>\n    <table border=\"1\" class=\"dataframe\">\n  <thead>\n <tr style=\"text-align: left;\">\n      <th>Step</th>\n      <th>Training Loss</th>\n      <th>Validation Loss</th>\n    </tr>\n  </thead>\n  <tbody>\n    <tr>\n      <td>100</td>\n      <td>2.692200</td>\n      <td>1.479054</td>\n    </tr>\n    <tr>\n      <td>200</td>\n      <td>1.437100</td>\n      <td>1.381580</td>\n    </tr>\n    <tr>\n      <td>300</td>\n      <td>1.288400</td>\n      <td>1.335349</td>\n    </tr>\n    <tr>\n      <td>400</td>\n      <td>1.346100</td>\n      <td>1.315189</td>\n    </tr>\n    <tr>\n      <td>500</td>\n      <td>1.304600</td>\n      <td>1.280001</td>\n    </tr>\n    <tr>\n      <td>600</td>\n      <td>1.258700</td>\n      <td>1.241763</td>\n    </tr>\n    <tr>\n      <td>700</td>\n      <td>1.264100</td>\n      <td>1.237072</td>\n    </tr>\n    <tr>\n      <td>800</td>\n      <td>1.222700</td>\n      <td>1.232558</td>\n    </tr>\n    <tr>\n      <td>900</td>\n      <td>1.168100</td>\n      <td>1.211168</td>\n    </tr>\n    <tr>\n      <td>1000</td>\n      <td>1.198000</td>\n      <td>1.191945</td>\n    </tr>\n    <tr>\n      <td>1100</td>\n      <td>1.282400</td>\n      <td>1.191974</td>\n    </tr>\n    <tr>\n      <td>1200</td>\n      <td>1.227900</td>\n      <td>1.175995</td>\n    </tr>\n    <tr>\n      <td>1300</td>\n      <td>1.201200</td>\n      <td>1.172117</td>\n    </tr>\n    <tr>\n      <td>1400</td>\n      <td>1.164700</td>\n      <td>1.162255</td>\n    </tr>\n    <tr>\n      <td>1500</td>\n      <td>1.174600</td>\n      <td>1.159102</td>\n    </tr>\n    <tr>\n      <td>1600</td>\n      <td>1.152600</td>\n      <td>1.147957</td>\n    </tr>\n    <tr>\n      <td>1700</td>\n      <td>1.118200</td>\n      <td>1.144989</td>\n    </tr>\n    <tr>\n      <td>1800</td>\n      <td>1.152900</td>\n      <td>1.124690</td>\n    </tr>\n    <tr>\n      <td>1900</td>\n      <td>1.076800</td>\n      <td>1.121535</td>\n    </tr>\n    <tr>\n      <td>2000</td>\n      <td>1.078200</td>\n      <td>1.119040</td>\n    </tr>\n    <tr>\n      <td>2100</td>\n      <td>1.092900</td>\n      <td>1.112353</td>\n    </tr>\n    <tr>\n      <td>2200</td>\n      <td>1.134100</td>\n      <td>1.107245</td>\n    </tr>\n    <tr>\n      <td>2300</td>\n      <td>1.125200</td>\n      <td>1.096849</td>\n    </tr>\n    <tr>\n      <td>2400</td>\n      <td>1.121300</td>\n      <td>1.096695</td>\n    </tr>\n    <tr>\n      <td>2500</td>\n      <td>1.118200</td>\n      <td>1.085614</td>\n    </tr>\n    <tr>\n      <td>2600</td>\n      <td>1.100700</td>\n      <td>1.081234</td>\n    </tr>\n    <tr>\n      <td>2700</td>\n      <td>1.026000</td>\n      <td>1.087191</td>\n    </tr>\n    <tr>\n      <td>2800</td>\n      <td>1.078900</td>\n      <td>1.078940</td>\n    </tr>\n    <tr>\n      <td>2900</td>\n      <td>1.102000</td>\n      <td>1.071526</td>\n    </tr>\n    <tr>\n      <td>3000</td>\n      <td>1.066000</td>\n      <td>1.068276</td>\n    </tr>\n    <tr>\n      <td>3100</td>\n      <td>1.079400</td>\n      <td>1.068599</td>\n    </tr>\n    <tr>\n      <td>3200</td>\n      <td>1.059700</td>\n      <td>1.064950</td>\n    </tr>\n    <tr>\n      <td>3300</td>\n      <td>1.035900</td>\n      <td>1.064892</td>\n    </tr>\n    <tr>\n      <td>3400</td>\n      <td>1.046500</td>\n      <td>1.060408</td>\n    </tr>\n    <tr>\n      <td>3500</td>\n      <td>1.050700</td>\n      <td>1.060274</td>\n    </tr>\n  </tbody>\n</table><p>"
          },
          "metadata": {}
        },
        {
          "name": "stderr",
          "text": "Some non-default generation parameters are set in the model config. These should go into a GenerationConfig file (https://huggingface.co/docs/transformers/generation_strategies#save-a-custom-decoding-strategy-with-your-model) instead. This warning will be raised to an exception in v4.41.\nNon-default generation parameters: {'max_length': 1024, 'min_length': 8, 'early_stopping': True, 'num_beams': 4, 'repetition_penalty': 3.5, 'length_penalty': 0.8, 'no_repeat_ngram_size': 3}\n/opt/conda/lib/python3.10/site-packages/torch/nn/parallel/_functions.py:68: UserWarning: Was asked to gather along dimension 0, but all input tensors were scalars; will instead unsqueeze and return a vector.\n  warnings.warn('Was asked to gather along dimension 0, but all '\nSome non-default generation parameters are set in the model config. These should go into a GenerationConfig file (https://huggingface.co/docs/transformers/generation_strategies#save-a-custom-decoding-strategy-with-your-model) instead. This warning will be raised to an exception in v4.41.\nNon-default generation parameters: {'max_length': 1024, 'min_length': 8, 'early_stopping': True, 'num_beams': 4, 'repetition_penalty': 3.5, 'length_penalty': 0.8, 'no_repeat_ngram_size': 3}\n/opt/conda/lib/python3.10/site-packages/torch/nn/parallel/_functions.py:68: UserWarning: Was asked to gather along dimension 0, but all input tensors were scalars; will instead unsqueeze and return a vector.\n  warnings.warn('Was asked to gather along dimension 0, but all '\nSome non-default generation parameters are set in the model config. These should go into a GenerationConfig file (https://huggingface.co/docs/transformers/generation_strategies#save-a-custom-decoding-strategy-with-your-model) instead. This warning will be raised to an exception in v4.41.\nNon-default generation parameters: {'max_length': 1024, 'min_length': 8, 'early_stopping': True, 'num_beams': 4, 'repetition_penalty': 3.5, 'length_penalty': 0.8, 'no_repeat_ngram_size': 3}\n/opt/conda/lib/python3.10/site-packages/torch/nn/parallel/_functions.py:68: UserWarning: Was asked to gather along dimension 0, but all input tensors were scalars; will instead unsqueeze and return a vector.\n  warnings.warn('Was asked to gather along dimension 0, but all '\n",
          "output_type": "stream"
        },
        {
          "execution_count": 42,
          "output_type": "execute_result",
          "data": {
            "text/plain": "TrainOutput(global_step=3515, training_loss=1.2005223229463884, metrics={'train_runtime': 8877.4074, 'train_samples_per_second': 0.792, 'train_steps_per_second': 0.396, 'total_flos': 2.37280499859456e+16, 'train_loss': 1.2005223229463884, 'epoch': 1.0})"
          },
          "metadata": {}
        }
      ]
    },
    {
      "cell_type": "code",
      "source": [
        "model.save_pretrained('/content/drive/MyDrive/Legal Summarization/summarization_model')\n",
        "tokenizer.save_pretrained('/content/drive/MyDrive/Legal Summarization/summarization_tokenizer')"
      ],
      "metadata": {
        "id": "hOiGRqsMMjwi"
      },
      "execution_count": null,
      "outputs": []
    },
    {
      "cell_type": "code",
      "source": [
        "from google.colab import drive\n",
        "drive.mount('/content/drive')"
      ],
      "metadata": {
        "id": "c7UPUvOs8zxv"
      },
      "execution_count": null,
      "outputs": []
    },
    {
      "cell_type": "code",
      "source": [
        "! unzip '/content/drive/MyDrive/Legal Summarization/Legal_model_tokenizer_directory.zip' -d '/content/Legal_model_tokenizer_directory'\n",
        "! unzip '/content/drive/MyDrive/Legal Summarization/summarization_model.zip' -d '/content/summarization_model'\n",
        "! unzip '/content/drive/MyDrive/Legal Summarization/Legal_summarization_model_v2.zip' -d '/content/Legal_model_v2_directory'\n",
        "! unzip '/content/drive/MyDrive/Legal Summarization/Legal_summarization_tokenizer_v2.zip' -d '/content/Legal_model_tokenizer_v2_directory'"
      ],
      "metadata": {
        "colab": {
          "base_uri": "https://localhost:8080/"
        },
        "id": "j5matJMWPhe9",
        "outputId": "aa9ddf6c-2f58-4db0-a5de-8b12b6a3e12e"
      },
      "execution_count": null,
      "outputs": [
        {
          "output_type": "stream",
          "name": "stdout",
          "text": [
            "Archive:  /content/drive/MyDrive/Legal Summarization/Legal_model_tokenizer_directory.zip\n",
            "  inflating: /content/Legal_model_tokenizer_directory/special_tokens_map.json  \n",
            "  inflating: /content/Legal_model_tokenizer_directory/merges.txt  \n",
            "  inflating: /content/Legal_model_tokenizer_directory/vocab.json  \n",
            "  inflating: /content/Legal_model_tokenizer_directory/tokenizer_config.json  \n",
            "Archive:  /content/drive/MyDrive/Legal Summarization/summarization_model.zip\n",
            "  inflating: /content/summarization_model/model.safetensors  \n",
            "  inflating: /content/summarization_model/generation_config.json  \n",
            "  inflating: /content/summarization_model/config.json  \n",
            "Archive:  /content/drive/MyDrive/Legal Summarization/Legal_summarization_model_v2.zip\n",
            "  inflating: /content/Legal_model_v2_directory/generation_config.json  \n",
            "  inflating: /content/Legal_model_v2_directory/model.safetensors  \n",
            "  inflating: /content/Legal_model_v2_directory/config.json  \n",
            "Archive:  /content/drive/MyDrive/Legal Summarization/Legal_summarization_tokenizer_v2.zip\n",
            "  inflating: /content/Legal_model_tokenizer_v2_directory/special_tokens_map.json  \n",
            "  inflating: /content/Legal_model_tokenizer_v2_directory/tokenizer_config.json  \n",
            "  inflating: /content/Legal_model_tokenizer_v2_directory/vocab.json  \n",
            "  inflating: /content/Legal_model_tokenizer_v2_directory/merges.txt  \n"
          ]
        }
      ]
    },
    {
      "cell_type": "markdown",
      "source": [
        "### Conclusion First version of model works better"
      ],
      "metadata": {
        "id": "A-7QIv-VPZXP"
      }
    },
    {
      "cell_type": "code",
      "source": [
        "from transformers import LEDForConditionalGeneration, LEDTokenizer,pipeline"
      ],
      "metadata": {
        "id": "nPnsImNqP3EB"
      },
      "execution_count": null,
      "outputs": []
    },
    {
      "cell_type": "markdown",
      "source": [
        "### First version of the model"
      ],
      "metadata": {
        "id": "BumXf4W2_OMp"
      }
    },
    {
      "cell_type": "code",
      "source": [
        "locally_saved_model=LEDForConditionalGeneration.from_pretrained('/content/summarization_model')\n",
        "locally_saved_tokenizer=tokenizer=LEDTokenizer.from_pretrained('/content/Legal_model_tokenizer_directory')"
      ],
      "metadata": {
        "id": "tFddzkxLQmXO"
      },
      "execution_count": null,
      "outputs": []
    },
    {
      "cell_type": "markdown",
      "source": [
        "### Second version of the model"
      ],
      "metadata": {
        "id": "s5jDSvP5_Rw8"
      }
    },
    {
      "cell_type": "code",
      "source": [
        "locally_saved_model_v2=LEDForConditionalGeneration.from_pretrained('/content/Legal_model_v2_directory')\n",
        "locally_saved_tokenizer_v2=tokenizer=LEDTokenizer.from_pretrained('/content/Legal_model_tokenizer_v2_directory')"
      ],
      "metadata": {
        "id": "p0a0sH_S0IX-"
      },
      "execution_count": null,
      "outputs": []
    },
    {
      "cell_type": "code",
      "source": [
        "gen_kwargs={'length_penalty':1.0,'max_length':1500,'num_beams':8}\n",
        "pipe1 = pipeline(\"summarization\", model=locally_saved_model,tokenizer=locally_saved_tokenizer)\n",
        "summary1=pipe1(test_judgements[2],**gen_kwargs)\n"
      ],
      "metadata": {
        "id": "CagOdd9LQ9O3",
        "colab": {
          "base_uri": "https://localhost:8080/"
        },
        "outputId": "4ca11ce0-826b-4e86-a677-337a2a2a0ecb"
      },
      "execution_count": null,
      "outputs": [
        {
          "output_type": "stream",
          "name": "stderr",
          "text": [
            "Input ids are automatically padded from 3670 to 4096 to be a multiple of `config.attention_window`: 1024\n"
          ]
        }
      ]
    },
    {
      "cell_type": "code",
      "source": [
        "gen_kwargs = {\"length_penalty\": 1.0, \"num_beams\":8, \"max_length\":1500 }\n",
        "pipe2 = pipeline(\"summarization\", model=locally_saved_model_v2,tokenizer=locally_saved_tokenizer_v2,device=0)\n",
        "summary2=pipe2(test_judgements[2],**gen_kwargs)"
      ],
      "metadata": {
        "id": "Af3qZQzk0gMk"
      },
      "execution_count": null,
      "outputs": []
    },
    {
      "cell_type": "markdown",
      "source": [
        "#### Second version of the model's summary"
      ],
      "metadata": {
        "id": "0Lkn4az2yRd-"
      }
    },
    {
      "cell_type": "code",
      "source": [
        "print(summary2[0]['summary_text'])"
      ],
      "metadata": {
        "colab": {
          "base_uri": "https://localhost:8080/"
        },
        "id": "dLfOnopxCqbc",
        "outputId": "74ed608c-70a5-45d1-9bf2-e745bda4a054"
      },
      "execution_count": null,
      "outputs": [
        {
          "output_type": "stream",
          "name": "stdout",
          "text": [
            "in their return of turnover for the period from April 1, 1954 to March 31, 1955, they claimed exemption from sales tax in respect of sales of cotton of the total value of rs. 68,493 2 6 and sales of castor oil of the same value on the ground that these sales were oil contracts under which they continued to be the owners of the goods till the goods had crossed the customs barrier and thus entered the export stream, and so no tax was realisable on these sales in view of the provisions of article 286(1)(b) of the constitution.\n",
            "the sales tax officer rejected this claim for exemption and assessed them to sales tax on a taxable turnover including these sales.\n",
            "he also assesses them to purchase tax under section 10(b).\n",
            "the notice of demand for the total sales tax and the purchase tax assessed was served on the sellers on September 30, 1956.\n",
            "they thereupon moved the high court under article 226 of the constitu tion for the issue of appropriate writs for quashing the order of assessment and the notices of demand and for prohibiting the salestax officer from taking any steps pursuant to the order or the notice.\n",
            "allowing the appeal by special leave, held: (1) the ordinary rule in FOB contracts is that it is the duty of the buyer to obtain the necessary export licence.\n",
            "[928h; 929a] (2) when export has been defined in the import & export (1953) 4 s.t.c. 133 as \"taking out of India by land, sea, or air \", export in the export control order cannot be held to have commenced till at least the ship carrying the goods has left the port, though it may in some contexts be more correct to say that it does not commence till the ship has passed beyond the territorial waters.\n",
            "there is no circumstance which would justify a conclusion that the parties came to a special agreement that though the sales were on 'fob contracts property in the goods would pass to the buyer at some point of time before shipment.\n",
            "if ultimately the actual despatch is made by some person who is not a registered dealer, it cannot strictly be said that the declaration has not been carried out.\n",
            "it might very well be that if at the time a declaration of intention is made in the certificate the purchasing dealer had the intention as stated and ultimately he sells to a person who are not aregistered dealer for despatch of the aforesaid goods outside the state of Bombay, the purchaser may not be liable for having made a false declaration.\n",
            "even though he has not made a true declaration of his intention, the fact remains that the intention declared has notbeen carried out.[932d e] (3) even though the legislature insisted that the certificate should declare the goods purchased were intended for being despatched by him or by a register dealer to whom he sold the goods, the Legislature would be content to accept actual despatching outside the State of Bombay by one who is non registered dealer as sufficient.\n",
            "to hold otherwise would be to make the declaration of the intention useless.\n",
            " [933e f]\n",
            "\n"
          ]
        }
      ]
    },
    {
      "cell_type": "markdown",
      "source": [
        "#### First version of the model's summary"
      ],
      "metadata": {
        "id": "_kDueDCtyXpf"
      }
    },
    {
      "cell_type": "code",
      "source": [
        "print(summary1[0]['summary_text'])"
      ],
      "metadata": {
        "colab": {
          "base_uri": "https://localhost:8080/"
        },
        "id": "vnz4sCSjQ-oI",
        "outputId": "c6da9df5-27c3-4964-841d-20bf1ad00d1c"
      },
      "execution_count": null,
      "outputs": [
        {
          "output_type": "stream",
          "name": "stdout",
          "text": [
            "the appellant firm was registered dealers under section 11 of the Bombay sales tax act.\n",
            "in their return of turnover for the period from April 1, 1954 to March 31, 1955, they claimed exemption from sales tax in respect of sales of cotton of the total value of rs. 68,493 2 6 and sales of castor oil of the same value on the ground that these sales were oil contracts, under which they continued to be the owners of the goods till the goods had crossed the customs barrier and thus entered the export stream, and so no tax was realisable on these sales in view of the provisions of article 286(1)(b) of the constitution.\n",
            "the sales tax officer rejected this claim for exemption and assessed them to sales tax on a taxable turnover including these sales.\n",
            "he also assesses them to purchase tax under section 10(b).\n",
            "the notice of demand for the total sales tax and the purchase tax assessed was served on the sellers on september 30, 1956.\n",
            "they thereupon moved the high court under article 226 of the constitu tion for quashing the order of assessment and the notices of demand and for prohibiting the sales tax authorities from taking any steps pursuant to the order or the notice.\n",
            "a judge dismissed the petition holding that the goods remained the sellers ' property until the goods came on board the ship and so the sales were exempted from tax under article 286 (i)(b), but he directed the salestax officer not to enforce the demand for payment of sales tax with regard to the sale of cotton for rs.68,4932 6 and sale of castore oil as mentioned above.\n",
            "allowing the appeal by special leave, held: 1.\n",
            "it is correct to state that the presumption in FOB contracts is that it is the duty of the buyers to obtain export licence, though in the circumstances of a particular case this duty may fall on the seller.\n",
            "[928h; 929a b] 2.\n",
            "there is no circumstance which would justify a conclusion that the parties came to a special agreement that though the sales are on fOB contracts property in the goods would pass to the buyer at some point of time before shipment.\n",
            "if ultimately the actual despatch is made by some person who is not a registered dealer, it cannot strictly be said that the declaration has not been carried out.\n",
            "but if at the time a declaration of intention is made in the certificate the purchasing dealer had the intention as stated and ultimately\n"
          ]
        }
      ]
    },
    {
      "cell_type": "markdown",
      "source": [
        "### Actual summary\n",
        "The respondents firm claimed exemption from Sales Tax under article 286(i)(b) of the Constitution in respect of sales 925 made by them of cotton and castor oil on the ground that the sales were on F.O.B. contracts under which they continued to be the owners of the goods till those crossed the custom barrier and entered the export stream.\\nThey also contested the purchase tax to which they were assessed under section 10(b) of the Bombay Sales Tax Act.\\nThe High Court upheld the contention of the respondents regarding the Sales Tax but held that they were liable to pay purchase tax.\\nOn appeal by both the parties Held, that the goods remained the seller \\'s property till those had been brought and loaded on board the ship and so the sales were exempted from tax under article 286(i) of the Constitution.\\nThe word \" a person \" in section 10(b) of the Bombay Sales Tax Act had been correctly interpreted as \" a registered dealer \" and the purchasing dealers had been rightly assessed to purchase tax.\\nThe normal rule in F. 0.\\nB. contracts was that the property was intended to pass and did pass on the shipment of the goods.\\nThe presumption in F. 0.\\nB. contracts was that it was the duty of the buyer to obtain the necessary export licence, though in the circumstances of a particular case that duty might fall on the seller.\\nH.O. Brandt & Co. vs H. N. Morris & Co. Ltd., [1917] 2 K.B. 784 and M. W. Hardy & Co. vs A. V. Pound & Co., Ltd., (1953) 1.Q.B. 499, considered.\\n\"Export \" under the Import and Export Control Act having been defined as \" taking out of India by land, sea or air \" it could not, under the Export Control Order, be held to have commenced till the ship carrying the goods left the port or in some cases passed the territorial waters.\\nThe State of Bombay vs The United Motors (India) Ltd., (1953) 4 S.T.C. 133, held inapplicable.\\n"
      ],
      "metadata": {
        "id": "g6xvNEfRRyt_"
      }
    },
    {
      "cell_type": "markdown",
      "source": [
        "### Let's see what is the performance difference of non fine tuned and our fine tuned model"
      ],
      "metadata": {
        "id": "VscyB43CMj_h"
      }
    },
    {
      "cell_type": "code",
      "source": [
        "from transformers import LEDForConditionalGeneration, LEDTokenizer\n",
        "\n",
        "model_name = \"pszemraj/led-base-book-summary\"\n",
        "hugger_tokenizer = LEDTokenizer.from_pretrained(model_name)\n",
        "hugger_model = LEDForConditionalGeneration.from_pretrained(model_name)"
      ],
      "metadata": {
        "id": "zU3yXUmlTF-D"
      },
      "execution_count": null,
      "outputs": []
    },
    {
      "cell_type": "code",
      "source": [
        "gen_kwargs = {\"length_penalty\": 0.8, \"num_beams\":8, \"max_length\":500 }\n",
        "pipe2 = pipeline(\"summarization\", model=hugger_model,tokenizer=hugger_tokenizer)\n",
        "summary_hugger=pipe2(test_judgements[2],**gen_kwargs)"
      ],
      "metadata": {
        "id": "BGQtNHjpT4U8"
      },
      "execution_count": null,
      "outputs": []
    },
    {
      "cell_type": "markdown",
      "source": [
        "### This is the result of Non Fine tuned Model"
      ],
      "metadata": {
        "id": "R9OlJhwxx3ws"
      }
    },
    {
      "cell_type": "code",
      "source": [
        "summary_hugger"
      ],
      "metadata": {
        "colab": {
          "base_uri": "https://localhost:8080/"
        },
        "id": "Yy6k8jj5Uffg",
        "outputId": "028ef3ef-cad8-4652-9fbe-f37f418522ec"
      },
      "execution_count": null,
      "outputs": [
        {
          "output_type": "execute_result",
          "data": {
            "text/plain": [
              "[{'summary_text': 'Daulatram Rameshwarlal, a firm registered under the Indian Partnership Act, is charged with selling oil FOB contracts. The sellers claim exemption from sales tax in respect of cotton and castor oil on the ground that these sales were oil-related contracts. They appeal to the Bombay High Court for quashing the order of assessment and prevent the sales tax officer from taking any steps regarding the sale of the goods. However, the Bombay Supreme Court has refused to hear their appeal. Civil Appeal No. 46, 1960. Both the appeals are dismissed.'}]"
            ]
          },
          "metadata": {},
          "execution_count": 64
        }
      ]
    },
    {
      "cell_type": "markdown",
      "source": [
        "### Result of Fine Tuned Model"
      ],
      "metadata": {
        "id": "w75XJNCWyG4z"
      }
    },
    {
      "cell_type": "code",
      "source": [
        "print(summary1[0]['summary_text'])"
      ],
      "metadata": {
        "colab": {
          "base_uri": "https://localhost:8080/"
        },
        "outputId": "c6da9df5-27c3-4964-841d-20bf1ad00d1c",
        "id": "dniHO9cByF3T"
      },
      "execution_count": null,
      "outputs": [
        {
          "output_type": "stream",
          "name": "stdout",
          "text": [
            "the appellant firm was registered dealers under section 11 of the Bombay sales tax act.\n",
            "in their return of turnover for the period from April 1, 1954 to March 31, 1955, they claimed exemption from sales tax in respect of sales of cotton of the total value of rs. 68,493 2 6 and sales of castor oil of the same value on the ground that these sales were oil contracts, under which they continued to be the owners of the goods till the goods had crossed the customs barrier and thus entered the export stream, and so no tax was realisable on these sales in view of the provisions of article 286(1)(b) of the constitution.\n",
            "the sales tax officer rejected this claim for exemption and assessed them to sales tax on a taxable turnover including these sales.\n",
            "he also assesses them to purchase tax under section 10(b).\n",
            "the notice of demand for the total sales tax and the purchase tax assessed was served on the sellers on september 30, 1956.\n",
            "they thereupon moved the high court under article 226 of the constitu tion for quashing the order of assessment and the notices of demand and for prohibiting the sales tax authorities from taking any steps pursuant to the order or the notice.\n",
            "a judge dismissed the petition holding that the goods remained the sellers ' property until the goods came on board the ship and so the sales were exempted from tax under article 286 (i)(b), but he directed the salestax officer not to enforce the demand for payment of sales tax with regard to the sale of cotton for rs.68,4932 6 and sale of castore oil as mentioned above.\n",
            "allowing the appeal by special leave, held: 1.\n",
            "it is correct to state that the presumption in FOB contracts is that it is the duty of the buyers to obtain export licence, though in the circumstances of a particular case this duty may fall on the seller.\n",
            "[928h; 929a b] 2.\n",
            "there is no circumstance which would justify a conclusion that the parties came to a special agreement that though the sales are on fOB contracts property in the goods would pass to the buyer at some point of time before shipment.\n",
            "if ultimately the actual despatch is made by some person who is not a registered dealer, it cannot strictly be said that the declaration has not been carried out.\n",
            "but if at the time a declaration of intention is made in the certificate the purchasing dealer had the intention as stated and ultimately\n"
          ]
        }
      ]
    },
    {
      "cell_type": "markdown",
      "source": [
        "### Rouge score metric test on actual summary and test summary"
      ],
      "metadata": {
        "id": "n-qfncaLAMne"
      }
    },
    {
      "cell_type": "code",
      "source": [
        "from rouge_score import rouge_scorer"
      ],
      "metadata": {
        "id": "om0aXShQQuYx"
      },
      "execution_count": null,
      "outputs": []
    },
    {
      "cell_type": "markdown",
      "source": [
        "### This is the actual summary that is true data"
      ],
      "metadata": {
        "id": "wdS4sulZAxnw"
      }
    },
    {
      "cell_type": "code",
      "source": [
        "print(test_summaries[20])"
      ],
      "metadata": {
        "colab": {
          "base_uri": "https://localhost:8080/"
        },
        "id": "PYNnuz2-QS4h",
        "outputId": "dc97bf87-fc0a-41e3-d789-5c9edd02552e"
      },
      "execution_count": null,
      "outputs": [
        {
          "output_type": "stream",
          "name": "stdout",
          "text": [
            "The Orissa Superior Judicial Service consisted of 15 posts.\n",
            "10 of which were District and Sessions Judges or Additional District and Sessions Judges; of the other five, one was Registrar of the High Court and four were officers of the State Government.\n",
            "P, one of the District and Sessions Judges was posted as Superintendent and Legal Remembrance in March 1962.\n",
            "B. an Additional Judge.\n",
            "was posted as Joint Secretary in the Law Department in the same month and sometime thereafter was posted as Superintendent and Legal Remembrance.\n",
            "D, a District and Sessions judge was posted in January 1962 as member.\n",
            "Sales Tax Tribunal, which was a non cadre post.\n",
            "In February 1965 the High Court took a policy decision to the effect that as a general rule, judicial officers working in special posts.\n",
            "whether cadre or non cadre.\n",
            "outside their regular line, should be called to the regular line after the completion of three years in the interest of the service as well as the officers, so that the officers did not become out of touch with judicial work.\n",
            "Although this policy decision was accepted by the State Government.\n",
            "it was not implemented ' in respect of P, B and D.\n",
            "The High Court being under the impression at the time that in law the Governor was the sole authority to effect the necessary transfers.\n",
            "did not take any action itself.\n",
            "After the decision of this Court in Ranga Mohammad 's case ; holding that the power to transfer Judges presiding over Courts vested with the High Court under article 235 of the Constitution.\n",
            "the High Court. issued an order on October 10.\n",
            "transferring P. B and D to judicial posts and posting to the administrative posts in their place, K. T and M who were doing judicial work till then.\n",
            "In pursuance of those orders K. T and M handed over charge of the posts they were holding and reported to the Secretariat for assuming charge of the administrative posts to which they were assigned.\n",
            "but the Government refused to accept them.\n",
            "The State Government directed P. B and D to continue in the posts they were previously holding and those officers acted in accordance with the orders of the Government.\n",
            "Consequently.\n",
            "some of the Sessions Divisions in the State were without District and Sessions Judges for several days and some Advocates practising in those Divisions filet/petitions before the High Court for a writ of mandamus against the Government.\n",
            "as well as the concerned officers to implement the transfers ordered by the High Court.\n",
            "They also sought a writ of quo warranto against P. B and D questioning the authority under which they were holding the administrative posts held by them until then.\n",
            "The High Court allowed the petition and directed the Governments to implement its orders forthwith.\n",
            "The Government implemented these orders on March 6.\n",
            "1967 and thereafter appealed to this Court, by special leave.\n",
            "155 HELD: (i) Although the High Court was within its powers.\n",
            "in posting P. B and D, the three officers holding administrative posts.\n",
            "as District and Sessions Judges, it was beyond its powers to post in their places three other officers to the administrative posts.\n",
            "Just as the executive cannot know the requirements of a particular court, the High Court cannot also know the requirements of any post in the Secretariat.\n",
            "It is for the Executive to say whether a particular officer would meet its requirements or not.\n",
            "The High Court cannot foist an officer on the Government.\n",
            "[163C D] While sparing the service of any judicial officer to the government it is open to the High Court to fix the period during which he may hold any executive post.\n",
            "At the end of that period, the government is bound to allow him to go back to his parent department unless the High Court agrees to spare his services for some more time.\n",
            "In other words, the period during which a judicial officer should serve in an executive post must be settled by agreement between the High Court and the government.\n",
            "If there is no such agreement it is open to the Government to send him back to his parent department at any time it pleases.\n",
            "It is equally open to the High Court to recall him whenever it thinks [163 F H] It was not the case of the contesting respondents that P, B and D did ' not have the necessary qualifications to hold the posts that they were holding or that they had not been validly appointed to those posts.\n",
            "In these circumstances the High Court could not have held that they had no authority to hold the posts in question.\n",
            "[159D] State of Assam vs Ranga Mohammad and Ors. ; ; State of West Bengal vs Nripendra Nath Baghi; ; ; explained and distinguished.\n",
            "(ii) A decision is only an authority for what it actually decides.\n",
            "What is of the essence in a decision is its ratio and not other observations found therein nor what logically follows from the various observations made in it.\n",
            "[162E F] Quin vs Leathem, ; ; referred to.\n",
            "\n"
          ]
        }
      ]
    },
    {
      "cell_type": "markdown",
      "source": [
        "### This is the summary generated by the model"
      ],
      "metadata": {
        "id": "d-b39S-TAmSW"
      }
    },
    {
      "cell_type": "code",
      "source": [
        "print(summary2[0]['summary_text'])"
      ],
      "metadata": {
        "colab": {
          "base_uri": "https://localhost:8080/"
        },
        "id": "bJT2lzMW01kb",
        "outputId": "006bd880-2cfc-46cb-d758-fc18fda89549"
      },
      "execution_count": null,
      "outputs": [
        {
          "output_type": "stream",
          "name": "stdout",
          "text": [
            "the Orissa Superior Judicial service (senior branch) is a combined cadre consisting of officers holding purely judicial posts as well as posts which are essentially administrative in character.\n",
            "out of these, the district and sessions judges and additional district and session judges were discharging purely judicial functions.\n",
            "in view of article 229 of the constitution, the power to appoint the registrar of the high court is exclusively that of the chief justice.\n",
            "under the government of india act 1935, the powers to transfer a district judge from one post to another was that of governor though that power was always exercised in consultation with the high courts and by and large on the recommendation of the High court.\n",
            "it appears that for some time past there were differences between the highcourt and the government about the posting of some of the judicial officers.\n",
            "the high court was anxious that a judicial officer occupying one of the administrative posts enumerated above, should not, in the interest of judicial work, continue in that post for an unduly long time.\n",
            "[157 g h; 157 a b] state of assam vs ranga mahammad & ors., [1966] 1 s.c.r. 689, referred to.\n",
            "state of west bengal vs nripendra Nath Bagchi, ; , followed.\n",
            "(i) the order of the supreme court holding that shri B.k. Patro, Shri K.K. Bose and shri P.C. dey had no authority to hold the posts they were holding must necessarily be outside the power of the Governor and fall to be made by the high 'court as part of the control vested in it by article 235 of the constitu tion.\n",
            "on the other hand, under article 233, the governor is only concerned with the appointment, promotion and posting to the cadre of district judges but not with the transfer of districts judges already appointed or promoted and posted to the Cadre which power is vested in the high `court under article 235 as the control given to the high \"court over the district courts under that article includes control over the officers who preside over those courts.\n",
            "there is no reason why there should be any conflict between the executive and the judiciary except for very good reasons.\n",
            "while sparing the service of any judicial officer to the government it is open to the High Court to fix the period during which he may hold any executive post.\n",
            "at the end of that period, the government is bound to allow him to go back to his parent department unless the High 'court agrees to spare his services for some more time. .\n",
            "if there is no such agreement it can be sent back to its parent department at any time it pleases.\n",
            "but if only there is mutual understanding and appreciation of the difficulties of the one by the other, there will be harmony.\n",
            "allowing the appeals, this court, held: 1.\n",
            "before going into the validity of the orders of transfer relating to the other officers, it is necessary to ascertain the law bearing on the subject.\n",
            "as seen earlier, the cadres of the superior judicial service senior branch consisted of not only the posts of district andsession judges and addl.\n",
            "district and sessions juries but also officers holding other posts.\n",
            "one of the officers included there is the Registrar of the hi tory.\n",
            "neither the government nor thehigh court could have posted any officer as the registra iary as that post can be filled only by the Chief Justice.\n",
            "to hold otherwise would be to contravene article 229of the constitution.\n",
            "similar posts of the law secretary, deputy law secretary and file superintendent and legal remembrancer cannot be considered as district courts or courts subordinate to district courts within the meaning of those words in article 235.[162 d e] 2.\n",
            "section 235(1) of the code of civil procedure provides that after a judicial magistrate is posted to tho cadre, it being for the high/court to effect his transfers, the central court should always be willing to spare for an agreed period the services of any of the police officers under its control for filling up such executive posts as may require their services of judicial officers.(2) section 235(3) states that both the high justices and the govern ment should not forget the fact that powers are conferred on them for the good of the public and they should advance a way in advance of a public welfare act so as to advance the public interest.\n",
            "a special purpose has been placed at the disposal of all the organs of the higher judicial service.\n",
            "that is to say, every decision is merely incidental to the question of what is actually decided.\n",
            "what is actually found in the essence of the rule laid down therein is the ratio of the number of seats in the secretariat to the total number of vacancies in the same cadre.\n",
            "such a ratio is neither intended to be expositions of the whole law but governed\n"
          ]
        }
      ]
    },
    {
      "cell_type": "code",
      "source": [
        "source_texts=test_judgements[2]\n",
        "reference_summary=test_summaries[20]\n",
        "generated_summary=summary2[0]['summary_text']"
      ],
      "metadata": {
        "id": "ywf557T9R2YU"
      },
      "execution_count": null,
      "outputs": []
    },
    {
      "cell_type": "code",
      "source": [
        "scorer=rouge_scorer.RougeScorer(['rouge1','rouge2','rougeL'],use_stemmer=True)\n",
        "rouge_scores=scorer.score(reference_summary,generated_summary)"
      ],
      "metadata": {
        "id": "uPxypG6HR2b9"
      },
      "execution_count": null,
      "outputs": []
    },
    {
      "cell_type": "markdown",
      "source": [
        "### This is the score we are getting"
      ],
      "metadata": {
        "id": "0Kq-RJcTBMGq"
      }
    },
    {
      "cell_type": "code",
      "source": [
        "for metric,score in rouge_scores.items():\n",
        "  print(f'{metric} : {score}')"
      ],
      "metadata": {
        "colab": {
          "base_uri": "https://localhost:8080/"
        },
        "id": "9_ckEfnsR4Or",
        "outputId": "5076f383-4908-42cb-c30b-446ec5fe8936"
      },
      "execution_count": null,
      "outputs": [
        {
          "output_type": "stream",
          "name": "stdout",
          "text": [
            "rouge1 : Score(precision=0.6311377245508982, recall=0.6229314420803782, fmeasure=0.627007733491969)\n",
            "rouge2 : Score(precision=0.28896882494004794, recall=0.285207100591716, fmeasure=0.2870756402620607)\n",
            "rougeL : Score(precision=0.28263473053892213, recall=0.2789598108747045, fmeasure=0.280785246876859)\n"
          ]
        }
      ]
    },
    {
      "cell_type": "markdown",
      "source": [
        "### Extracting the templates and static"
      ],
      "metadata": {
        "id": "18XaD3QoBRS1"
      }
    },
    {
      "cell_type": "code",
      "source": [
        "! unzip '/content/drive/MyDrive/Legal Summarization/templates.zip' -d '/content/templates'\n",
        "! unzip '/content/drive/MyDrive/Legal Summarization/static.zip' -d '/content/static'"
      ],
      "metadata": {
        "colab": {
          "base_uri": "https://localhost:8080/"
        },
        "id": "Sn5YeDQuK9jN",
        "outputId": "17a1b938-2de2-406a-cd7f-5be3221e6f7b"
      },
      "execution_count": null,
      "outputs": [
        {
          "output_type": "stream",
          "name": "stdout",
          "text": [
            "Archive:  /content/drive/MyDrive/Legal Summarization/templates.zip\n",
            "   creating: /content/templates/.ipynb_checkpoints/\n",
            "  inflating: /content/templates/index.html  \n",
            "  inflating: /content/templates/results.html  \n",
            "Archive:  /content/drive/MyDrive/Legal Summarization/static.zip\n",
            "   creating: /content/static/.ipynb_checkpoints/\n",
            "   creating: /content/static/css/\n",
            "  inflating: /content/static/top-view-frame-with-contract-wooden-judge-gavel.jpg  \n",
            "   creating: /content/static/css/.ipynb_checkpoints/\n",
            "  inflating: /content/static/css/main.css  \n",
            "  inflating: /content/static/css/style.css  \n"
          ]
        }
      ]
    },
    {
      "cell_type": "code",
      "source": [
        "!pip install pyngrok"
      ],
      "metadata": {
        "colab": {
          "base_uri": "https://localhost:8080/"
        },
        "id": "Pb1wyylbiNta",
        "outputId": "aa489f3f-aa92-4189-bf77-bcf988d40c42"
      },
      "execution_count": null,
      "outputs": [
        {
          "output_type": "stream",
          "name": "stdout",
          "text": [
            "Requirement already satisfied: pyngrok in /usr/local/lib/python3.10/dist-packages (7.1.6)\n",
            "Requirement already satisfied: PyYAML>=5.1 in /usr/local/lib/python3.10/dist-packages (from pyngrok) (6.0.1)\n"
          ]
        }
      ]
    },
    {
      "cell_type": "markdown",
      "source": [
        "### We are actually using the first version of the model because it gives more all rounded summaries that have more better grammatical design"
      ],
      "metadata": {
        "id": "cKZ7EL1byot6"
      }
    },
    {
      "cell_type": "code",
      "source": [
        "from transformers import LEDForConditionalGeneration, LEDTokenizer,pipeline\n",
        "\n",
        "! unzip '/content/drive/MyDrive/Legal Summarization/Legal_model_tokenizer_directory.zip' -d '/content/Legal_model_tokenizer_directory'\n",
        "! unzip '/content/drive/MyDrive/Legal Summarization/summarization_model.zip' -d '/content/summarization_model'\n",
        "\n",
        "\n",
        "locally_saved_model=LEDForConditionalGeneration.from_pretrained('/content/summarization_model')\n",
        "locally_saved_tokenizer=tokenizer=LEDTokenizer.from_pretrained('/content/Legal_model_tokenizer_directory')"
      ],
      "metadata": {
        "id": "as6-N3LjN5Tt"
      },
      "execution_count": null,
      "outputs": []
    },
    {
      "cell_type": "markdown",
      "source": [
        "### Here is our web application interface for hassle free summarization"
      ],
      "metadata": {
        "id": "lrr2ohz5y3yQ"
      }
    },
    {
      "cell_type": "code",
      "source": [
        "from pyngrok import ngrok"
      ],
      "metadata": {
        "id": "VcVqu0dtiQFa"
      },
      "execution_count": null,
      "outputs": []
    },
    {
      "cell_type": "code",
      "source": [
        "from flask import Flask,request,render_template\n",
        "import nltk"
      ],
      "metadata": {
        "id": "fzW557dhHZMc"
      },
      "execution_count": null,
      "outputs": []
    },
    {
      "cell_type": "code",
      "source": [
        "app=Flask(__name__)\n",
        "port_no = 5000\n",
        "ngrok.set_auth_token('2dW7qeQXYf1RbmtHWu1mUriKQnC_6qjCtetiLtbfKXVY6R1ZZ')\n",
        "public_url = ngrok.connect(port_no).public_url\n",
        "\n",
        "@app.route('/')\n",
        "def homepage():\n",
        "  return render_template('index.html')\n",
        "\n",
        "@app.route('/summary_generation',methods=['POST','GET'])\n",
        "def main_function():\n",
        "  output=''\n",
        "  input_article=''\n",
        "  if request.method=='POST':\n",
        "    try:\n",
        "      pipe1 = pipeline(\"summarization\", model=locally_saved_model,tokenizer=locally_saved_tokenizer,device=0)\n",
        "\n",
        "      length_parameter=int(request.form.get('length_of_summary_required'))\n",
        "      input_article=request.form.get('main_article')\n",
        "      gen_kwargs={'length_penalty':1.0,'max_length':length_parameter,'num_beams':16}\n",
        "      output_summary=pipe1(input_article,**gen_kwargs)\n",
        "      output=output_summary[0]['summary_text']\n",
        "\n",
        "    except Exception as e:\n",
        "      output=e\n",
        "\n",
        "  return render_template('results.html',original_text=input_article, summary=output)\n",
        "\n",
        "print(f'here is your global link {public_url}')\n",
        "\n",
        "if __name__=='__main__':\n",
        "  app.run(port=port_no)\n",
        "\n",
        "\n",
        "\n",
        "\n",
        "\n"
      ],
      "metadata": {
        "colab": {
          "base_uri": "https://localhost:8080/"
        },
        "id": "b9g3KjP9QDb2",
        "outputId": "c583b70d-71f3-4b65-f2bb-5ae68269a4ca"
      },
      "execution_count": null,
      "outputs": [
        {
          "output_type": "stream",
          "name": "stdout",
          "text": [
            "here is your global link https://3adc-34-125-139-6.ngrok-free.app\n",
            " * Serving Flask app '__main__'\n",
            " * Debug mode: off\n"
          ]
        },
        {
          "output_type": "stream",
          "name": "stderr",
          "text": [
            "INFO:werkzeug:\u001b[31m\u001b[1mWARNING: This is a development server. Do not use it in a production deployment. Use a production WSGI server instead.\u001b[0m\n",
            " * Running on http://127.0.0.1:5000\n",
            "INFO:werkzeug:\u001b[33mPress CTRL+C to quit\u001b[0m\n",
            "INFO:werkzeug:127.0.0.1 - - [29/May/2024 21:13:01] \"GET / HTTP/1.1\" 200 -\n",
            "INFO:werkzeug:127.0.0.1 - - [29/May/2024 21:13:01] \"GET /static/top-view-frame-with-contract-wooden-judge-gavel.jpg HTTP/1.1\" 200 -\n",
            "INFO:werkzeug:127.0.0.1 - - [29/May/2024 21:13:08] \"\u001b[33mGET /favicon.ico HTTP/1.1\u001b[0m\" 404 -\n",
            "Input ids are automatically padded from 6027 to 6144 to be a multiple of `config.attention_window`: 1024\n",
            "INFO:werkzeug:127.0.0.1 - - [29/May/2024 21:13:55] \"POST /summary_generation HTTP/1.1\" 200 -\n",
            "INFO:werkzeug:127.0.0.1 - - [29/May/2024 21:13:55] \"\u001b[36mGET /static/top-view-frame-with-contract-wooden-judge-gavel.jpg HTTP/1.1\u001b[0m\" 304 -\n"
          ]
        }
      ]
    },
    {
      "cell_type": "markdown",
      "source": [
        "### we can try few test judgements from here"
      ],
      "metadata": {
        "id": "PkgFuEqjPYfe"
      }
    },
    {
      "cell_type": "code",
      "source": [
        "test_judgements[8]"
      ],
      "metadata": {
        "id": "p015u1TZDiH5",
        "colab": {
          "base_uri": "https://localhost:8080/",
          "height": 140
        },
        "outputId": "2d77156e-622a-4b08-c827-11f2b0118aa6"
      },
      "execution_count": null,
      "outputs": [
        {
          "output_type": "execute_result",
          "data": {
            "text/plain": [
              "'Appeals Nos. 884 887 of 1962.\\nAppeals from the judgment and decree dated May 2, 1960, of the Rajasthan High Court in Civil Second Appeal Nos.\\n268 of 1954, 203 of 1955, 4 of 1954 and 27 of 1954.\\nsection K. Kapur and B. R. G. K. Achar, for the appellant \\'in allthe appeals).\\nR. P. Modi and R. K. Garg, for the respondents (in C.A. No. 887/1962).\\nMarch 12, 1964.\\nThe Judgment of the Court was delivered by WANCHOO, J.\\nThese four appeals arise out of four certi ficates granted by the High Court of Rajasthan and raise a common question.\\nWe therefore, propose to set out facts in one of the present appeals (No. 887), as the facts in other appeals are similar, except that the commodity involved was different and so was the amount in dispute.\\nThe suit out \\'of which appeal No. 887 has arisen was filed by the respondent against the State of Rajasthan.\\nThe respondent was a resident of the former Dholpur State and the dispute which led to the suit related to a time before the merger of former Dholpur State into the Matsya Union.\\nThe case of the respondent was that in 1947 certain commodities including chuni with which appeal No. 887 is concerned could only be exported from the former Dholpur State on export permits issued by the customs department of the said State.\\nIt was also the practice in that State that when permits for export were issued, export duties had to be paid in advance, though the actual export was made later.\\nConsequently, in June 1947 the respondent applied for and was granted a permit for export of 15,000 maunds of chuni, and in connection therewith he deposited Rs. 30,000/as export duty in advance.\\nThis permit had been granted on June 28, 1947 and remained in force upto December 2, 1947.\\nThe respondent however was not able to export the entire quantity of 15,000 maunds for which the permit was granted; he could only export 4,572 maunds and 20 seers of chuni before December 2, 1947.\\nThereafter he could not export further as his permit was not extended.\\nIt was alleged on behalf of the respondent that the reason why he failed to export the entire 176 quantity of the commodity before December 2, 1947 was due to market conditions and inability to get allotment of railway wagons.\\nThe respondent \\'s case further was that as he could not export the entire quantity of 15,000 maunds for which he had paid export duty in advance at the rate of Rs. 2/ per maund, he was entitled to refund of the proportionate export duty for the quantity of 10,427 maunds and 20 seers, which he could not export.\\nHis case further was that though he asked the State for refund of this advance duty, the State did not pay back the same to him.\\nIn the meantime, rapid constitutional changes took place after August 15, 1947.\\nBy May 15, 1949, the United State of Rajasthan was formed including the Matsya Union into which the former State of Dholpur had merged on March 17, 1948.\\nThe United State of Rajasthan eventually became the Part B State of Rajasthan on January 26, 1950 when the Constitution came into force.\\nEventually when the State refused to refund the amount, the suit was filed, out of which appeal No. 887 has arisen, in January 1952.\\nThe respondent claimed refund of Rs. 20,855/ along with interest and costs.\\nThe suits were resisted by the State of Rajasthan on various grounds; but we are concerned now only with one ground which alone has been urged before us, namely, that the State of Rajasthan was not bound by any liability which might have arisen against the former State of Dholpur.\\nIt was a new sovereign and was not bound by any obligation against the old sovereign of the former State of Dholpur unless it chose to recognise the obligation.\\nAs the United State of Raja sthan into which the former State of Dholpur came to be merged in 1949 never recognised the obligations of the former State of Dholpur it was not bound to refund the amount due to the respondents.\\nIn reply to this contention of the State, the respondent relied on article 295(2) of the Constitution and other provisions made during the period when mergers were taking place after August 15, 1947 and contended that in view of article 295(2) of the Constitution the State of Rajasthan was bound by the obligation of the former State of Dholpur.\\nBefore we refer to the decisions of the courts below with regard to this controversy it would be convenient to clear the ground by indicating the admitted position, which resulted in the inclusion of the former Dholpur State into the Part B State of Rajasthan, which came into existence on January 26, 1950 and which would be bound by article 295(2) of the Constitution.\\nThe former Dholpur State remained a separate entity till March 17, 1948, though it had acceded to the Dominion of India after August 15, 1947 with respect to three subjects, namely, communications, defence and external affairs.\\nIn 1948, however, the process of merger in Rajasthan began and the 177 first merger that took place was of the former States of Alwar, Bharatpur, Dholpur and Karauli, which formed the Matsya Union as from March 18, 1948 by a Covenant entered on February 28, 1948.\\nIt is not in dispute that on this merger, provision was made for the continuance of the laws in the covenanting State till such time as they were modified by the new State.\\nProvision was also made in the Covenant that all the assets and liabilities of the covenanting States shall be the assets and liabilities of the new State of Matsya.\\nThen came another union of certain other Rulers in Rajasthan in March 1948 by which these Rulers united under the Ruler of Udaipur to form what later came to be known as the Former State of Rajasthan.\\nIn March 1949, the United State of Rajasthan was formed by Covenant entered into by fourteen Rulers of Rajasthan, including these who had formed the Former State of Rajasthan.\\nand this State came into existence from April 7.\\nIt may be mentioned here that when this State came into existence on April 7, 1949, it provided for the continuance of all laws till they were repealed or amended by the new State.\\nThere was also a provision in the Covenant by which the assets and liabilities of the covenanting States became the assets and liabilities of the new State.\\nIn this State of United State of Rajasthan, the State of Matsya, merged in May 1949, and thus the former State of Dholpur came to be included in the United State of Rajasthan through the Matsya Union.\\nWhen this merger took place it is not in dispute that the exis ting laws were to continue till they were repealed or altered by the new State.\\nIt is also not in dispute that the assets and liabilities of the Matsya Union were taken over as the assets and liabilities of the United State of Rajasthan in which the Matsya Union merged.\\nFinally the United State of Rajasthan in which the State of Sirohi was also merged became the Part B State of Rajasthan on January 26, 1950.\\nAt this time also article 372 of the Constitution continued the existing laws subject to their being altered or repealed by the new State.\\nFurther article 295(2) provided that the Government of each State specified in Part B of the First Schedule shall, as from the commencement of the Constitution, be the successor of the Government of the corresponding Indian State as regards all property and assets and all rights, liabilities and obligations.\\nwhether arising out of any contract or otherwise, other than those referred to in cl.\\nThis was subject to any agreement entered into in that behalf by the Government of India with the Government of the State concerned.\\nThis completes the narration of the political changes that took place till the Constitution came into force on January 26, 1950.\\nWe have already indicated that a number of defences were raised on behalf of the State of Rajasthan and these de fences were negatived by the trial court in three suits.\\nOne 178 of the suits, out of which appeal No. 886 has arisen, was ismissed by the trial Court.\\nThe State went in appeal in two of the suits to the District Judge and in one (out of which appeal No. 887 has arisen) to the High Court direct in view of the valuation.\\nIn the fourth suit, the plaintiff went in appeal to the District Judge.\\nThe appeals of the State to the District Judge were substantially dismissed while the appeal in the fourth suit by the plaintiff was substantially allowed.\\nThen followed three second appeals to the High Court by the State.\\nThese second appeals were heard along with the first appeal in the High Court.\\nIt seems that in the High Court for the first time a point was raised that the liability of the former Dholpur State did not fasten on the State of Rajasthan as it emerged on January 26, 1950.\\nThe High Court permitted the point to be raised as it was a pure question of law.\\nAU the appeals came before a Division Bench of the High Court.\\nThe two learned Judges composing the Division Bench disagreed on this question of the liability of the State of Rajasthan under article 295(2) in respect of the liability of the former State of Dholpur.\\nThereupon there was a reference to a Full Bench on the question of liability which was formulated by the learned Judges thus: \"Whether the expression \\'Government of the corresponding State \\' used in article 295(2) of the Constitution with reference to Rajasthan properly means the Government of the United State of Rajasthan which was the only Indian State in existence at the time of the commencement of the Constitution or it also includes the Government of any of the Covenanting States which had integrated with the United State before the Constitution came into operation.\\n\" The three learned Judges who heard the reference were unanimously of the opinion that the expression \"Government of the corresponding State\" used in article 295(2) of the Constitution with reference to Rajasthan meant not only the Government of the United State of Rajasthan, but also the United State of Rajasthan including its component units.\\nThe matter then went back to the Division Bench.\\nThe three second appeals were dismissed by the High Court.\\nThe first appeal out of which appeal No. 887 had arisen was also dismissed except that no interest was allowed upto the date of decree and the amount was reduced to the actual excess export duty, which had been deposited in advance and it was ordered to be refunded.\\nThe only question that has been raised before us on behalf of the appellant is about the liability of the State of Rajasthan under article 295(2) of the Constitution in respect of the obligations of the former State of Dholpur, which came to be 179 included in the State of Rajasthan on account of political changes to which we have already referred.\\nIn this connection, the appellant relies on the decision of this Court in M/s. Dalmia Dadri Cement Co. Ltd. vs The Commissioner of Incometax.\\n(1)That case dealt with the Covenant creating the State of Pepsu and particularly article VI thereof The covenant in the State of Pepsu was more or less similar in terms to the Covenant in the United State of Rajasthan.\\nThis Court reviewed certain cases relating to the acquisition of territory by cession or by conquest, and held that it made no difference whether acquisition of new territory was by an existing State by conquest or by cession or a new State came into existence by agreement out of territories belonging to some former States.\\nIn either case, it was held that there was establishment of new sove reignty over the territory in question and that was an act of State.\\nIn consequence this Court further held that the Covenant by which the new State of Pepsu came into existence was in its entirety an act of State and that article VI therein could not operate to confer any right on the company as against the new State, for the principle was well settled that clauses in treaties entered into by sovereigns of independent States whereunder sovereignty in territories passed from one to the other providing for the recognition by the new sovereign of the existing rights of the residents of those territories must be regarded as invested with the character of an act of State and no claim based thereon could be enforced in a court of law.\\nThis Court also negatived the argument which was urged in that case that part of the Covenant was an interim Constitution and head that the Covenant was in whole or in part an act of State and could not be treated as an interim Constitution.\\nStrong reliance is placed on behalf of the appellant on that decision in support of the contention that even if there was any liability of the former State of Dholpur to; refund the amount of tax collected in advance for no export was made, that liability did not devolve on the Part B State of Rajasthan under article 295(2) of the Constitution, as there was no recognition of this liability by the new State at any time and in that respect the present case was on all fours with that decision.\\nAfter laying down the above principles, this Court proceeded to consider in that decision the particular point raised before it.\\nThat point was with respect to a clause in an agreement between the Ruler of the former Jind State and the Dalmia Dadri Cement Company with respect to income tax and certain concessions given to the company in that behalf.\\nThe question that arose in that connection was whether there had been any recognition of the concessions by the new sovereign; and this Court held that there was no recognition of the concessions.\\nIn that connection reference was made to Pepsu Ordinance No. 1 of 2005, dated August 20, 1948 by section 3 of which (1) [1959] section C. R. 729.\\n180 all laws in all Covenanting States were repealed and the laws in force in the State of Patiala were to apply mutatis mutandis to the entire territories of the new State.\\nThis Ordinance was repealed and replaced by Ordinance XVI of Samvat 2006 which came into force on February 5, 1949 and which contained an exactly similar provision.\\nThis Court therefore held that if the agreement was treated as a special law, it must be deemed to have been repealed by section 3 of Ordinance No. 1.\\nIt further held that the repeal of all laws in the covenanting States other than Patiala and their replacement by the Patiala laws showed that the new sovereign did not recognise the rights of the subjects of the covenanting States arising from any law in force thereafter the State of Pepsu came into existence.\\nThere fore it was held in that case that the concessions in the agreement came to an end when Ordinance No. 1 was passed as they were never recognised by the new sovereign and could not be availed of by the company.\\nIt would be noticed that the decision that the new sovereign had not recognised the rights in States other than Patiala was based on the fact that Ordinance No. 1 repealed all laws in all States other than Patiala and applied the Patiala laws to the entire territory.\\nThis was the basis of the particular decision arrived at in that case (apart from the general principles laid down in connection with the cession of territory to which we have already referred), and we shall refer to it when dealing with the facts in the present case.\\nFurther though in that case it was held that article VI could not be enforced by citizens against the new sovereign as it was part of the Covenant, which was an act of State, this Court went on to point out that article VI of the Covenant would be valuable evidence from which affirmance of the rights mentioned therein could be inferred and added that such inference must relate to act or conduct of the new State after it came into existence.\\nIf there were any acts of the new State which were equivocal in character, it would have been possible to bold in the light of article VI of the Covenant that its intention was to assume the liabilities.\\nIn that case, however, this Court refused to treat article VI even as evidence because it pointed out that the first act of the new sovereign was the application of the Patiala State laws, including the Patiala Income tax Act, to the territories of Jind involving negation of the rights claimed in that case.\\nBut apart from the particular decision in that case, we have to proceed on the basis of the general proposition enunciated in that case as to the effect of the coming into existence of a new State even in the manner in which the State of Pepsu or the United State of Rajasthan came into existence after their respective Covenants, and it is to this aspect of the matter we shall now turn.\\nWe have already indicated when dealing with the history of the political changes which eventually culminated in the 181 Part B State of Rajasthan after the coming into force of the Constitution that two matters were always provided for there during all this process of merger.\\nThe first was that each time a merger took place the new State by a provision in the Covenant took over the assets and liabilities of the merging States.\\nThis provision in the Covenant could not be availed of by the subjects of the new State as, in view of the decisions in Dalmia Dadri Cement Co. \\'s case(1) the Covenant in whole or in part was an act of State.\\nBut according to the same decision the presence of such a clause in the Covenant throughout would be valuable evidence which would show that the new State assumed the liabilities of the merging State, if there are any acts of the new State which are equivocal in character.\\nNow we find from the history we have already narrated above that every time there was a merger and formation of a new State, the old laws were always to continue till they were repealed, amended or altered by the new State.\\nWe are of opinion that when the new State continued all the old laws till they were altered or repealed, and there was specific provision in each Covenant that the assets and liabilities of the Covenanting States were to be the assets and liabilities of the Union the new State must have intended to respect all the rights flowing from laws so continued and assume all liabilities arising from the existence of those laws.\\nOtherwise we see no sense or purpose in continuing the old laws till they are altered or repeated if the intention was that the obligations and liabilities flowing from the continuance of the old laws would notwithstanding the Covenant not be assumed by the new State.\\nIf the intention was otherwise, we should have found a provision similar to that in the Pepsu case by which all the old laws were repealed in the merging States except Patiala and the Patila laws were to continue in the entire territory giving rise to such rights only as the Patiala Laws recognised or conferred.\\nBut whereas in the present case the old laws were to continue till they were repealed or altered it follows in our opinion that the rights arising under the old laws in the subjects of the merging States would continue and these subjects would have the same rights against the new State as they would have under the old laws against the merging State.\\nThus by continuing the old laws, till they are repealed, altered or modified, the new State in effect undertook the liability which might arise against it by virtue of the continuance of the old laws, Even if there was some doubt about the new State undertaking the liabilities of the old State in view of the continuance of the old laws, we can in accordance with the decision in the Daltia Dadri Cement Co. \\'s case(1) look to article VI of the Covenant to come to the conclusion that on continuing the old laws, until they were altered, repealed or modified, the (1) [1959] S.C.R. 729.\\n182 new State intended to affirm the rights of the subjects which they had against the merging State and to assume itself the liability if any arising against the merging State.\\nThis is the basic difference between the Dalmia Dadri Cement Company case(1) and the present case, for in that case the old laws were repealed and thus repudiated in areas other than Patiala State while in the present case the old laws were continued till they were repealed or altered; and in view of that basic difference between that case and the present case we can legitimately call in aid article VI of the Covenant and similar provisions which were always made throughout this process of merger in Rajasthan and treat them as evidence from which to come to the conclusion that the new State, by continuing the old laws, without change till they were repealed or altered, recognised that it was liable in the same way as would have been the merging State if there was any liability on the merging State.\\nBut this was of course subject to any law made by the new State repealing the old laws and the liabilities arising there under or even otherwise, provided the law so made was within the competence of the new State and after the Constitution came into force it did not transgress the constitutional limitations.\\nThe result would be that the new State would be bound by the liabilities of the merging States and as similar provisions were there always throughout till we reach the Part B State of Rajasthan, it follows that there was always recognition of the rights of the subjects and that the new State assumed liabilities of the old State, throughout this process.\\nThis was of course subject to any law passed by the New State provided that law was within its competence and after the Constitution came into force did not transgress the limitations contained therein.\\nIn these circumstances we are of opinion that the new sovereign throughout this process of integration from 1948 to 1950 must be taken to have recognised the rights of the subjects and undertaken the liability, if any, of the old States.\\nIt follows therefore that the State of Rajasthan will be liable under article 295(2) of the Constitution to meet the liabilities of all old States which eventually were included in it subject always to this that if the new State passed any law repealing the old law which would affect the liability or even otherwise that law would prevail and the liability may disappear provided the new law is within the competence of the State legislature and does not transgress the constitutional limitations after the Constitution came into force.\\nWe are therefore of opinion that there was recognition of liability by the new State throughout this process and under the circumstances the suit was main tainable against the Part B State of Rajasthan in view of article 295(2) of the Constitution.\\nIn this view of the matter we consider that it is unnecessary to decide whether the particular words used in article 295(2) include not only the United State of Rajasthan as it was just before January 26, 1950 but also the 183 old States which came to be merged into it through the process to which we have already referred.\\nWhether that is so or not, it follows in view of the history to which we have referred that there was always recognition by the new State of its liability in the manner already referred to with respect to the liabilities of the merging States, and if there is any doubt about it that doubt in our opinion is resolved by the existence of article VI or similar provision throughout the process of these political changes.\\nIn this connection we may also refer to section 3 of the Raja sthan Administration Ordinance No. 1 of 1949, which conti nued existing laws of the old States till they were altered by the competent legislature or other competent authority in the new State.\\nSection 3 further said that the old laws will continue in force in the State concerned subject to the modification that reference therein to the Ruler or Government of that State shall be construed as a reference to the Rajpramukh or, as the case may be, to the Government of Rajasthan.\\nThese words also indicate that whatever could be enforced under the laws in force in a State against the Ruler or the Government of the merging State could be enforced against the Rajpramukh or the Government of the new State.\\nThis further bears out the conclusion that the new State recognised the rights of the subjects of the old States flowing from the old laws and was prepared to undertake the liability that may lie on it in consequence thereof.\\nWe therefore agree with the Full Bench that the liability lay upon the State of Rajasthan because there was recognition of the liability even on the principles enunciate in the Dalmia Dadri Cement Company \\'s case(1).\\nIn this view of the matter we need not express any view on the question whether the expression \"Government of the corresponding Indian State\" used in Art 295(2) would mean only the United State of Rajasthan as it was on January 26, 1950 or would also include all the former States which came to be merged in the United State of Rajasthan as it was on January 26,1950.\\nIt only remains now to, refer to another decision of this Court in Maharaja Shree Umaid Mill Limited vs Union of India (2).\\nIn that case there was an agreement between the Ruler of the former State of Jodhpur and the Maharaja Shree Umaid Mills Limited by which certain exemptions from income tax and excise duty were granted to the Mills.\\nTwo questions arose for decision there.\\nThe first was whether excise could be levied on the cloth manufactured and the second was whether income tax could be levied on the income of the Mills, in view of the agreement between the Mills and the former Ruler of Jodhpur.\\nThe first question that was raised in that case was whether the agreement was a law; and this Court held that (1) [1959] S.C.R. 729.\\n(2) ; 184 the agreement was not a law.\\nWith that aspect of the matter we are not concerned in the present appeals.\\nThe next question that arose was whether the agreement had been recognized by the new sovereign and reliance was placed on the continuance of laws and article VI of the Covenant in that connection, and it was urged that in view of article 295 of the Constitution the exemption as provided in the agreement continued.\\nIn that case, however, there was one vital difference; even though the old laws were continued for the time being by Rajasthan Ordinance No. 1 of 1949 the new State passed the Rajasthan Excise Duties Ordinance 1949 some time after.\\nThat Ordinance clearly applied to the Mills and there was no doubt as to the State \\'s competence to enact it.\\nIn view of that law, the exemption in the agreement was held not to have been affirmed by the new State of Rajasthan.\\nThe facts of that case are thus different from the facts in the present case, for there was a competent law which clearly negatived the recognition of such an agreement and which clearly provided for excise duties.\\nSo far as income tax was concerned it was imposed as from April 1, 1950 after the Constitution had come into force.\\nHere again we find a law which was competently passed by Parliament and which did not transgress any of the constitutional limitations.\\nSuch a law therefore must prevail and in the presence of such a law there can be no question of recognition by the Union of the right to exemption, if any, under the agreement with the Ruler of the former Jodhpur State.\\nTherefore, with respect to both the claims raised in that case there was a law which clearly applied to the Mills and it was held that there was no recognition by the new sovereign.\\nIn the present case we have only the continuance of the old laws and the valuable evidence afforded by article VI of the Covenant and there is nothing to show that the right to claim refund was taken away by any law competently passed.\\nIn this view of the matter we are of opinion that the appellant can derive no assistance from the case of Maharaja Shree Umaid Mills(1).\\nThe appeals therefore fail and are hereby dismissed.\\nRes pondent in Appeal No. 887 will get his costs from the appel lant.\\nAppeals dismissed.\\n'"
            ],
            "application/vnd.google.colaboratory.intrinsic+json": {
              "type": "string"
            }
          },
          "metadata": {},
          "execution_count": 68
        }
      ]
    },
    {
      "cell_type": "code",
      "source": [],
      "metadata": {
        "id": "lHKHZy6BFAKc"
      },
      "execution_count": null,
      "outputs": []
    }
  ]
}